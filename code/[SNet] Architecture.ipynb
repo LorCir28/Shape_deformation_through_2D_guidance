{
  "nbformat": 4,
  "nbformat_minor": 0,
  "metadata": {
    "colab": {
      "provenance": [],
      "gpuType": "T4"
    },
    "kernelspec": {
      "name": "python3",
      "display_name": "Python 3"
    },
    "language_info": {
      "name": "python"
    },
    "accelerator": "GPU"
  },
  "cells": [
    {
      "cell_type": "markdown",
      "source": [
        "#Globals"
      ],
      "metadata": {
        "id": "vIybo8UGLJYG"
      }
    },
    {
      "cell_type": "code",
      "source": [
        "global_var = {\n",
        "    # Data\n",
        "    'mesh_data_path' : \"/content/mesh_data\",\n",
        "    'mesh_data_url' : \"https://drive.google.com/drive/folders/1SRWjFd98IfoWbOm20_RnB90DKem6RYaY?usp=sharing\",\n",
        "\n",
        "    # Networks\n",
        "    'hidden_dim' : 256,\n",
        "    'print_debug' : True,\n",
        "    'verts_dim' : 3,\n",
        "    'emb_net_depth' : 4,\n",
        "    'disp_dim' : 1,\n",
        "    'disp_net_depth' : 2,\n",
        "    'norm_ratio' : 0.1,\n",
        "\n",
        "    # Rendering\n",
        "    'rendered_items' : 4\n",
        "}"
      ],
      "metadata": {
        "id": "Exp1t-XwLJDV"
      },
      "execution_count": 1,
      "outputs": []
    },
    {
      "cell_type": "code",
      "source": [
        "!pip install gdown open3d --quiet"
      ],
      "metadata": {
        "id": "vl5llwkULPtp",
        "colab": {
          "base_uri": "https://localhost:8080/"
        },
        "outputId": "85965748-da6b-4b65-c9b9-4a727d76a554"
      },
      "execution_count": null,
      "outputs": [
        {
          "output_type": "stream",
          "name": "stdout",
          "text": [
            "\u001b[2K     \u001b[90m━━━━━━━━━━━━━━━━━━━━━━━━━━━━━━━━━━━━━━━━\u001b[0m \u001b[32m420.5/420.5 MB\u001b[0m \u001b[31m2.0 MB/s\u001b[0m eta \u001b[36m0:00:00\u001b[0m\n",
            "\u001b[2K     \u001b[90m━━━━━━━━━━━━━━━━━━━━━━━━━━━━━━━━━━━━━━━━\u001b[0m \u001b[32m10.2/10.2 MB\u001b[0m \u001b[31m37.5 MB/s\u001b[0m eta \u001b[36m0:00:00\u001b[0m\n",
            "\u001b[2K     \u001b[90m━━━━━━━━━━━━━━━━━━━━━━━━━━━━━━━━━━━━━━━━\u001b[0m \u001b[32m77.1/77.1 kB\u001b[0m \u001b[31m5.3 MB/s\u001b[0m eta \u001b[36m0:00:00\u001b[0m\n",
            "\u001b[2K     \u001b[90m━━━━━━━━━━━━━━━━━━━━━━━━━━━━━━━━━━━━━━━━\u001b[0m \u001b[32m139.4/139.4 kB\u001b[0m \u001b[31m5.7 MB/s\u001b[0m eta \u001b[36m0:00:00\u001b[0m\n",
            "\u001b[2K     \u001b[90m━━━━━━━━━━━━━━━━━━━━━━━━━━━━━━━━━━━━━━━━\u001b[0m \u001b[32m2.3/2.3 MB\u001b[0m \u001b[31m40.1 MB/s\u001b[0m eta \u001b[36m0:00:00\u001b[0m\n",
            "\u001b[2K     \u001b[90m━━━━━━━━━━━━━━━━━━━━━━━━━━━━━━━━━━━━━━━━\u001b[0m \u001b[32m1.6/1.6 MB\u001b[0m \u001b[31m41.7 MB/s\u001b[0m eta \u001b[36m0:00:00\u001b[0m\n",
            "\u001b[?25h"
          ]
        }
      ]
    },
    {
      "cell_type": "markdown",
      "source": [
        "#Imports"
      ],
      "metadata": {
        "id": "y1jlgpoqLMk_"
      }
    },
    {
      "cell_type": "code",
      "source": [
        "import copy\n",
        "import gdown\n",
        "import matplotlib.pyplot as plt\n",
        "import numpy as np\n",
        "import open3d as o3d\n",
        "import os\n",
        "import plotly.graph_objects as go\n",
        "import random\n",
        "import sys\n",
        "import torch\n",
        "import torch.nn as nn\n",
        "import torch.nn.functional as F\n",
        "import torch.optim as optim\n",
        "import torchvision\n",
        "\n",
        "from torchvision import transforms\n",
        "from tqdm import trange"
      ],
      "metadata": {
        "id": "bbEtpsGELUZJ"
      },
      "execution_count": 1,
      "outputs": []
    },
    {
      "cell_type": "code",
      "source": [
        "if torch.__version__.startswith(\"2.1.\") and sys.platform.startswith(\"linux\"):\n",
        "    # We try to install PyTorch3D via a released wheel.\n",
        "    pyt_version_str=torch.__version__.split(\"+\")[0].replace(\".\", \"\")\n",
        "    version_str=\"\".join([\n",
        "        f\"py3{sys.version_info.minor}_cu\",\n",
        "        torch.version.cuda.replace(\".\",\"\"),\n",
        "        f\"_pyt{pyt_version_str}\"\n",
        "    ])\n",
        "    !pip install fvcore iopath\n",
        "    !pip install --no-index --no-cache-dir pytorch3d -f https://dl.fbaipublicfiles.com/pytorch3d/packaging/wheels/{version_str}/download.html\n",
        "else:\n",
        "    # We try to install PyTorch3D from source.\n",
        "    !pip install 'git+https://github.com/facebookresearch/pytorch3d.git@stable'"
      ],
      "metadata": {
        "colab": {
          "base_uri": "https://localhost:8080/"
        },
        "id": "Z0rqvabWogks",
        "outputId": "023ed68e-a0b0-41a8-d00f-69566f5a0d3f"
      },
      "execution_count": 2,
      "outputs": [
        {
          "output_type": "stream",
          "name": "stdout",
          "text": [
            "Requirement already satisfied: fvcore in /usr/local/lib/python3.10/dist-packages (0.1.5.post20221221)\n",
            "Requirement already satisfied: iopath in /usr/local/lib/python3.10/dist-packages (0.1.10)\n",
            "Requirement already satisfied: numpy in /usr/local/lib/python3.10/dist-packages (from fvcore) (1.23.5)\n",
            "Requirement already satisfied: yacs>=0.1.6 in /usr/local/lib/python3.10/dist-packages (from fvcore) (0.1.8)\n",
            "Requirement already satisfied: pyyaml>=5.1 in /usr/local/lib/python3.10/dist-packages (from fvcore) (6.0.1)\n",
            "Requirement already satisfied: tqdm in /usr/local/lib/python3.10/dist-packages (from fvcore) (4.66.1)\n",
            "Requirement already satisfied: termcolor>=1.1 in /usr/local/lib/python3.10/dist-packages (from fvcore) (2.4.0)\n",
            "Requirement already satisfied: Pillow in /usr/local/lib/python3.10/dist-packages (from fvcore) (9.4.0)\n",
            "Requirement already satisfied: tabulate in /usr/local/lib/python3.10/dist-packages (from fvcore) (0.9.0)\n",
            "Requirement already satisfied: typing-extensions in /usr/local/lib/python3.10/dist-packages (from iopath) (4.5.0)\n",
            "Requirement already satisfied: portalocker in /usr/local/lib/python3.10/dist-packages (from iopath) (2.8.2)\n",
            "Looking in links: https://dl.fbaipublicfiles.com/pytorch3d/packaging/wheels/py310_cu121_pyt210/download.html\n",
            "Requirement already satisfied: pytorch3d in /usr/local/lib/python3.10/dist-packages (0.7.5)\n",
            "Requirement already satisfied: fvcore in /usr/local/lib/python3.10/dist-packages (from pytorch3d) (0.1.5.post20221221)\n",
            "Requirement already satisfied: iopath in /usr/local/lib/python3.10/dist-packages (from pytorch3d) (0.1.10)\n",
            "Requirement already satisfied: numpy in /usr/local/lib/python3.10/dist-packages (from fvcore->pytorch3d) (1.23.5)\n",
            "Requirement already satisfied: yacs>=0.1.6 in /usr/local/lib/python3.10/dist-packages (from fvcore->pytorch3d) (0.1.8)\n",
            "Requirement already satisfied: pyyaml>=5.1 in /usr/local/lib/python3.10/dist-packages (from fvcore->pytorch3d) (6.0.1)\n",
            "Requirement already satisfied: tqdm in /usr/local/lib/python3.10/dist-packages (from fvcore->pytorch3d) (4.66.1)\n",
            "Requirement already satisfied: termcolor>=1.1 in /usr/local/lib/python3.10/dist-packages (from fvcore->pytorch3d) (2.4.0)\n",
            "Requirement already satisfied: Pillow in /usr/local/lib/python3.10/dist-packages (from fvcore->pytorch3d) (9.4.0)\n",
            "Requirement already satisfied: tabulate in /usr/local/lib/python3.10/dist-packages (from fvcore->pytorch3d) (0.9.0)\n",
            "Requirement already satisfied: typing-extensions in /usr/local/lib/python3.10/dist-packages (from iopath->pytorch3d) (4.5.0)\n",
            "Requirement already satisfied: portalocker in /usr/local/lib/python3.10/dist-packages (from iopath->pytorch3d) (2.8.2)\n"
          ]
        }
      ]
    },
    {
      "cell_type": "code",
      "source": [
        "from pytorch3d.io import load_objs_as_meshes, load_obj # Util function for loading meshes\n",
        "from pytorch3d.structures import Meshes # Data structures and functions for rendering\n",
        "from pytorch3d.vis.plotly_vis import AxisArgs, plot_batch_individually, plot_scene\n",
        "from pytorch3d.vis.texture_vis import texturesuv_image_matplotlib\n",
        "from pytorch3d.renderer import (\n",
        "    look_at_view_transform,\n",
        "    FoVPerspectiveCameras,\n",
        "    PointLights,\n",
        "    DirectionalLights,\n",
        "    Materials,\n",
        "    RasterizationSettings,\n",
        "    MeshRenderer,\n",
        "    MeshRasterizer,\n",
        "    SoftPhongShader,\n",
        "    TexturesUV,\n",
        "    TexturesVertex\n",
        ")"
      ],
      "metadata": {
        "id": "LBeZmTXa7lzl"
      },
      "execution_count": 3,
      "outputs": []
    },
    {
      "cell_type": "code",
      "source": [
        "o3d.utility.set_verbosity_level(o3d.utility.VerbosityLevel.Error)\n",
        "\n",
        "if torch.cuda.is_available():\n",
        "    device = torch.device(\"cuda:0\")\n",
        "    torch.cuda.set_device(device)\n",
        "else:\n",
        "    device = torch.device(\"cpu\")"
      ],
      "metadata": {
        "id": "OKqIMMKc5GNy"
      },
      "execution_count": 4,
      "outputs": []
    },
    {
      "cell_type": "markdown",
      "source": [
        "# Dataset"
      ],
      "metadata": {
        "id": "_t5GdBElLYyT"
      }
    },
    {
      "cell_type": "markdown",
      "source": [
        "## Data download"
      ],
      "metadata": {
        "id": "8eOwx8pILZio"
      }
    },
    {
      "cell_type": "code",
      "source": [
        "if not os.path.exists(global_var['mesh_data_path']):\n",
        "    print(\"[LOG] Starting dataset download...\")\n",
        "    gdown.download_folder(url = global_var['mesh_data_url'],\n",
        "        output = global_var['mesh_data_path'],\n",
        "        quiet=True)\n",
        "    print(\"[LOG] Dataset download ended!\")\n",
        "\n",
        "else:\n",
        "    print(\"[LOG] Mesh dataset already downloaded!\")"
      ],
      "metadata": {
        "colab": {
          "base_uri": "https://localhost:8080/",
          "height": 245
        },
        "id": "tJsuLX_NLbQo",
        "outputId": "bfb78939-4c47-466f-f238-dadcfa5c4832"
      },
      "execution_count": 5,
      "outputs": [
        {
          "output_type": "error",
          "ename": "NameError",
          "evalue": "ignored",
          "traceback": [
            "\u001b[0;31m---------------------------------------------------------------------------\u001b[0m",
            "\u001b[0;31mNameError\u001b[0m                                 Traceback (most recent call last)",
            "\u001b[0;32m<ipython-input-5-292e4491faaa>\u001b[0m in \u001b[0;36m<cell line: 1>\u001b[0;34m()\u001b[0m\n\u001b[0;32m----> 1\u001b[0;31m \u001b[0;32mif\u001b[0m \u001b[0;32mnot\u001b[0m \u001b[0mos\u001b[0m\u001b[0;34m.\u001b[0m\u001b[0mpath\u001b[0m\u001b[0;34m.\u001b[0m\u001b[0mexists\u001b[0m\u001b[0;34m(\u001b[0m\u001b[0mglobal_var\u001b[0m\u001b[0;34m[\u001b[0m\u001b[0;34m'mesh_data_path'\u001b[0m\u001b[0;34m]\u001b[0m\u001b[0;34m)\u001b[0m\u001b[0;34m:\u001b[0m\u001b[0;34m\u001b[0m\u001b[0;34m\u001b[0m\u001b[0m\n\u001b[0m\u001b[1;32m      2\u001b[0m     \u001b[0mprint\u001b[0m\u001b[0;34m(\u001b[0m\u001b[0;34m\"[LOG] Starting dataset download...\"\u001b[0m\u001b[0;34m)\u001b[0m\u001b[0;34m\u001b[0m\u001b[0;34m\u001b[0m\u001b[0m\n\u001b[1;32m      3\u001b[0m     gdown.download_folder(url = global_var['mesh_data_url'],\n\u001b[1;32m      4\u001b[0m         \u001b[0moutput\u001b[0m \u001b[0;34m=\u001b[0m \u001b[0mglobal_var\u001b[0m\u001b[0;34m[\u001b[0m\u001b[0;34m'mesh_data_path'\u001b[0m\u001b[0;34m]\u001b[0m\u001b[0;34m,\u001b[0m\u001b[0;34m\u001b[0m\u001b[0;34m\u001b[0m\u001b[0m\n\u001b[1;32m      5\u001b[0m         quiet=True)\n",
            "\u001b[0;31mNameError\u001b[0m: name 'global_var' is not defined"
          ]
        }
      ]
    },
    {
      "cell_type": "markdown",
      "source": [
        "## Shape visualization"
      ],
      "metadata": {
        "id": "C2oKRYkkQrli"
      }
    },
    {
      "cell_type": "code",
      "source": [
        "def get_dataset_meshes(dataset_path):\n",
        "    meshes_paths = []\n",
        "    meshes = []\n",
        "\n",
        "    for current_dir, _, files in os.walk(dataset_path):\n",
        "        for elem in files:\n",
        "            if \".obj\" in elem:\n",
        "                mesh_path = os.path.join(current_dir, elem)\n",
        "                meshes_paths.append(mesh_path)\n",
        "                meshes.append(load_objs_as_meshes([mesh_path],device=device))\n",
        "\n",
        "    meshes_paths.sort()\n",
        "    return meshes_paths, meshes"
      ],
      "metadata": {
        "id": "K9-uSzz4ptRp"
      },
      "execution_count": null,
      "outputs": []
    },
    {
      "cell_type": "code",
      "source": [
        "def mesh_visualization(obj_file_path):\n",
        "    mesh = o3d.io.read_triangle_mesh(obj_file_path)\n",
        "\n",
        "    if mesh.is_empty(): exit()\n",
        "    if not mesh.has_vertex_normals(): mesh.compute_vertex_normals()\n",
        "    if not mesh.has_triangle_normals(): mesh.compute_triangle_normals()\n",
        "\n",
        "    triangles = np.asarray(mesh.triangles)\n",
        "    vertices = np.asarray(mesh.vertices)\n",
        "\n",
        "    colors = None\n",
        "    if mesh.has_triangle_normals():\n",
        "        colors = (0.5, 0.5, 0.5) + np.asarray(mesh.triangle_normals) * 0.5\n",
        "        colors = tuple(map(tuple, colors))\n",
        "    else:\n",
        "        colors = (1.0, 0.0, 0.0)\n",
        "\n",
        "    fig = go.Figure(\n",
        "    data=[\n",
        "        go.Mesh3d(\n",
        "            x=vertices[:,0],\n",
        "            y=vertices[:,1],\n",
        "            z=vertices[:,2],\n",
        "            i=triangles[:,0],\n",
        "            j=triangles[:,1],\n",
        "            k=triangles[:,2],\n",
        "            facecolor=colors,\n",
        "            opacity=0.50)\n",
        "        ],\n",
        "        layout=dict(\n",
        "            scene=dict(\n",
        "                xaxis=dict(visible=True),\n",
        "                yaxis=dict(visible=True),\n",
        "                zaxis=dict(visible=True)\n",
        "            )\n",
        "        )\n",
        "    )\n",
        "\n",
        "    return fig"
      ],
      "metadata": {
        "id": "nai44aZ6qkBj"
      },
      "execution_count": null,
      "outputs": []
    },
    {
      "cell_type": "code",
      "source": [
        "meshes_paths, meshes = get_dataset_meshes(global_var['mesh_data_path'])\n",
        "random_mesh_idx = random.randint(0,len(meshes_paths)-1)\n",
        "random_mesh_path = meshes_paths[random_mesh_idx]\n",
        "random_mesh = meshes[random_mesh_idx]\n",
        "\n",
        "mesh_fig = mesh_visualization(random_mesh_path)\n",
        "mesh_fig.show()"
      ],
      "metadata": {
        "id": "d5Zo2vi4RQp6"
      },
      "execution_count": null,
      "outputs": []
    },
    {
      "cell_type": "markdown",
      "source": [
        "## Rendered shape visualization"
      ],
      "metadata": {
        "id": "-ywND38d6drW"
      }
    },
    {
      "cell_type": "code",
      "source": [
        "def rendered_shape(mesh, device, items=3):\n",
        "    distances = [round(random.uniform(1, 3),2) for _ in range(items)] # Controllare valori default da cui selezionare quelli random\n",
        "    elevations = [random.randint(0, 359) for _ in range(items)] # This is the angle between the vector from the object to the camera, and the horizontal plane y = 0 (xz-plane).\n",
        "    angles = [random.randint(0, 359) for _ in range(items)] # The vector from the object to the camera is projected onto a horizontal plane y = 0. azim is the angle between the projected vector and a reference vector at (0, 0, 1) on the reference plane (the horizontal plane).\n",
        "    rendered_images = []\n",
        "\n",
        "    for idx in tqdm(range(items)):\n",
        "        print(f\"[LOG] Computing render for distance {distances[idx]}, elevation {elevations[idx]}, angle {angles[idx]}\")\n",
        "        R, T = look_at_view_transform(\n",
        "            distances[idx],\n",
        "            elevations[idx],\n",
        "            angles[idx],\n",
        "            degrees=True)\n",
        "\n",
        "        cameras = FoVPerspectiveCameras(device=device, R=R, T=T)\n",
        "\n",
        "        raster_settings = RasterizationSettings(\n",
        "            image_size=512,\n",
        "            blur_radius=0.0,\n",
        "            faces_per_pixel=1,\n",
        "        )\n",
        "\n",
        "        lights = PointLights(device=device, location=[[0.0, 0.0, -3.0]])\n",
        "\n",
        "        renderer = MeshRenderer(\n",
        "            rasterizer=MeshRasterizer(\n",
        "                cameras=cameras,\n",
        "                raster_settings=raster_settings\n",
        "            ),\n",
        "            shader=SoftPhongShader(\n",
        "                device=device,\n",
        "                cameras=cameras,\n",
        "                lights=lights\n",
        "            )\n",
        "        )\n",
        "\n",
        "        rendered_images.append(renderer(mesh))\n",
        "\n",
        "    return distances, elevations, angles, rendered_images"
      ],
      "metadata": {
        "id": "X2sogpfk9EZA"
      },
      "execution_count": 11,
      "outputs": []
    },
    {
      "cell_type": "code",
      "source": [
        "distances, elevations, angles, demo_rendered_images = rendered_shape(random_mesh,device,items=4)"
      ],
      "metadata": {
        "id": "AKn-WSTmxHEJ"
      },
      "execution_count": null,
      "outputs": []
    },
    {
      "cell_type": "code",
      "source": [
        "fig, ax = plt.subplots(2, 2, figsize=(12, 8))\n",
        "\n",
        "for i, ax in enumerate(ax.flat):\n",
        "    ax.imshow(demo_rendered_images[i][0, ..., :3].cpu().numpy())\n",
        "    ax.set_title(f\"Distance:{distances[i]} m - Elevation:{elevations[i]} deg - Inclination:{angles[i]} deg\")\n",
        "\n",
        "plt.tight_layout()\n",
        "plt.show()"
      ],
      "metadata": {
        "id": "scGXolCX4pBQ"
      },
      "execution_count": null,
      "outputs": []
    },
    {
      "cell_type": "code",
      "source": [
        "guidance = demo_rendered_images[2]\n",
        "print(guidance.shape)"
      ],
      "metadata": {
        "id": "cp-pgwGB5q5K"
      },
      "execution_count": null,
      "outputs": []
    },
    {
      "cell_type": "markdown",
      "source": [
        "# Detailed architecture"
      ],
      "metadata": {
        "id": "TabQ6dTgHlwO"
      }
    },
    {
      "cell_type": "markdown",
      "source": [
        "## Input features\n",
        "The workflow starts with extracting the vertices of the meshes related to the 3D shape we want to deform. These vertices will be the input to the neural network that will approximate the displacement vector for the deformation. From this point until the end of the workflow, a fixed 3D shape will be considered for the sake of clarity of the steps.\n",
        "\n",
        "<center>\n",
        "  <img src=\"https://raw.githubusercontent.com/LorCir28/Shape_deformation_through_2D_guidance/082ad323538acf40a913a9de7478f81e8caff09f/pics/mesh_vers.png?token=GHSAT0AAAAAACKX5CENWWY3O7WUFMTECKI2ZMP6YTA\" alt=\"Mesh_verts\" />\n",
        "</center>"
      ],
      "metadata": {
        "id": "5BukEO_fHqmV"
      }
    },
    {
      "cell_type": "code",
      "source": [
        "def get_mesh(obj_path):\n",
        "    verts, faces_idxs, _ = load_obj(obj_path)\n",
        "    faces = faces_idxs.verts_idx\n",
        "\n",
        "    # Initialize each vertex to be white in color since this feature isn't required in our project\n",
        "    verts_rgb = torch.ones_like(verts)[None]  # (1, V, 3)\n",
        "    textures = TexturesVertex(verts_features=verts_rgb.to(device))\n",
        "\n",
        "    mesh = Meshes(\n",
        "        verts=[verts.to(device)],\n",
        "        faces=[faces.to(device)],\n",
        "        textures=textures\n",
        "    )\n",
        "\n",
        "    return mesh"
      ],
      "metadata": {
        "id": "oOpqbei5HqHW"
      },
      "execution_count": 70,
      "outputs": []
    },
    {
      "cell_type": "code",
      "source": [
        "sample_mesh_path = meshes_paths[9]\n",
        "sample_mesh = get_mesh(sample_mesh_path)\n",
        "sample_mesh_shape = sample_mesh.verts_list()[0].shape\n",
        "vertices_num = sample_mesh_shape[0]\n",
        "vertices_dim = sample_mesh_shape[1]\n",
        "print(f\"[LOG] 3D shape has {vertices_num} vertices with dimension {vertices_dim}\")\n",
        "\n",
        "mesh_fig = plot_scene({\n",
        "    \"Sample mesh\": {\n",
        "        \"mesh\": sample_mesh\n",
        "    }\n",
        "})\n",
        "mesh_fig.show()"
      ],
      "metadata": {
        "colab": {
          "base_uri": "https://localhost:8080/",
          "height": 559
        },
        "id": "Iz_GD8DAMjKk",
        "outputId": "ed159097-bb0f-41fc-bc8f-b8f498fc2f9b"
      },
      "execution_count": 71,
      "outputs": [
        {
          "output_type": "stream",
          "name": "stdout",
          "text": [
            "[LOG] 3D shape has 48 vertices with dimension 3\n"
          ]
        },
        {
          "output_type": "display_data",
          "data": {
            "text/html": [
              "<html>\n",
              "<head><meta charset=\"utf-8\" /></head>\n",
              "<body>\n",
              "    <div>            <script src=\"https://cdnjs.cloudflare.com/ajax/libs/mathjax/2.7.5/MathJax.js?config=TeX-AMS-MML_SVG\"></script><script type=\"text/javascript\">if (window.MathJax && window.MathJax.Hub && window.MathJax.Hub.Config) {window.MathJax.Hub.Config({SVG: {font: \"STIX-Web\"}});}</script>                <script type=\"text/javascript\">window.PlotlyConfig = {MathJaxConfig: 'local'};</script>\n",
              "        <script charset=\"utf-8\" src=\"https://cdn.plot.ly/plotly-2.24.1.min.js\"></script>                <div id=\"402b9f60-361f-4631-a636-ef297281c590\" class=\"plotly-graph-div\" style=\"height:525px; width:100%;\"></div>            <script type=\"text/javascript\">                                    window.PLOTLYENV=window.PLOTLYENV || {};                                    if (document.getElementById(\"402b9f60-361f-4631-a636-ef297281c590\")) {                    Plotly.newPlot(                        \"402b9f60-361f-4631-a636-ef297281c590\",                        [{\"i\":[0,1,2,3,2,0,3,1,4,6,5,7,6,4,9,11,12,9,7,5,8,15,16,17,10,13,14,10,13,18,14,19,15,8,12,18,17,16,11,19,20,22,21,23,22,20,23,21,24,26,25,27,26,24,27,25,29,30,28,31,30,29,31,28,32,34,33,35,34,32,37,35,36,38,33,39,38,36,40,41,42,37,41,40,39,44,43,45,46,42,47,45,44,47,43,46,3,0,0,4,3,9,0,12,4,17,7,3,4,8,11,19,8,23,8,20,20,27,20,24,20,30,24,28,28,34,28,33,33,38,33,41,33,39,39,45,39,44,44,47],\"j\":[1,0,1,0,4,4,5,5,2,2,3,3,8,8,10,10,13,13,14,14,6,6,12,12,9,9,11,11,12,12,7,7,20,20,16,16,21,21,14,14,15,15,17,17,24,24,25,25,22,22,23,23,28,28,29,29,27,27,26,26,32,32,33,33,30,30,31,31,36,36,33,33,34,34,37,37,40,40,38,38,39,39,43,43,42,42,41,41,44,44,43,43,46,46,47,47,9,9,12,12,11,11,9,9,12,12,11,11,17,17,7,7,17,17,23,23,23,23,30,30,27,27,30,30,30,30,34,34,34,34,38,38,41,41,41,41,45,45,45,45],\"k\":[2,3,0,1,0,2,1,3,6,4,7,5,4,6,11,9,9,12,5,7,15,8,17,16,13,10,10,14,18,13,19,14,8,15,18,12,16,17,19,11,22,20,23,21,20,22,21,23,26,24,27,25,24,26,25,27,30,29,31,28,29,30,28,31,34,32,35,33,32,34,35,37,38,36,39,33,36,38,41,40,37,42,40,41,44,39,45,43,42,46,45,47,47,44,46,43,0,3,4,0,9,3,12,0,17,4,3,7,8,4,19,11,23,8,20,8,27,20,24,20,30,20,28,24,34,28,33,28,38,33,41,33,39,33,45,39,44,39,47,44],\"lighting\":{\"ambient\":0.8,\"diffuse\":1.0,\"facenormalsepsilon\":1e-06,\"fresnel\":0.0,\"roughness\":0.5,\"specular\":0.0,\"vertexnormalsepsilon\":1e-12},\"name\":\"mesh\",\"vertexcolor\":[[255.0,255.0,255.0],[255.0,255.0,255.0],[255.0,255.0,255.0],[255.0,255.0,255.0],[255.0,255.0,255.0],[255.0,255.0,255.0],[255.0,255.0,255.0],[255.0,255.0,255.0],[255.0,255.0,255.0],[255.0,255.0,255.0],[255.0,255.0,255.0],[255.0,255.0,255.0],[255.0,255.0,255.0],[255.0,255.0,255.0],[255.0,255.0,255.0],[255.0,255.0,255.0],[255.0,255.0,255.0],[255.0,255.0,255.0],[255.0,255.0,255.0],[255.0,255.0,255.0],[255.0,255.0,255.0],[255.0,255.0,255.0],[255.0,255.0,255.0],[255.0,255.0,255.0],[255.0,255.0,255.0],[255.0,255.0,255.0],[255.0,255.0,255.0],[255.0,255.0,255.0],[255.0,255.0,255.0],[255.0,255.0,255.0],[255.0,255.0,255.0],[255.0,255.0,255.0],[255.0,255.0,255.0],[255.0,255.0,255.0],[255.0,255.0,255.0],[255.0,255.0,255.0],[255.0,255.0,255.0],[255.0,255.0,255.0],[255.0,255.0,255.0],[255.0,255.0,255.0],[255.0,255.0,255.0],[255.0,255.0,255.0],[255.0,255.0,255.0],[255.0,255.0,255.0],[255.0,255.0,255.0],[255.0,255.0,255.0],[255.0,255.0,255.0],[255.0,255.0,255.0]],\"x\":[-0.12247399985790253,-0.144337996840477,-0.20412400364875793,-0.08660300076007843,-0.15000000596046448,-0.07471500337123871,-0.25,-0.044828999787569046,-0.16730299592018127,0.08660300076007843,0.07471500337123871,0.044828999787569046,0.12247399985790253,0.144337996840477,-0.0,-0.27883800864219666,0.25,0.15000000596046448,0.20412400364875793,-0.0,-0.17320500314235687,0.27883800864219666,-0.2886750102043152,0.16730299592018127,-0.16730299592018127,0.2886750102043152,-0.27883800864219666,0.17320500314235687,-0.15000000596046448,0.27883800864219666,0.16730299592018127,-0.25,0.25,-0.12247399985790253,0.15000000596046448,-0.20412400364875793,0.20412400364875793,-0.144337996840477,0.12247399985790253,-0.08660300076007843,0.144337996840477,0.08660300076007843,-0.07471500337123871,0.07471500337123871,-0.044828999787569046,0.044828999787569046,-0.0,-0.0],\"y\":[-0.2886750102043152,0.2886750102043152,0.2886750102043152,-0.2886750102043152,-0.2886750102043152,0.2886750102043152,0.2886750102043152,-0.2886750102043152,-0.2886750102043152,-0.2886750102043152,0.2886750102043152,-0.2886750102043152,-0.2886750102043152,0.2886750102043152,0.2886750102043152,0.2886750102043152,0.2886750102043152,-0.2886750102043152,0.2886750102043152,-0.2886750102043152,-0.2886750102043152,0.2886750102043152,0.2886750102043152,-0.2886750102043152,-0.2886750102043152,0.2886750102043152,0.2886750102043152,-0.2886750102043152,-0.2886750102043152,0.2886750102043152,-0.2886750102043152,0.2886750102043152,0.2886750102043152,-0.2886750102043152,-0.2886750102043152,0.2886750102043152,0.2886750102043152,0.2886750102043152,-0.2886750102043152,-0.2886750102043152,0.2886750102043152,-0.2886750102043152,0.2886750102043152,0.2886750102043152,-0.2886750102043152,-0.2886750102043152,0.2886750102043152,-0.2886750102043152],\"z\":[-0.12247399985790253,-0.25,-0.20412400364875793,-0.15000000596046448,-0.08660300076007843,-0.27883800864219666,-0.144337996840477,-0.16730299592018127,-0.044828999787569046,-0.15000000596046448,-0.27883800864219666,-0.16730299592018127,-0.12247399985790253,-0.25,-0.2886750102043152,-0.07471500337123871,-0.144337996840477,-0.08660300076007843,-0.20412400364875793,-0.17320500314235687,0.0,-0.07471500337123871,0.0,-0.044828999787569046,0.044828999787569046,0.0,0.07471500337123871,0.0,0.08660300076007843,0.07471500337123871,0.044828999787569046,0.144337996840477,0.144337996840477,0.12247399985790253,0.08660300076007843,0.20412400364875793,0.20412400364875793,0.25,0.12247399985790253,0.15000000596046448,0.25,0.15000000596046448,0.27883800864219666,0.27883800864219666,0.16730299592018127,0.16730299592018127,0.2886750102043152,0.17320500314235687],\"type\":\"mesh3d\",\"scene\":\"scene\"}],                        {\"template\":{\"data\":{\"histogram2dcontour\":[{\"type\":\"histogram2dcontour\",\"colorbar\":{\"outlinewidth\":0,\"ticks\":\"\"},\"colorscale\":[[0.0,\"#0d0887\"],[0.1111111111111111,\"#46039f\"],[0.2222222222222222,\"#7201a8\"],[0.3333333333333333,\"#9c179e\"],[0.4444444444444444,\"#bd3786\"],[0.5555555555555556,\"#d8576b\"],[0.6666666666666666,\"#ed7953\"],[0.7777777777777778,\"#fb9f3a\"],[0.8888888888888888,\"#fdca26\"],[1.0,\"#f0f921\"]]}],\"choropleth\":[{\"type\":\"choropleth\",\"colorbar\":{\"outlinewidth\":0,\"ticks\":\"\"}}],\"histogram2d\":[{\"type\":\"histogram2d\",\"colorbar\":{\"outlinewidth\":0,\"ticks\":\"\"},\"colorscale\":[[0.0,\"#0d0887\"],[0.1111111111111111,\"#46039f\"],[0.2222222222222222,\"#7201a8\"],[0.3333333333333333,\"#9c179e\"],[0.4444444444444444,\"#bd3786\"],[0.5555555555555556,\"#d8576b\"],[0.6666666666666666,\"#ed7953\"],[0.7777777777777778,\"#fb9f3a\"],[0.8888888888888888,\"#fdca26\"],[1.0,\"#f0f921\"]]}],\"heatmap\":[{\"type\":\"heatmap\",\"colorbar\":{\"outlinewidth\":0,\"ticks\":\"\"},\"colorscale\":[[0.0,\"#0d0887\"],[0.1111111111111111,\"#46039f\"],[0.2222222222222222,\"#7201a8\"],[0.3333333333333333,\"#9c179e\"],[0.4444444444444444,\"#bd3786\"],[0.5555555555555556,\"#d8576b\"],[0.6666666666666666,\"#ed7953\"],[0.7777777777777778,\"#fb9f3a\"],[0.8888888888888888,\"#fdca26\"],[1.0,\"#f0f921\"]]}],\"heatmapgl\":[{\"type\":\"heatmapgl\",\"colorbar\":{\"outlinewidth\":0,\"ticks\":\"\"},\"colorscale\":[[0.0,\"#0d0887\"],[0.1111111111111111,\"#46039f\"],[0.2222222222222222,\"#7201a8\"],[0.3333333333333333,\"#9c179e\"],[0.4444444444444444,\"#bd3786\"],[0.5555555555555556,\"#d8576b\"],[0.6666666666666666,\"#ed7953\"],[0.7777777777777778,\"#fb9f3a\"],[0.8888888888888888,\"#fdca26\"],[1.0,\"#f0f921\"]]}],\"contourcarpet\":[{\"type\":\"contourcarpet\",\"colorbar\":{\"outlinewidth\":0,\"ticks\":\"\"}}],\"contour\":[{\"type\":\"contour\",\"colorbar\":{\"outlinewidth\":0,\"ticks\":\"\"},\"colorscale\":[[0.0,\"#0d0887\"],[0.1111111111111111,\"#46039f\"],[0.2222222222222222,\"#7201a8\"],[0.3333333333333333,\"#9c179e\"],[0.4444444444444444,\"#bd3786\"],[0.5555555555555556,\"#d8576b\"],[0.6666666666666666,\"#ed7953\"],[0.7777777777777778,\"#fb9f3a\"],[0.8888888888888888,\"#fdca26\"],[1.0,\"#f0f921\"]]}],\"surface\":[{\"type\":\"surface\",\"colorbar\":{\"outlinewidth\":0,\"ticks\":\"\"},\"colorscale\":[[0.0,\"#0d0887\"],[0.1111111111111111,\"#46039f\"],[0.2222222222222222,\"#7201a8\"],[0.3333333333333333,\"#9c179e\"],[0.4444444444444444,\"#bd3786\"],[0.5555555555555556,\"#d8576b\"],[0.6666666666666666,\"#ed7953\"],[0.7777777777777778,\"#fb9f3a\"],[0.8888888888888888,\"#fdca26\"],[1.0,\"#f0f921\"]]}],\"mesh3d\":[{\"type\":\"mesh3d\",\"colorbar\":{\"outlinewidth\":0,\"ticks\":\"\"}}],\"scatter\":[{\"fillpattern\":{\"fillmode\":\"overlay\",\"size\":10,\"solidity\":0.2},\"type\":\"scatter\"}],\"parcoords\":[{\"type\":\"parcoords\",\"line\":{\"colorbar\":{\"outlinewidth\":0,\"ticks\":\"\"}}}],\"scatterpolargl\":[{\"type\":\"scatterpolargl\",\"marker\":{\"colorbar\":{\"outlinewidth\":0,\"ticks\":\"\"}}}],\"bar\":[{\"error_x\":{\"color\":\"#2a3f5f\"},\"error_y\":{\"color\":\"#2a3f5f\"},\"marker\":{\"line\":{\"color\":\"#E5ECF6\",\"width\":0.5},\"pattern\":{\"fillmode\":\"overlay\",\"size\":10,\"solidity\":0.2}},\"type\":\"bar\"}],\"scattergeo\":[{\"type\":\"scattergeo\",\"marker\":{\"colorbar\":{\"outlinewidth\":0,\"ticks\":\"\"}}}],\"scatterpolar\":[{\"type\":\"scatterpolar\",\"marker\":{\"colorbar\":{\"outlinewidth\":0,\"ticks\":\"\"}}}],\"histogram\":[{\"marker\":{\"pattern\":{\"fillmode\":\"overlay\",\"size\":10,\"solidity\":0.2}},\"type\":\"histogram\"}],\"scattergl\":[{\"type\":\"scattergl\",\"marker\":{\"colorbar\":{\"outlinewidth\":0,\"ticks\":\"\"}}}],\"scatter3d\":[{\"type\":\"scatter3d\",\"line\":{\"colorbar\":{\"outlinewidth\":0,\"ticks\":\"\"}},\"marker\":{\"colorbar\":{\"outlinewidth\":0,\"ticks\":\"\"}}}],\"scattermapbox\":[{\"type\":\"scattermapbox\",\"marker\":{\"colorbar\":{\"outlinewidth\":0,\"ticks\":\"\"}}}],\"scatterternary\":[{\"type\":\"scatterternary\",\"marker\":{\"colorbar\":{\"outlinewidth\":0,\"ticks\":\"\"}}}],\"scattercarpet\":[{\"type\":\"scattercarpet\",\"marker\":{\"colorbar\":{\"outlinewidth\":0,\"ticks\":\"\"}}}],\"carpet\":[{\"aaxis\":{\"endlinecolor\":\"#2a3f5f\",\"gridcolor\":\"white\",\"linecolor\":\"white\",\"minorgridcolor\":\"white\",\"startlinecolor\":\"#2a3f5f\"},\"baxis\":{\"endlinecolor\":\"#2a3f5f\",\"gridcolor\":\"white\",\"linecolor\":\"white\",\"minorgridcolor\":\"white\",\"startlinecolor\":\"#2a3f5f\"},\"type\":\"carpet\"}],\"table\":[{\"cells\":{\"fill\":{\"color\":\"#EBF0F8\"},\"line\":{\"color\":\"white\"}},\"header\":{\"fill\":{\"color\":\"#C8D4E3\"},\"line\":{\"color\":\"white\"}},\"type\":\"table\"}],\"barpolar\":[{\"marker\":{\"line\":{\"color\":\"#E5ECF6\",\"width\":0.5},\"pattern\":{\"fillmode\":\"overlay\",\"size\":10,\"solidity\":0.2}},\"type\":\"barpolar\"}],\"pie\":[{\"automargin\":true,\"type\":\"pie\"}]},\"layout\":{\"autotypenumbers\":\"strict\",\"colorway\":[\"#636efa\",\"#EF553B\",\"#00cc96\",\"#ab63fa\",\"#FFA15A\",\"#19d3f3\",\"#FF6692\",\"#B6E880\",\"#FF97FF\",\"#FECB52\"],\"font\":{\"color\":\"#2a3f5f\"},\"hovermode\":\"closest\",\"hoverlabel\":{\"align\":\"left\"},\"paper_bgcolor\":\"white\",\"plot_bgcolor\":\"#E5ECF6\",\"polar\":{\"bgcolor\":\"#E5ECF6\",\"angularaxis\":{\"gridcolor\":\"white\",\"linecolor\":\"white\",\"ticks\":\"\"},\"radialaxis\":{\"gridcolor\":\"white\",\"linecolor\":\"white\",\"ticks\":\"\"}},\"ternary\":{\"bgcolor\":\"#E5ECF6\",\"aaxis\":{\"gridcolor\":\"white\",\"linecolor\":\"white\",\"ticks\":\"\"},\"baxis\":{\"gridcolor\":\"white\",\"linecolor\":\"white\",\"ticks\":\"\"},\"caxis\":{\"gridcolor\":\"white\",\"linecolor\":\"white\",\"ticks\":\"\"}},\"coloraxis\":{\"colorbar\":{\"outlinewidth\":0,\"ticks\":\"\"}},\"colorscale\":{\"sequential\":[[0.0,\"#0d0887\"],[0.1111111111111111,\"#46039f\"],[0.2222222222222222,\"#7201a8\"],[0.3333333333333333,\"#9c179e\"],[0.4444444444444444,\"#bd3786\"],[0.5555555555555556,\"#d8576b\"],[0.6666666666666666,\"#ed7953\"],[0.7777777777777778,\"#fb9f3a\"],[0.8888888888888888,\"#fdca26\"],[1.0,\"#f0f921\"]],\"sequentialminus\":[[0.0,\"#0d0887\"],[0.1111111111111111,\"#46039f\"],[0.2222222222222222,\"#7201a8\"],[0.3333333333333333,\"#9c179e\"],[0.4444444444444444,\"#bd3786\"],[0.5555555555555556,\"#d8576b\"],[0.6666666666666666,\"#ed7953\"],[0.7777777777777778,\"#fb9f3a\"],[0.8888888888888888,\"#fdca26\"],[1.0,\"#f0f921\"]],\"diverging\":[[0,\"#8e0152\"],[0.1,\"#c51b7d\"],[0.2,\"#de77ae\"],[0.3,\"#f1b6da\"],[0.4,\"#fde0ef\"],[0.5,\"#f7f7f7\"],[0.6,\"#e6f5d0\"],[0.7,\"#b8e186\"],[0.8,\"#7fbc41\"],[0.9,\"#4d9221\"],[1,\"#276419\"]]},\"xaxis\":{\"gridcolor\":\"white\",\"linecolor\":\"white\",\"ticks\":\"\",\"title\":{\"standoff\":15},\"zerolinecolor\":\"white\",\"automargin\":true,\"zerolinewidth\":2},\"yaxis\":{\"gridcolor\":\"white\",\"linecolor\":\"white\",\"ticks\":\"\",\"title\":{\"standoff\":15},\"zerolinecolor\":\"white\",\"automargin\":true,\"zerolinewidth\":2},\"scene\":{\"xaxis\":{\"backgroundcolor\":\"#E5ECF6\",\"gridcolor\":\"white\",\"linecolor\":\"white\",\"showbackground\":true,\"ticks\":\"\",\"zerolinecolor\":\"white\",\"gridwidth\":2},\"yaxis\":{\"backgroundcolor\":\"#E5ECF6\",\"gridcolor\":\"white\",\"linecolor\":\"white\",\"showbackground\":true,\"ticks\":\"\",\"zerolinecolor\":\"white\",\"gridwidth\":2},\"zaxis\":{\"backgroundcolor\":\"#E5ECF6\",\"gridcolor\":\"white\",\"linecolor\":\"white\",\"showbackground\":true,\"ticks\":\"\",\"zerolinecolor\":\"white\",\"gridwidth\":2}},\"shapedefaults\":{\"line\":{\"color\":\"#2a3f5f\"}},\"annotationdefaults\":{\"arrowcolor\":\"#2a3f5f\",\"arrowhead\":0,\"arrowwidth\":1},\"geo\":{\"bgcolor\":\"white\",\"landcolor\":\"#E5ECF6\",\"subunitcolor\":\"white\",\"showland\":true,\"showlakes\":true,\"lakecolor\":\"white\"},\"title\":{\"x\":0.05},\"mapbox\":{\"style\":\"light\"}}},\"scene\":{\"domain\":{\"x\":[0.0,1.0],\"y\":[0.0,1.0]},\"xaxis\":{\"range\":[-0.5773500204086304,0.5773500204086304],\"showgrid\":false,\"zeroline\":false,\"showline\":false,\"ticks\":\"\",\"showticklabels\":false,\"backgroundcolor\":\"#fff\",\"showaxeslabels\":false},\"yaxis\":{\"range\":[-0.5773500204086304,0.5773500204086304],\"showgrid\":false,\"zeroline\":false,\"showline\":false,\"ticks\":\"\",\"showticklabels\":false,\"backgroundcolor\":\"#fff\",\"showaxeslabels\":false},\"zaxis\":{\"range\":[-0.5773500204086304,0.5773500204086304],\"showgrid\":false,\"zeroline\":false,\"showline\":false,\"ticks\":\"\",\"showticklabels\":false,\"backgroundcolor\":\"#fff\",\"showaxeslabels\":false},\"camera\":{\"up\":{\"x\":0.0,\"y\":1.0,\"z\":0.0}},\"aspectmode\":\"cube\"},\"annotations\":[{\"font\":{\"size\":16},\"showarrow\":false,\"text\":\"Sample mesh\",\"x\":0.5,\"xanchor\":\"center\",\"xref\":\"paper\",\"y\":1.0,\"yanchor\":\"bottom\",\"yref\":\"paper\"}]},                        {\"responsive\": true}                    ).then(function(){\n",
              "                            \n",
              "var gd = document.getElementById('402b9f60-361f-4631-a636-ef297281c590');\n",
              "var x = new MutationObserver(function (mutations, observer) {{\n",
              "        var display = window.getComputedStyle(gd).display;\n",
              "        if (!display || display === 'none') {{\n",
              "            console.log([gd, 'removed!']);\n",
              "            Plotly.purge(gd);\n",
              "            observer.disconnect();\n",
              "        }}\n",
              "}});\n",
              "\n",
              "// Listen for the removal of the full notebook cells\n",
              "var notebookContainer = gd.closest('#notebook-container');\n",
              "if (notebookContainer) {{\n",
              "    x.observe(notebookContainer, {childList: true});\n",
              "}}\n",
              "\n",
              "// Listen for the clearing of the current output cell\n",
              "var outputEl = gd.closest('.output');\n",
              "if (outputEl) {{\n",
              "    x.observe(outputEl, {childList: true});\n",
              "}}\n",
              "\n",
              "                        })                };                            </script>        </div>\n",
              "</body>\n",
              "</html>"
            ]
          },
          "metadata": {}
        }
      ]
    },
    {
      "cell_type": "markdown",
      "source": [
        "## Positional encoding\n",
        "Positional encoding is important in the context of mesh vertices of a 3D shape because the neural network treats vertices as tokens, without any information about their relative position in the mesh. Without some form of position information, the model may have difficulty capturing the spatial relationships between vertices, which are critical in 3D representations. This approach can be learned, simply by leveraging a fully connected layer. By doing so, the input vertices will be processed in such a way as to retain their spatial info.\n",
        "\n",
        "<center>\n",
        "  <img src=\"https://raw.githubusercontent.com/LorCir28/Shape_deformation_through_2D_guidance/main/pics/pos_encd.png?token=GHSAT0AAAAAACKX5CEMDWTEUKY2EX2QT35GZMT465Q\" alt=\"Pos_enc\" />\n",
        "</center>"
      ],
      "metadata": {
        "id": "_BV_qYX6Wj-p"
      }
    },
    {
      "cell_type": "code",
      "source": [
        "class PositionalEncodingNet(nn.Module):\n",
        "    def __init__(self, verts_dim=3, hidden_dim=256, debug=False):\n",
        "        super(PositionalEncodingNet, self).__init__()\n",
        "\n",
        "        layers = []\n",
        "        layers.append(nn.Linear(verts_dim,hidden_dim))\n",
        "        layers.append(nn.ReLU())\n",
        "\n",
        "        self.debug = debug\n",
        "        self.pos_net = nn.ModuleList(layers)\n",
        "\n",
        "        if self.debug:\n",
        "            print(\"\\n[LOG] Positional Encoding network\")\n",
        "            print(self.pos_net)\n",
        "\n",
        "    def forward(self, x):\n",
        "        print(f\"\\n[LOG] ************* {self._get_name()} forward: START *************\") if self.debug else None\n",
        "        print(f\"\\n[LOG] Input shape: {x.shape}\") if self.debug else None\n",
        "\n",
        "        for layer in self.pos_net:\n",
        "            x = layer(x)\n",
        "\n",
        "        print(f\"[LOG] Output shape: {x.shape}\") if self.debug else None\n",
        "        print(f\"\\n[LOG] ************* {self._get_name()} forward: END *************\") if self.debug else None\n",
        "\n",
        "        return x"
      ],
      "metadata": {
        "id": "ZPsR9HMXbi2B"
      },
      "execution_count": 72,
      "outputs": []
    },
    {
      "cell_type": "code",
      "source": [
        "sample_mesh_verts = sample_mesh.verts_list()[0]\n",
        "sample_mesh_verts_shape = sample_mesh_verts.shape\n",
        "print(f\"[LOG] Mesh vertices are in a {type(sample_mesh_verts)} of shape {sample_mesh_verts_shape}\")\n",
        "\n",
        "pos_encoder = PositionalEncodingNet(\n",
        "    verts_dim = global_var['verts_dim'],\n",
        "    hidden_dim = global_var['hidden_dim'],\n",
        "    debug = global_var['print_debug'])\n",
        "\n",
        "positioned_mesh_verts = pos_encoder(sample_mesh_verts)"
      ],
      "metadata": {
        "colab": {
          "base_uri": "https://localhost:8080/"
        },
        "id": "IkRBP4MCcssv",
        "outputId": "5695e394-759c-4492-8b3f-07ddbff4b62b"
      },
      "execution_count": 73,
      "outputs": [
        {
          "output_type": "stream",
          "name": "stdout",
          "text": [
            "[LOG] Mesh vertices are in a <class 'torch.Tensor'> of shape torch.Size([48, 3])\n",
            "\n",
            "[LOG] Positional Encoding network\n",
            "ModuleList(\n",
            "  (0): Linear(in_features=3, out_features=256, bias=True)\n",
            "  (1): ReLU()\n",
            ")\n",
            "\n",
            "[LOG] ************* PositionalEncodingNet forward: START *************\n",
            "\n",
            "[LOG] Input shape: torch.Size([48, 3])\n",
            "[LOG] Output shape: torch.Size([48, 256])\n",
            "\n",
            "[LOG] ************* PositionalEncodingNet forward: END *************\n"
          ]
        }
      ]
    },
    {
      "cell_type": "code",
      "source": [
        "input_mesh_verts = sample_mesh.verts_list()[0]\n",
        "truth_mesh_verts = positioned_mesh_verts\n",
        "\n",
        "pos_enc_model = pos_encoder = PositionalEncodingNet(\n",
        "    verts_dim = global_var['verts_dim'],\n",
        "    hidden_dim = global_var['hidden_dim'],\n",
        "    debug = False)\n",
        "pos_enc_model.to(device)\n",
        "\n",
        "criterion = nn.MSELoss()\n",
        "optimizer = torch.optim.AdamW(pos_enc_model.parameters(), lr=0.001, betas=(0.9, 0.999), weight_decay=0.02)\n",
        "\n",
        "iters = 1000\n",
        "with trange(iters,desc=\"Train\", unit=\"\", position=0, leave=True) as pbar:\n",
        "    for iter in pbar:\n",
        "        pos_enc_model.train()\n",
        "\n",
        "        # Load data\n",
        "        inputs = input_mesh_verts.to(device)\n",
        "        targets = truth_mesh_verts.to(device)\n",
        "\n",
        "        # Forward\n",
        "        optimizer.zero_grad()\n",
        "        outputs = pos_enc_model(inputs)\n",
        "\n",
        "        # Compute loss\n",
        "        loss = criterion(outputs, targets)\n",
        "\n",
        "        # Backward\n",
        "        loss.backward(retain_graph=True)\n",
        "        optimizer.step()\n",
        "\n",
        "        # Log\n",
        "        pbar.set_postfix(loss=loss.item())"
      ],
      "metadata": {
        "colab": {
          "base_uri": "https://localhost:8080/"
        },
        "id": "ogf5qMxeKIZ-",
        "outputId": "aaf6400e-af9b-47de-a9bc-a04ecb3df8de"
      },
      "execution_count": 43,
      "outputs": [
        {
          "output_type": "stream",
          "name": "stderr",
          "text": [
            "Train: 100%|██████████| 1000/1000 [00:05<00:00, 198.76/s, loss=0.0169]\n"
          ]
        }
      ]
    },
    {
      "cell_type": "markdown",
      "source": [
        "## Embedded vertices\n",
        "After including the spatial info relative to the vertices of the mesh, the next step in the workflow sees a small neural network embedding the aforementioned element.\n",
        "\n",
        "<center>\n",
        "  <img src=\"https://raw.githubusercontent.com/LorCir28/Shape_deformation_through_2D_guidance/main/pics/verts_emb.png?token=GHSAT0AAAAAACKX5CEMDWTEUKY2EX2QT35GZMT465Q\" alt=\"Verts_emb\" />\n",
        "</center>"
      ],
      "metadata": {
        "id": "oNWM0a22iLyI"
      }
    },
    {
      "cell_type": "code",
      "source": [
        "class EmbeddingNet(nn.Module):\n",
        "    def __init__(self, hidden_dim=256, depth=4, debug=False):\n",
        "        super(EmbeddingNet, self).__init__()\n",
        "\n",
        "        layers = []\n",
        "        for i in range(depth):\n",
        "            layers.append(nn.Linear(hidden_dim, hidden_dim))\n",
        "            layers.append(nn.ReLU())\n",
        "\n",
        "\n",
        "        self.debug = debug\n",
        "        self.emb_net = nn.ModuleList(layers)\n",
        "\n",
        "        if self.debug:\n",
        "            print(\"\\n[LOG] Embedding network\")\n",
        "            print(self.emb_net)\n",
        "\n",
        "    def forward(self, x):\n",
        "        print(f\"\\n[LOG] ************* {self._get_name()} forward: START *************\") if self.debug else None\n",
        "        print(f\"\\n[LOG] Input shape: {x.shape}\") if self.debug else None\n",
        "\n",
        "        for layer in self.emb_net:\n",
        "            x = layer(x)\n",
        "\n",
        "        print(f\"[LOG] Output shape: {x.shape}\") if self.debug else None\n",
        "        print(f\"\\n[LOG] ************* {self._get_name()} forward: END *************\") if self.debug else None\n",
        "\n",
        "        return x"
      ],
      "metadata": {
        "id": "AHF5XTPS6Dsf"
      },
      "execution_count": 74,
      "outputs": []
    },
    {
      "cell_type": "code",
      "source": [
        "embed_net = EmbeddingNet(\n",
        "    hidden_dim = global_var['hidden_dim'],\n",
        "    depth = global_var['emb_net_depth'],\n",
        "    debug = global_var['print_debug'])\n",
        "\n",
        "embedded_mesh_verts = embed_net(positioned_mesh_verts)"
      ],
      "metadata": {
        "colab": {
          "base_uri": "https://localhost:8080/"
        },
        "id": "DKj1TIkA65yq",
        "outputId": "081090ae-ae8c-45de-a5af-bcf006e3a736"
      },
      "execution_count": 75,
      "outputs": [
        {
          "output_type": "stream",
          "name": "stdout",
          "text": [
            "\n",
            "[LOG] Embedding network\n",
            "ModuleList(\n",
            "  (0): Linear(in_features=256, out_features=256, bias=True)\n",
            "  (1): ReLU()\n",
            "  (2): Linear(in_features=256, out_features=256, bias=True)\n",
            "  (3): ReLU()\n",
            "  (4): Linear(in_features=256, out_features=256, bias=True)\n",
            "  (5): ReLU()\n",
            "  (6): Linear(in_features=256, out_features=256, bias=True)\n",
            "  (7): ReLU()\n",
            ")\n",
            "\n",
            "[LOG] ************* EmbeddingNet forward: START *************\n",
            "\n",
            "[LOG] Input shape: torch.Size([48, 256])\n",
            "[LOG] Output shape: torch.Size([48, 256])\n",
            "\n",
            "[LOG] ************* EmbeddingNet forward: END *************\n"
          ]
        }
      ]
    },
    {
      "cell_type": "code",
      "source": [
        "input_mesh_verts = positioned_mesh_verts\n",
        "truth_mesh_verts = embedded_mesh_verts\n",
        "\n",
        "embed_net_model = EmbeddingNet(\n",
        "    hidden_dim = global_var['hidden_dim'],\n",
        "    depth = global_var['emb_net_depth'],\n",
        "    debug = False)\n",
        "embed_net_model.to(device)\n",
        "\n",
        "criterion = nn.MSELoss()\n",
        "optimizer = torch.optim.AdamW(embed_net_model.parameters(), lr=0.001, betas=(0.9, 0.999), weight_decay=0.02)\n",
        "\n",
        "iters = 1000\n",
        "with trange(iters,desc=\"Train\", unit=\"\", position=0, leave=True) as pbar:\n",
        "    for iter in pbar:\n",
        "        embed_net_model.train()\n",
        "\n",
        "        # Load data\n",
        "        inputs = input_mesh_verts.to(device)\n",
        "        targets = truth_mesh_verts.to(device)\n",
        "\n",
        "        # Forward\n",
        "        optimizer.zero_grad()\n",
        "        outputs = embed_net_model(inputs)\n",
        "\n",
        "        # Compute loss\n",
        "        loss = criterion(outputs, targets)\n",
        "\n",
        "        # Backward\n",
        "        loss.backward(retain_graph=True)\n",
        "        optimizer.step()\n",
        "\n",
        "        # Log\n",
        "        pbar.set_postfix(loss=loss.item())"
      ],
      "metadata": {
        "colab": {
          "base_uri": "https://localhost:8080/"
        },
        "id": "wnELtYaLiFPD",
        "outputId": "3e2de625-31e7-411a-f5db-e0e8412dc637"
      },
      "execution_count": 46,
      "outputs": [
        {
          "output_type": "stream",
          "name": "stderr",
          "text": [
            "Train: 100%|██████████| 1000/1000 [00:15<00:00, 65.43/s, loss=0.000265]\n"
          ]
        }
      ]
    },
    {
      "cell_type": "markdown",
      "source": [
        "## Displacement prediction\n",
        "\n",
        "The network's output is indicative of a displacement along the vertex normal. To mitigate any alterations to the content, strict control is exercised over the vertex normal, ensuring it remains confined within the specified range of $(-0.1, 0.1)$. This measure aims to preserve the original content by restricting the extent of vertex normal adjustments\n",
        "\n",
        "<center>\n",
        "  <img src=\"https://raw.githubusercontent.com/LorCir28/Shape_deformation_through_2D_guidance/main/pics/verts_disp.png?token=GHSAT0AAAAAACKX5CEMPMVC2BOZO4XJRXVWZMQEPXA\" alt=\"Verts_disp\" />\n",
        "</center>"
      ],
      "metadata": {
        "id": "aDx4Owj-ALMb"
      }
    },
    {
      "cell_type": "code",
      "source": [
        "class DisplacementNet(nn.Module):\n",
        "    def __init__(self, disp_dim=1, hidden_dim=256, disp_depth=2, norm_ratio = 0.1, debug=False):\n",
        "        super(DisplacementNet, self).__init__()\n",
        "\n",
        "        layers = []\n",
        "        for i in range(disp_depth):\n",
        "            layers.append(nn.Linear(hidden_dim, hidden_dim))\n",
        "            layers.append(nn.ReLU())\n",
        "        layers.append(nn.Linear(hidden_dim, disp_dim))\n",
        "\n",
        "        self.debug = debug\n",
        "        self.norm_ratio = norm_ratio\n",
        "        self.disp_net = nn.ModuleList(layers)\n",
        "\n",
        "        if self.debug:\n",
        "            print(\"\\n[LOG] Displacement network\")\n",
        "            print(self.disp_net)\n",
        "\n",
        "    def forward(self, x):\n",
        "        print(f\"\\n[LOG] ************* {self._get_name()} forward: START *************\") if self.debug else None\n",
        "        print(f\"\\n[LOG] Input shape: {x.shape}\") if self.debug else None\n",
        "\n",
        "        for layer in self.disp_net:\n",
        "            x = layer(x)\n",
        "        x = F.tanh(x) * self.norm_ratio\n",
        "\n",
        "        print(f\"[LOG] Output shape: {x.shape}\") if self.debug else None\n",
        "        print(f\"\\n[LOG] ************* {self._get_name()} forward: END *************\") if self.debug else None\n",
        "\n",
        "        return x"
      ],
      "metadata": {
        "id": "NVg-U2_8HNW-"
      },
      "execution_count": 76,
      "outputs": []
    },
    {
      "cell_type": "code",
      "source": [
        "disp_net = DisplacementNet(\n",
        "    disp_dim = global_var['disp_dim'],\n",
        "    hidden_dim = global_var['hidden_dim'],\n",
        "    disp_depth = global_var['disp_net_depth'],\n",
        "    norm_ratio = global_var['norm_ratio'],\n",
        "    debug = global_var['print_debug'])\n",
        "\n",
        "displaced_mesh_verts = disp_net(embedded_mesh_verts)"
      ],
      "metadata": {
        "colab": {
          "base_uri": "https://localhost:8080/"
        },
        "id": "6AnLUS5oJjB5",
        "outputId": "47b63246-1dcd-4bd4-cb28-50107f91fac3"
      },
      "execution_count": 77,
      "outputs": [
        {
          "output_type": "stream",
          "name": "stdout",
          "text": [
            "\n",
            "[LOG] Displacement network\n",
            "ModuleList(\n",
            "  (0): Linear(in_features=256, out_features=256, bias=True)\n",
            "  (1): ReLU()\n",
            "  (2): Linear(in_features=256, out_features=256, bias=True)\n",
            "  (3): ReLU()\n",
            "  (4): Linear(in_features=256, out_features=1, bias=True)\n",
            ")\n",
            "\n",
            "[LOG] ************* DisplacementNet forward: START *************\n",
            "\n",
            "[LOG] Input shape: torch.Size([48, 256])\n",
            "[LOG] Output shape: torch.Size([48, 1])\n",
            "\n",
            "[LOG] ************* DisplacementNet forward: END *************\n"
          ]
        }
      ]
    },
    {
      "cell_type": "code",
      "source": [
        "input_mesh_verts = embedded_mesh_verts\n",
        "truth_mesh_verts = displaced_mesh_verts\n",
        "\n",
        "disp_net_model = DisplacementNet(\n",
        "    disp_dim = global_var['disp_dim'],\n",
        "    hidden_dim = global_var['hidden_dim'],\n",
        "    disp_depth = global_var['disp_net_depth'],\n",
        "    norm_ratio = global_var['norm_ratio'],\n",
        "    debug = False)\n",
        "disp_net_model.to(device)\n",
        "\n",
        "criterion = nn.MSELoss()\n",
        "optimizer = torch.optim.AdamW(disp_net_model.parameters(), lr=0.001, betas=(0.9, 0.999), weight_decay=0.02)\n",
        "\n",
        "iters = 1000\n",
        "with trange(iters,desc=\"Train\", unit=\"\", position=0, leave=True) as pbar:\n",
        "    for iter in pbar:\n",
        "        disp_net_model.train()\n",
        "\n",
        "        # Load data\n",
        "        inputs = input_mesh_verts.to(device)\n",
        "        targets = truth_mesh_verts.to(device)\n",
        "\n",
        "        # Forward\n",
        "        optimizer.zero_grad()\n",
        "        outputs = disp_net_model(inputs)\n",
        "\n",
        "        # Compute loss\n",
        "        loss = criterion(outputs, targets)\n",
        "\n",
        "        # Backward\n",
        "        loss.backward(retain_graph=True)\n",
        "        optimizer.step()\n",
        "\n",
        "        # Log\n",
        "        pbar.set_postfix(loss=loss.item())"
      ],
      "metadata": {
        "colab": {
          "base_uri": "https://localhost:8080/"
        },
        "id": "oJJ_Thj8ih_c",
        "outputId": "406ad6a6-f364-43c4-d6f0-1368c861a2aa"
      },
      "execution_count": 49,
      "outputs": [
        {
          "output_type": "stream",
          "name": "stderr",
          "text": [
            "Train: 100%|██████████| 1000/1000 [00:11<00:00, 83.62/s, loss=5.89e-11]\n"
          ]
        }
      ]
    },
    {
      "cell_type": "markdown",
      "source": [
        "## Neural Style Field\n",
        "The Neural Style Field (NSF) is a neural network designed to learn the mapping of mesh vertices, representing the points on its surface, to displacements along the normal direction. This block is essentially a composition of the previous three functional blocks.\n",
        "<center>\n",
        "  <img src=\"https://raw.githubusercontent.com/LorCir28/Shape_deformation_through_2D_guidance/main/pics/nsf.png?token=GHSAT0AAAAAACKX5CEM5W6VOTRNQIKEGPSIZMQF4KA\" alt=\"nsf\" />\n",
        "</center>"
      ],
      "metadata": {
        "id": "IkmxN1dELOoM"
      }
    },
    {
      "cell_type": "code",
      "source": [
        "class NeuralStyleField(nn.Module):\n",
        "    def __init__(self, verts_dim=3, hidden_dim=256, depth=4, disp_dim=1, disp_depth=2, norm_ratio=0.1, debug=False):\n",
        "        super(NeuralStyleField, self).__init__()\n",
        "\n",
        "        layers = []\n",
        "        layers.append(PositionalEncodingNet(verts_dim,hidden_dim,debug=False))\n",
        "        layers.append(EmbeddingNet(hidden_dim,depth,debug=False))\n",
        "        layers.append(DisplacementNet(disp_dim,hidden_dim,disp_depth,debug=False))\n",
        "\n",
        "        self.debug = debug\n",
        "        self.nsf_net = nn.ModuleList(layers)\n",
        "\n",
        "        if self.debug:\n",
        "            print(\"\\n[LOG] Neural Style Field network\")\n",
        "            print(self.nsf_net)\n",
        "\n",
        "    def forward(self, x):\n",
        "        print(f\"\\n[LOG] ************* {self._get_name()} forward: START *************\") if self.debug else None\n",
        "        print(f\"\\n[LOG] Input shape: {x.shape}\") if self.debug else None\n",
        "\n",
        "        for layer in self.nsf_net:\n",
        "            print(\"----------\") if self.debug else None\n",
        "            print(f\"[LOG] \\t{layer._get_name()} input shape: {x.shape}\") if self.debug else None\n",
        "            x = layer(x)\n",
        "            print(f\"[LOG] \\t{layer._get_name()} output shape: {x.shape}\") if self.debug else None\n",
        "            print(\"----------\") if self.debug else None\n",
        "\n",
        "        print(f\"[LOG] Output shape: {x.shape}\") if self.debug else None\n",
        "        print(f\"\\n[LOG] ************* {self._get_name()} forward: END *************\") if self.debug else None\n",
        "\n",
        "        return x"
      ],
      "metadata": {
        "id": "FQHP5sUKPpGT"
      },
      "execution_count": 78,
      "outputs": []
    },
    {
      "cell_type": "code",
      "source": [
        "nsf = NeuralStyleField(\n",
        "    verts_dim = global_var['verts_dim'],\n",
        "    hidden_dim = global_var['hidden_dim'],\n",
        "    depth = global_var['emb_net_depth'],\n",
        "    disp_dim = global_var['disp_dim'],\n",
        "    disp_depth = global_var['disp_net_depth'],\n",
        "    norm_ratio = global_var['norm_ratio'],\n",
        "    debug = global_var['print_debug']\n",
        ")\n",
        "predicted_displacement = nsf(sample_mesh_verts)"
      ],
      "metadata": {
        "colab": {
          "base_uri": "https://localhost:8080/"
        },
        "id": "H1l8DykuSb7_",
        "outputId": "49c66579-93c6-4dec-93b8-f0be13549a78"
      },
      "execution_count": 79,
      "outputs": [
        {
          "output_type": "stream",
          "name": "stdout",
          "text": [
            "\n",
            "[LOG] Neural Style Field network\n",
            "ModuleList(\n",
            "  (0): PositionalEncodingNet(\n",
            "    (pos_net): ModuleList(\n",
            "      (0): Linear(in_features=3, out_features=256, bias=True)\n",
            "      (1): ReLU()\n",
            "    )\n",
            "  )\n",
            "  (1): EmbeddingNet(\n",
            "    (emb_net): ModuleList(\n",
            "      (0): Linear(in_features=256, out_features=256, bias=True)\n",
            "      (1): ReLU()\n",
            "      (2): Linear(in_features=256, out_features=256, bias=True)\n",
            "      (3): ReLU()\n",
            "      (4): Linear(in_features=256, out_features=256, bias=True)\n",
            "      (5): ReLU()\n",
            "      (6): Linear(in_features=256, out_features=256, bias=True)\n",
            "      (7): ReLU()\n",
            "    )\n",
            "  )\n",
            "  (2): DisplacementNet(\n",
            "    (disp_net): ModuleList(\n",
            "      (0): Linear(in_features=256, out_features=256, bias=True)\n",
            "      (1): ReLU()\n",
            "      (2): Linear(in_features=256, out_features=256, bias=True)\n",
            "      (3): ReLU()\n",
            "      (4): Linear(in_features=256, out_features=1, bias=True)\n",
            "    )\n",
            "  )\n",
            ")\n",
            "\n",
            "[LOG] ************* NeuralStyleField forward: START *************\n",
            "\n",
            "[LOG] Input shape: torch.Size([48, 3])\n",
            "----------\n",
            "[LOG] \tPositionalEncodingNet input shape: torch.Size([48, 3])\n",
            "[LOG] \tPositionalEncodingNet output shape: torch.Size([48, 256])\n",
            "----------\n",
            "----------\n",
            "[LOG] \tEmbeddingNet input shape: torch.Size([48, 256])\n",
            "[LOG] \tEmbeddingNet output shape: torch.Size([48, 256])\n",
            "----------\n",
            "----------\n",
            "[LOG] \tDisplacementNet input shape: torch.Size([48, 256])\n",
            "[LOG] \tDisplacementNet output shape: torch.Size([48, 1])\n",
            "----------\n",
            "[LOG] Output shape: torch.Size([48, 1])\n",
            "\n",
            "[LOG] ************* NeuralStyleField forward: END *************\n"
          ]
        }
      ]
    },
    {
      "cell_type": "code",
      "source": [
        "input_mesh_verts = sample_mesh_verts\n",
        "truth_mesh_verts = predicted_displacement\n",
        "\n",
        "nsf_model = NeuralStyleField(\n",
        "    verts_dim = global_var['verts_dim'],\n",
        "    hidden_dim = global_var['hidden_dim'],\n",
        "    depth = global_var['emb_net_depth'],\n",
        "    disp_dim = global_var['disp_dim'],\n",
        "    disp_depth = global_var['disp_net_depth'],\n",
        "    norm_ratio = global_var['norm_ratio'],\n",
        "    debug = False)\n",
        "nsf_model.to(device)\n",
        "\n",
        "criterion = nn.MSELoss()\n",
        "optimizer = torch.optim.AdamW(nsf_model.parameters(), lr=0.001, betas=(0.9, 0.999), weight_decay=0.02)\n",
        "\n",
        "iters = 1000\n",
        "with trange(iters,desc=\"Train\", unit=\"\", position=0, leave=True) as pbar:\n",
        "    for iter in pbar:\n",
        "        nsf_model.train()\n",
        "\n",
        "        # Load data\n",
        "        inputs = input_mesh_verts.to(device)\n",
        "        targets = truth_mesh_verts.to(device)\n",
        "\n",
        "        # Forward\n",
        "        optimizer.zero_grad()\n",
        "        outputs = nsf_model(inputs)\n",
        "\n",
        "        # Compute loss\n",
        "        loss = criterion(outputs, targets)\n",
        "\n",
        "        # Backward\n",
        "        loss.backward(retain_graph=True)\n",
        "        optimizer.step()\n",
        "\n",
        "        # Log\n",
        "        pbar.set_postfix(loss=loss.item())"
      ],
      "metadata": {
        "colab": {
          "base_uri": "https://localhost:8080/"
        },
        "id": "gg56B98Pi8nJ",
        "outputId": "0fc29df1-4782-4847-fe99-d8a4d6812a5f"
      },
      "execution_count": 52,
      "outputs": [
        {
          "output_type": "stream",
          "name": "stderr",
          "text": [
            "Train: 100%|██████████| 1000/1000 [00:27<00:00, 36.54/s, loss=6.46e-12]\n"
          ]
        }
      ]
    },
    {
      "cell_type": "markdown",
      "source": [
        "## Mesh updating\n",
        "The next step consists in summing up the input mesh with the output of the Neural Style Field (i.e. the predicted displacement)\n",
        "\n",
        "<center>\n",
        "<img src=\"https://raw.githubusercontent.com/LorCir28/Shape_deformation_through_2D_guidance/main/pics/update.png?token=GHSAT0AAAAAACKX5CENH2AHW7MWZ5KVLS32ZMT44VQ\" alt=\"update\"/>\n",
        "</center>"
      ],
      "metadata": {
        "id": "rzI-dI1vpsMA"
      }
    },
    {
      "cell_type": "code",
      "source": [
        "print(f\"[LOG] Predicted displacement shape: {predicted_displacement.shape}\")\n",
        "print(f\"[LOG] Predicted displacement for 1st vertex: {predicted_displacement[0]}\")\n",
        "print(f\"[LOG] Original 1st vertex: {sample_mesh.verts_list()[0][0]}\")\n",
        "sample_mesh.offset_verts_(sample_mesh.verts_list()[0]+ sample_mesh.verts_normals_list()[0]*predicted_displacement)\n",
        "print(f\"[LOG] Updated 1st vertex: {sample_mesh.verts_list()[0][0]}\")"
      ],
      "metadata": {
        "colab": {
          "base_uri": "https://localhost:8080/"
        },
        "id": "j-EXSqBR0n47",
        "outputId": "478b0b3f-5c40-4e1a-b733-b97abe01817b"
      },
      "execution_count": 80,
      "outputs": [
        {
          "output_type": "stream",
          "name": "stdout",
          "text": [
            "[LOG] Predicted displacement shape: torch.Size([48, 1])\n",
            "[LOG] Predicted displacement for 1st vertex: tensor([-0.0078], grad_fn=<SelectBackward0>)\n",
            "[LOG] Original 1st vertex: tensor([-0.1225, -0.2887, -0.1225])\n",
            "[LOG] Updated 1st vertex: tensor([-0.2449, -0.5774, -0.2449], grad_fn=<SelectBackward0>)\n"
          ]
        }
      ]
    },
    {
      "cell_type": "markdown",
      "source": [
        "## Differentialbe rendering\n",
        "The output of the previous step (i.e. the stylized mesh) as input to the differentiable renderer. This passage is fundamental to have a point of comparison between the modified mesh and the ground thruth that is necessary to reach (i.e. the 2D guidance)"
      ],
      "metadata": {
        "id": "QWGm0wsjzjy6"
      }
    },
    {
      "cell_type": "code",
      "source": [
        "def rendered_shape(mesh, device, items=3, debug=True):\n",
        "    distances = [round(random.uniform(1, 3),2) for _ in range(items)] # Controllare valori default da cui selezionare quelli random\n",
        "    elevations = [random.randint(0, 359) for _ in range(items)] # This is the angle between the vector from the object to the camera, and the horizontal plane y = 0 (xz-plane).\n",
        "    angles = [random.randint(0, 359) for _ in range(items)] # The vector from the object to the camera is projected onto a horizontal plane y = 0. azim is the angle between the projected vector and a reference vector at (0, 0, 1) on the reference plane (the horizontal plane).\n",
        "    rendered_images = []\n",
        "\n",
        "    for idx in tqdm(range(items)):\n",
        "        print(f\"[LOG] Computing render for distance {distances[idx]}, elevation {elevations[idx]}, angle {angles[idx]}\") if debug else None\n",
        "        R, T = look_at_view_transform(\n",
        "            distances[idx],\n",
        "            elevations[idx],\n",
        "            angles[idx],\n",
        "            degrees=True)\n",
        "\n",
        "        cameras = FoVPerspectiveCameras(device=device, R=R, T=T)\n",
        "\n",
        "        raster_settings = RasterizationSettings(\n",
        "            image_size=512,\n",
        "            blur_radius=0.0,\n",
        "            faces_per_pixel=1,\n",
        "        )\n",
        "\n",
        "        lights = PointLights(device=device, location=[[0.0, 0.0, -3.0]])\n",
        "\n",
        "        renderer = MeshRenderer(\n",
        "            rasterizer=MeshRasterizer(\n",
        "                cameras=cameras,\n",
        "                raster_settings=raster_settings\n",
        "            ),\n",
        "            shader=SoftPhongShader(\n",
        "                device=device,\n",
        "                cameras=cameras,\n",
        "                lights=lights\n",
        "            )\n",
        "        )\n",
        "\n",
        "        rendered_images.append(renderer(mesh))\n",
        "\n",
        "    return distances, elevations, angles, rendered_images"
      ],
      "metadata": {
        "id": "xGfR0FoS0AwK"
      },
      "execution_count": 81,
      "outputs": []
    },
    {
      "cell_type": "code",
      "source": [
        "distances_, elevations_, angles_, rendered_images = rendered_shape(sample_mesh,device,items=global_var['rendered_items'])"
      ],
      "metadata": {
        "colab": {
          "base_uri": "https://localhost:8080/"
        },
        "id": "ewKGwIdttj7f",
        "outputId": "291d051d-bd70-4b4f-93b8-601d20079262"
      },
      "execution_count": 82,
      "outputs": [
        {
          "output_type": "stream",
          "name": "stdout",
          "text": [
            "[LOG] Computing render for distance 1.96, elevation 66, angle 173\n",
            "[LOG] Computing render for distance 2.46, elevation 303, angle 259\n",
            "[LOG] Computing render for distance 1.18, elevation 78, angle 125\n",
            "[LOG] Computing render for distance 2.81, elevation 112, angle 74\n"
          ]
        }
      ]
    },
    {
      "cell_type": "code",
      "source": [
        "fig, ax = plt.subplots(2,2,figsize=(12, 8))\n",
        "\n",
        "for i, ax in enumerate(ax.flat):\n",
        "    ax.imshow(rendered_images[i][0, ..., :3].detach().numpy())\n",
        "    ax.set_title(f\"Distance:{distances_[i]} m - Elevation:{elevations_[i]} deg - Inclination:{angles_[i]} deg\")\n",
        "\n",
        "plt.tight_layout()\n",
        "plt.show()"
      ],
      "metadata": {
        "colab": {
          "base_uri": "https://localhost:8080/",
          "height": 807
        },
        "id": "XWWVHiaU0UCZ",
        "outputId": "51f5b8b5-f2f1-478a-e029-fc556982ad66"
      },
      "execution_count": 83,
      "outputs": [
        {
          "output_type": "display_data",
          "data": {
            "text/plain": [
              "<Figure size 1200x800 with 4 Axes>"
            ],
            "image/png": "[encoded data removed]"
          },
          "metadata": {}
        }
      ]
    },
    {
      "cell_type": "markdown",
      "source": [
        "## 2D augmentation\n",
        "This step let have more views of the stylized mesh in order to have more comparison with the ground thruth when the loss has to be computed."
      ],
      "metadata": {
        "id": "BHrLGpz00BiD"
      }
    },
    {
      "cell_type": "code",
      "source": [
        "augment_transform = transforms.Compose([\n",
        "    transforms.RandomResizedCrop(512, scale=(1, 1)),\n",
        "    transforms.RandomPerspective(fill=1, p=0.8, distortion_scale=0.5)\n",
        "])"
      ],
      "metadata": {
        "id": "gkXZBFMG0PWc"
      },
      "execution_count": 84,
      "outputs": []
    },
    {
      "cell_type": "code",
      "source": [
        "def augmentation2D(rendered_images):\n",
        "  augmented_images = [] # array with augmented images\n",
        "\n",
        "  for rendered_image in rendered_images:\n",
        "    augmented_image = augment_transform(rendered_image[0, ..., :4].permute(2, 0, 1))\n",
        "    augmented_images.append(augmented_image)\n",
        "\n",
        "  return augmented_images"
      ],
      "metadata": {
        "id": "ipcLyjXRQYcE"
      },
      "execution_count": 85,
      "outputs": []
    },
    {
      "cell_type": "code",
      "source": [
        "augmented_images = augmentation2D(rendered_images)\n",
        "\n",
        "plt.subplot(2, 2, 1)\n",
        "\n",
        "i  = 0\n",
        "for augmented_image in augmented_images:\n",
        "  plt.subplot(2, 2, i + 1)\n",
        "  i += 1\n",
        "  plt.imshow(augmented_image.detach().permute(1, 2, 0))  # Convert back to (H, W, C) for display\n",
        "  plt.title(f\" Augmented image {i + 1}\")\n",
        "\n",
        "plt.tight_layout()\n",
        "plt.show()"
      ],
      "metadata": {
        "colab": {
          "base_uri": "https://localhost:8080/",
          "height": 486
        },
        "id": "zIY7Ww4Y0V2R",
        "outputId": "9e2074d5-154f-4f3a-9634-c39c7edbd036"
      },
      "execution_count": 86,
      "outputs": [
        {
          "output_type": "display_data",
          "data": {
            "text/plain": [
              "<Figure size 640x480 with 4 Axes>"
            ],
            "image/png": "[encoded data removed]"
          },
          "metadata": {}
        }
      ]
    },
    {
      "cell_type": "markdown",
      "source": [
        "# Loss\n",
        "To compare the input 2D guidance with the rendered deformed shape is important to select an apporpiate loss."
      ],
      "metadata": {
        "id": "iXEPxfIq3yRk"
      }
    },
    {
      "cell_type": "code",
      "source": [
        "guid_mesh_idx = 9\n",
        "guid_mesh_path = meshes_paths[guid_mesh_idx]\n",
        "guid_mesh = meshes[guid_mesh_idx]\n",
        "\n",
        "mesh_fig = mesh_visualization(guid_mesh_path)\n",
        "mesh_fig.show()"
      ],
      "metadata": {
        "colab": {
          "base_uri": "https://localhost:8080/",
          "height": 542
        },
        "id": "lasrT3cX0r5L",
        "outputId": "1544e671-707b-4725-eb2f-8e08256342f3"
      },
      "execution_count": null,
      "outputs": [
        {
          "output_type": "display_data",
          "data": {
            "text/html": [
              "<html>\n",
              "<head><meta charset=\"utf-8\" /></head>\n",
              "<body>\n",
              "    <div>            <script src=\"https://cdnjs.cloudflare.com/ajax/libs/mathjax/2.7.5/MathJax.js?config=TeX-AMS-MML_SVG\"></script><script type=\"text/javascript\">if (window.MathJax && window.MathJax.Hub && window.MathJax.Hub.Config) {window.MathJax.Hub.Config({SVG: {font: \"STIX-Web\"}});}</script>                <script type=\"text/javascript\">window.PlotlyConfig = {MathJaxConfig: 'local'};</script>\n",
              "        <script charset=\"utf-8\" src=\"https://cdn.plot.ly/plotly-2.24.1.min.js\"></script>                <div id=\"cf1c39bc-e29f-4bb8-a89e-d6b390ed2a34\" class=\"plotly-graph-div\" style=\"height:525px; width:100%;\"></div>            <script type=\"text/javascript\">                                    window.PLOTLYENV=window.PLOTLYENV || {};                                    if (document.getElementById(\"cf1c39bc-e29f-4bb8-a89e-d6b390ed2a34\")) {                    Plotly.newPlot(                        \"cf1c39bc-e29f-4bb8-a89e-d6b390ed2a34\",                        [{\"facecolor\":[[0.798569997704974,0.5972515470893183,0.8890990787179867],[0.7985760455851778,0.5972507926932747,0.8890946264384123],[0.201430002295026,0.40274845291068173,0.1109009212820134],[0.20142395441482225,0.40274920730672525,0.11090537356158775],[0.8890944780984551,0.5972517356657298,0.7985759317548784],[0.11090552190154485,0.40274826433427025,0.20142406824512155],[0.6876831693697767,0.5972509438400633,0.9531195006370092],[0.3123168306302233,0.4027490561599368,0.04688049936299071],[0.8890991677225508,0.5972509813087409,0.7985700660014414],[0.11090083227744912,0.4027490186912591,0.20142993399855857],[0.6876841020007118,0.5972508432501136,0.9531191359271072],[0.31231589799928816,0.4027491567498864,0.046880864072892825],[0.9531191128922003,0.5972509689896346,0.6876840924595438],[0.04688088710779964,0.40274903101036547,0.3123159075404562],[0.31231589799928816,0.5972508432501136,0.9531191359271072],[0.6876841020007118,0.4027491567498864,0.046880864072892825],[0.20142395441482225,0.5972507926932747,0.8890946264384123],[0.7985760455851778,0.40274920730672525,0.11090537356158775],[0.5640204558213423,0.5972507862971531,0.9862547334484395],[0.4359795441786577,0.4027492137028469,0.013745266551560498],[0.9531195144580444,0.5972508683959168,0.6876831750944822],[0.04688048554195551,0.40274913160408315,0.3123168249055178],[0.11090537356158775,0.5972507926932747,0.7985760455851778],[0.8890946264384123,0.40274920730672525,0.20142395441482225],[0.3123168306302233,0.5972509438400633,0.9531195006370092],[0.6876831693697767,0.4027490561599368,0.04688049936299071],[0.4359795441786577,0.5972507862971531,0.9862547334484395],[0.5640204558213423,0.4027492137028469,0.013745266551560498],[0.201430002295026,0.5972515470893183,0.8890990787179867],[0.798569997704974,0.40274845291068173,0.1109009212820134],[0.5640183881465308,0.597250995285426,0.9862549638770941],[0.4359816118534692,0.402749004714574,0.01374503612290584],[0.9862550152334728,0.5972507340522965,0.5640183949079067],[0.013744984766527246,0.40274926594770355,0.43598160509209327],[0.1109009212820134,0.5972515470893183,0.798569997704974],[0.8890990787179867,0.40274845291068173,0.201430002295026],[0.046880499362990824,0.5972509438400633,0.6876831693697767],[0.9531195006370092,0.4027490561599368,0.3123168306302233],[0.4359816118534692,0.597250995285426,0.9862549638770941],[0.5640183881465308,0.402749004714574,0.01374503612290584],[0.9862547026346483,0.5972509430369355,0.5640204517643885],[0.013745297365351683,0.40274905696306446,0.4359795482356114],[0.046880864072892825,0.5972508432501136,0.6876841020007118],[0.9531191359271072,0.4027491567498864,0.31231589799928816],[0.9862549638770941,0.597250995285426,0.4359816118534692],[0.01374503612290584,0.402749004714574,0.5640183881465308],[0.013745266551560498,0.5972507862971531,0.5640204558213423],[0.9862547334484395,0.4027492137028469,0.4359795441786577],[0.9862547334484395,0.5972507862971531,0.4359795441786577],[0.013745266551560498,0.4027492137028469,0.5640204558213423],[0.01374503612290584,0.597250995285426,0.5640183881465308],[0.9862549638770941,0.402749004714574,0.4359816118534692],[0.9531191359271072,0.5972508432501136,0.31231589799928816],[0.046880864072892825,0.4027491567498864,0.6876841020007118],[0.013745297365351683,0.5972509430369355,0.4359795482356114],[0.9862547026346483,0.40274905696306446,0.5640204517643885],[0.013744984766527246,0.5972507340522965,0.43598160509209327],[0.9862550152334728,0.40274926594770355,0.5640183949079067],[0.9531195006370092,0.5972509438400633,0.3123168306302233],[0.046880499362990824,0.4027490561599368,0.6876831693697767],[0.04688048554195551,0.5972508683959168,0.3123168249055178],[0.9531195144580444,0.40274913160408315,0.6876831750944822],[0.8890946264384123,0.5972507926932747,0.20142395441482225],[0.11090537356158775,0.40274920730672525,0.7985760455851778],[0.04688088710779964,0.5972509689896346,0.3123159075404562],[0.9531191128922003,0.40274903101036547,0.6876840924595438],[0.8890990787179867,0.5972515470893183,0.201430002295026],[0.1109009212820134,0.40274845291068173,0.798569997704974],[0.11090083227744912,0.5972509813087409,0.20142993399855857],[0.8890991677225508,0.4027490186912591,0.7985700660014414],[0.798569997704974,0.5972515470893183,0.1109009212820134],[0.201430002295026,0.40274845291068173,0.8890990787179867],[0.11090552190154485,0.5972517356657298,0.20142406824512155],[0.8890944780984551,0.40274826433427025,0.7985759317548784],[0.7985760455851778,0.5972507926932747,0.11090537356158775],[0.20142395441482225,0.40274920730672525,0.8890946264384123],[0.201430002295026,0.5972515470893183,0.1109009212820134],[0.798569997704974,0.40274845291068173,0.8890990787179867],[0.20142395441482225,0.5972507926932747,0.11090537356158775],[0.7985760455851778,0.40274920730672525,0.8890946264384123],[0.6876831693697767,0.5972509438400633,0.04688049936299071],[0.3123168306302233,0.4027490561599368,0.9531195006370092],[0.3123168306302233,0.5972509438400633,0.04688049936299071],[0.6876831693697767,0.4027490561599368,0.9531195006370092],[0.6876841020007118,0.5972508432501136,0.046880864072892825],[0.31231589799928816,0.4027491567498864,0.9531191359271072],[0.31231589799928816,0.5972508432501136,0.046880864072892825],[0.6876841020007118,0.4027491567498864,0.9531191359271072],[0.5640204558213423,0.5972507862971531,0.013745266551560498],[0.4359795441786577,0.4027492137028469,0.9862547334484395],[0.43598160509209327,0.5972507340522965,0.013744984766527246],[0.5640183949079067,0.40274926594770355,0.9862550152334728],[0.5640183881465308,0.597250995285426,0.01374503612290584],[0.4359816118534692,0.402749004714574,0.9862549638770941],[0.4359795482356114,0.5972509430369355,0.013745297365351683],[0.5640204517643885,0.40274905696306446,0.9862547026346483],[0.5,0.0,0.5],[0.5,1.0,0.5],[0.5,0.0,0.5],[0.5,1.0,0.5],[0.5,0.0,0.5],[0.5,1.0,0.5],[0.5,0.0,0.5],[0.5,1.0,0.5],[0.5,0.0,0.5],[0.5,1.0,0.5],[0.5,0.0,0.5],[0.5,1.0,0.5],[0.5,0.0,0.5],[0.5,1.0,0.5],[0.5,0.0,0.5],[0.5,1.0,0.5],[0.5,0.0,0.5],[0.5,1.0,0.5],[0.5,0.0,0.5],[0.5,1.0,0.5],[0.5,0.0,0.5],[0.5,1.0,0.5],[0.5,0.0,0.5],[0.5,1.0,0.5],[0.5,0.0,0.5],[0.5,1.0,0.5],[0.5,0.0,0.5],[0.5,1.0,0.5],[0.5,0.0,0.5],[0.5,1.0,0.5],[0.5,0.0,0.5],[0.5,1.0,0.5],[0.5,0.0,0.5],[0.5,1.0,0.5],[0.5,0.0,0.5],[0.5,1.0,0.5],[0.5,0.0,0.5],[0.5,1.0,0.5],[0.5,0.0,0.5],[0.5,1.0,0.5],[0.5,0.0,0.5],[0.5,1.0,0.5],[0.5,0.0,0.5],[0.5,1.0,0.5]],\"i\":[0,1,4,7,8,11,14,17,9,21,15,23,24,27,30,33,36,39,42,45,25,49,50,53,31,57,58,61,37,65,43,67,68,71,51,75,76,79,59,83,69,85,77,87,88,91,94,97,89,101,95,103,104,107,110,113,111,117,105,119,120,123,126,129,121,133,127,135,136,139,142,145,137,149,143,151,152,155,153,159,160,163,166,169,161,173,167,175,176,179,182,185,177,189,183,191,192,195,194,200,192,196,194,201,199,205,206,197,199,209,202,211,208,213,208,215,214,217,214,220,214,221,219,223,222,225,222,227,226,229,226,231,226,233,232,235,232,237,236,239],\"j\":[1,0,5,6,9,12,15,18,8,13,14,19,25,28,31,34,37,40,43,46,24,29,51,54,30,35,59,62,36,41,42,47,69,72,50,55,77,80,58,63,68,73,76,81,89,92,95,98,88,93,94,99,105,108,111,114,110,115,104,109,121,124,127,130,120,125,126,131,137,140,143,146,136,141,142,147,153,156,152,157,161,164,167,170,160,165,166,171,177,180,183,186,176,181,182,187,193,196,198,201,202,203,193,196,198,201,202,203,204,205,206,207,204,205,212,213,212,213,218,221,216,217,218,221,218,221,224,225,224,225,228,229,230,231,230,231,234,235,234,235],\"k\":[2,3,6,5,10,13,16,19,20,12,22,18,26,29,32,35,38,41,44,47,48,28,52,55,56,34,60,63,64,40,66,46,70,73,74,54,78,81,82,62,84,72,86,80,90,93,96,99,100,92,102,98,106,109,112,115,116,114,118,108,122,125,128,131,132,124,134,130,138,141,144,147,148,140,150,146,154,157,158,156,162,165,168,171,172,164,174,170,178,181,184,187,188,180,190,186,194,197,199,195,193,197,198,195,204,200,192,207,208,200,210,203,212,209,214,209,216,215,219,215,218,215,222,220,224,223,226,223,228,227,230,227,232,227,234,233,236,233,238,237],\"opacity\":0.5,\"x\":[-0.12247399985790253,-0.144337996840477,-0.20412400364875793,-0.08660300076007843,-0.20412400364875793,-0.144337996840477,-0.12247399985790253,-0.08660300076007843,-0.20412400364875793,-0.15000000596046448,-0.12247399985790253,-0.12247399985790253,-0.15000000596046448,-0.20412400364875793,-0.08660300076007843,-0.07471500337123871,-0.144337996840477,-0.144337996840477,-0.07471500337123871,-0.08660300076007843,-0.25,-0.25,-0.044828999787569046,-0.044828999787569046,-0.25,-0.16730299592018127,-0.15000000596046448,-0.15000000596046448,-0.16730299592018127,-0.25,0.08660300076007843,0.07471500337123871,0.044828999787569046,0.044828999787569046,0.07471500337123871,0.08660300076007843,0.12247399985790253,0.144337996840477,0.08660300076007843,0.08660300076007843,0.144337996840477,0.12247399985790253,-0.044828999787569046,-0.0,-0.07471500337123871,-0.07471500337123871,-0.0,-0.044828999787569046,-0.27883800864219666,-0.27883800864219666,0.25,0.12247399985790253,0.15000000596046448,0.15000000596046448,0.12247399985790253,0.25,0.144337996840477,0.144337996840477,-0.0,0.044828999787569046,0.07471500337123871,0.07471500337123871,0.044828999787569046,-0.0,0.20412400364875793,0.20412400364875793,-0.0,-0.0,-0.27883800864219666,-0.17320500314235687,-0.16730299592018127,-0.16730299592018127,-0.17320500314235687,-0.27883800864219666,0.20412400364875793,0.20412400364875793,0.15000000596046448,0.27883800864219666,0.25,0.25,0.27883800864219666,0.15000000596046448,-0.0,-0.0,-0.2886750102043152,-0.2886750102043152,0.16730299592018127,0.16730299592018127,-0.2886750102043152,-0.16730299592018127,-0.17320500314235687,-0.17320500314235687,-0.16730299592018127,-0.2886750102043152,0.16730299592018127,0.2886750102043152,0.27883800864219666,0.27883800864219666,0.2886750102043152,0.16730299592018127,-0.27883800864219666,-0.27883800864219666,0.17320500314235687,0.17320500314235687,-0.27883800864219666,-0.15000000596046448,-0.16730299592018127,-0.16730299592018127,-0.15000000596046448,-0.27883800864219666,0.17320500314235687,0.27883800864219666,0.2886750102043152,0.2886750102043152,0.27883800864219666,0.17320500314235687,0.16730299592018127,0.16730299592018127,-0.25,-0.25,0.16730299592018127,0.25,0.27883800864219666,0.27883800864219666,0.25,0.16730299592018127,-0.25,-0.12247399985790253,-0.15000000596046448,-0.15000000596046448,-0.12247399985790253,-0.25,0.15000000596046448,0.15000000596046448,-0.20412400364875793,-0.20412400364875793,0.15000000596046448,0.20412400364875793,0.25,0.25,0.20412400364875793,0.15000000596046448,-0.144337996840477,-0.12247399985790253,-0.20412400364875793,-0.20412400364875793,-0.12247399985790253,-0.144337996840477,0.12247399985790253,0.12247399985790253,-0.08660300076007843,-0.08660300076007843,0.12247399985790253,0.144337996840477,0.20412400364875793,0.20412400364875793,0.144337996840477,0.12247399985790253,0.08660300076007843,0.08660300076007843,-0.07471500337123871,-0.08660300076007843,-0.144337996840477,-0.144337996840477,-0.08660300076007843,-0.07471500337123871,0.08660300076007843,0.07471500337123871,0.144337996840477,0.144337996840477,0.07471500337123871,0.08660300076007843,-0.044828999787569046,-0.044828999787569046,0.044828999787569046,0.044828999787569046,-0.0,-0.044828999787569046,-0.07471500337123871,-0.07471500337123871,-0.044828999787569046,-0.0,-0.0,0.07471500337123871,0.044828999787569046,0.044828999787569046,0.07471500337123871,-0.0,-0.0,-0.0,-0.0,-0.0,-0.08660300076007843,0.08660300076007843,-0.12247399985790253,-0.12247399985790253,0.08660300076007843,-0.08660300076007843,0.12247399985790253,-0.15000000596046448,-0.15000000596046448,0.12247399985790253,0.044828999787569046,0.044828999787569046,0.15000000596046448,0.15000000596046448,-0.044828999787569046,-0.044828999787569046,-0.16730299592018127,-0.16730299592018127,-0.0,-0.0,0.16730299592018127,0.16730299592018127,-0.17320500314235687,-0.17320500314235687,0.17320500314235687,0.17320500314235687,0.16730299592018127,-0.16730299592018127,-0.16730299592018127,0.16730299592018127,-0.15000000596046448,-0.15000000596046448,0.15000000596046448,0.15000000596046448,-0.12247399985790253,-0.12247399985790253,0.12247399985790253,0.12247399985790253,0.08660300076007843,0.08660300076007843,-0.08660300076007843,-0.08660300076007843,0.044828999787569046,0.044828999787569046,-0.044828999787569046,-0.044828999787569046,-0.0,-0.0],\"y\":[-0.2886750102043152,0.2886750102043152,0.2886750102043152,-0.2886750102043152,0.2886750102043152,0.2886750102043152,-0.2886750102043152,-0.2886750102043152,0.2886750102043152,-0.2886750102043152,-0.2886750102043152,-0.2886750102043152,-0.2886750102043152,0.2886750102043152,-0.2886750102043152,0.2886750102043152,0.2886750102043152,0.2886750102043152,0.2886750102043152,-0.2886750102043152,0.2886750102043152,0.2886750102043152,-0.2886750102043152,-0.2886750102043152,0.2886750102043152,-0.2886750102043152,-0.2886750102043152,-0.2886750102043152,-0.2886750102043152,0.2886750102043152,-0.2886750102043152,0.2886750102043152,-0.2886750102043152,-0.2886750102043152,0.2886750102043152,-0.2886750102043152,-0.2886750102043152,0.2886750102043152,-0.2886750102043152,-0.2886750102043152,0.2886750102043152,-0.2886750102043152,-0.2886750102043152,0.2886750102043152,0.2886750102043152,0.2886750102043152,0.2886750102043152,-0.2886750102043152,0.2886750102043152,0.2886750102043152,0.2886750102043152,-0.2886750102043152,-0.2886750102043152,-0.2886750102043152,-0.2886750102043152,0.2886750102043152,0.2886750102043152,0.2886750102043152,0.2886750102043152,-0.2886750102043152,0.2886750102043152,0.2886750102043152,-0.2886750102043152,0.2886750102043152,0.2886750102043152,0.2886750102043152,-0.2886750102043152,-0.2886750102043152,0.2886750102043152,-0.2886750102043152,-0.2886750102043152,-0.2886750102043152,-0.2886750102043152,0.2886750102043152,0.2886750102043152,0.2886750102043152,-0.2886750102043152,0.2886750102043152,0.2886750102043152,0.2886750102043152,0.2886750102043152,-0.2886750102043152,-0.2886750102043152,-0.2886750102043152,0.2886750102043152,0.2886750102043152,-0.2886750102043152,-0.2886750102043152,0.2886750102043152,-0.2886750102043152,-0.2886750102043152,-0.2886750102043152,-0.2886750102043152,0.2886750102043152,-0.2886750102043152,0.2886750102043152,0.2886750102043152,0.2886750102043152,0.2886750102043152,-0.2886750102043152,0.2886750102043152,0.2886750102043152,-0.2886750102043152,-0.2886750102043152,0.2886750102043152,-0.2886750102043152,-0.2886750102043152,-0.2886750102043152,-0.2886750102043152,0.2886750102043152,-0.2886750102043152,0.2886750102043152,0.2886750102043152,0.2886750102043152,0.2886750102043152,-0.2886750102043152,-0.2886750102043152,-0.2886750102043152,0.2886750102043152,0.2886750102043152,-0.2886750102043152,0.2886750102043152,0.2886750102043152,0.2886750102043152,0.2886750102043152,-0.2886750102043152,0.2886750102043152,-0.2886750102043152,-0.2886750102043152,-0.2886750102043152,-0.2886750102043152,0.2886750102043152,-0.2886750102043152,-0.2886750102043152,0.2886750102043152,0.2886750102043152,-0.2886750102043152,0.2886750102043152,0.2886750102043152,0.2886750102043152,0.2886750102043152,-0.2886750102043152,0.2886750102043152,-0.2886750102043152,0.2886750102043152,0.2886750102043152,-0.2886750102043152,0.2886750102043152,-0.2886750102043152,-0.2886750102043152,-0.2886750102043152,-0.2886750102043152,-0.2886750102043152,0.2886750102043152,0.2886750102043152,0.2886750102043152,0.2886750102043152,-0.2886750102043152,-0.2886750102043152,-0.2886750102043152,0.2886750102043152,-0.2886750102043152,0.2886750102043152,0.2886750102043152,-0.2886750102043152,0.2886750102043152,-0.2886750102043152,0.2886750102043152,0.2886750102043152,0.2886750102043152,0.2886750102043152,-0.2886750102043152,-0.2886750102043152,-0.2886750102043152,-0.2886750102043152,-0.2886750102043152,0.2886750102043152,-0.2886750102043152,0.2886750102043152,0.2886750102043152,-0.2886750102043152,0.2886750102043152,-0.2886750102043152,0.2886750102043152,-0.2886750102043152,-0.2886750102043152,0.2886750102043152,-0.2886750102043152,-0.2886750102043152,-0.2886750102043152,0.2886750102043152,0.2886750102043152,-0.2886750102043152,-0.2886750102043152,-0.2886750102043152,-0.2886750102043152,-0.2886750102043152,-0.2886750102043152,-0.2886750102043152,-0.2886750102043152,-0.2886750102043152,-0.2886750102043152,-0.2886750102043152,-0.2886750102043152,-0.2886750102043152,-0.2886750102043152,-0.2886750102043152,-0.2886750102043152,-0.2886750102043152,-0.2886750102043152,-0.2886750102043152,-0.2886750102043152,-0.2886750102043152,-0.2886750102043152,-0.2886750102043152,-0.2886750102043152,-0.2886750102043152,-0.2886750102043152,-0.2886750102043152,-0.2886750102043152,-0.2886750102043152,-0.2886750102043152,-0.2886750102043152,-0.2886750102043152,-0.2886750102043152,-0.2886750102043152,-0.2886750102043152,-0.2886750102043152,-0.2886750102043152,-0.2886750102043152,-0.2886750102043152,-0.2886750102043152,-0.2886750102043152,-0.2886750102043152,-0.2886750102043152,-0.2886750102043152,-0.2886750102043152,-0.2886750102043152,-0.2886750102043152,-0.2886750102043152],\"z\":[-0.12247399985790253,-0.25,-0.20412400364875793,-0.15000000596046448,-0.20412400364875793,-0.25,-0.12247399985790253,-0.15000000596046448,-0.20412400364875793,-0.08660300076007843,-0.12247399985790253,-0.12247399985790253,-0.08660300076007843,-0.20412400364875793,-0.15000000596046448,-0.27883800864219666,-0.25,-0.25,-0.27883800864219666,-0.15000000596046448,-0.144337996840477,-0.144337996840477,-0.16730299592018127,-0.16730299592018127,-0.144337996840477,-0.044828999787569046,-0.08660300076007843,-0.08660300076007843,-0.044828999787569046,-0.144337996840477,-0.15000000596046448,-0.27883800864219666,-0.16730299592018127,-0.16730299592018127,-0.27883800864219666,-0.15000000596046448,-0.12247399985790253,-0.25,-0.15000000596046448,-0.15000000596046448,-0.25,-0.12247399985790253,-0.16730299592018127,-0.2886750102043152,-0.27883800864219666,-0.27883800864219666,-0.2886750102043152,-0.16730299592018127,-0.07471500337123871,-0.07471500337123871,-0.144337996840477,-0.12247399985790253,-0.08660300076007843,-0.08660300076007843,-0.12247399985790253,-0.144337996840477,-0.25,-0.25,-0.2886750102043152,-0.16730299592018127,-0.27883800864219666,-0.27883800864219666,-0.16730299592018127,-0.2886750102043152,-0.20412400364875793,-0.20412400364875793,-0.17320500314235687,-0.17320500314235687,-0.07471500337123871,0.0,-0.044828999787569046,-0.044828999787569046,0.0,-0.07471500337123871,-0.20412400364875793,-0.20412400364875793,-0.08660300076007843,-0.07471500337123871,-0.144337996840477,-0.144337996840477,-0.07471500337123871,-0.08660300076007843,-0.17320500314235687,-0.17320500314235687,0.0,0.0,-0.044828999787569046,-0.044828999787569046,0.0,0.044828999787569046,0.0,0.0,0.044828999787569046,0.0,-0.044828999787569046,0.0,-0.07471500337123871,-0.07471500337123871,0.0,-0.044828999787569046,0.07471500337123871,0.07471500337123871,0.0,0.0,0.07471500337123871,0.08660300076007843,0.044828999787569046,0.044828999787569046,0.08660300076007843,0.07471500337123871,0.0,0.07471500337123871,0.0,0.0,0.07471500337123871,0.0,0.044828999787569046,0.044828999787569046,0.144337996840477,0.144337996840477,0.044828999787569046,0.144337996840477,0.07471500337123871,0.07471500337123871,0.144337996840477,0.044828999787569046,0.144337996840477,0.12247399985790253,0.08660300076007843,0.08660300076007843,0.12247399985790253,0.144337996840477,0.08660300076007843,0.08660300076007843,0.20412400364875793,0.20412400364875793,0.08660300076007843,0.20412400364875793,0.144337996840477,0.144337996840477,0.20412400364875793,0.08660300076007843,0.25,0.12247399985790253,0.20412400364875793,0.20412400364875793,0.12247399985790253,0.25,0.12247399985790253,0.12247399985790253,0.15000000596046448,0.15000000596046448,0.12247399985790253,0.25,0.20412400364875793,0.20412400364875793,0.25,0.12247399985790253,0.15000000596046448,0.15000000596046448,0.27883800864219666,0.15000000596046448,0.25,0.25,0.15000000596046448,0.27883800864219666,0.15000000596046448,0.27883800864219666,0.25,0.25,0.27883800864219666,0.15000000596046448,0.16730299592018127,0.16730299592018127,0.16730299592018127,0.16730299592018127,0.2886750102043152,0.16730299592018127,0.27883800864219666,0.27883800864219666,0.16730299592018127,0.2886750102043152,0.17320500314235687,0.27883800864219666,0.16730299592018127,0.16730299592018127,0.27883800864219666,0.17320500314235687,0.17320500314235687,0.17320500314235687,0.2886750102043152,0.2886750102043152,-0.15000000596046448,-0.15000000596046448,-0.12247399985790253,-0.12247399985790253,-0.15000000596046448,-0.15000000596046448,-0.12247399985790253,-0.08660300076007843,-0.08660300076007843,-0.12247399985790253,-0.16730299592018127,-0.16730299592018127,-0.08660300076007843,-0.08660300076007843,-0.16730299592018127,-0.16730299592018127,-0.044828999787569046,-0.044828999787569046,-0.17320500314235687,-0.17320500314235687,-0.044828999787569046,-0.044828999787569046,0.0,0.0,0.0,0.0,0.044828999787569046,0.044828999787569046,0.044828999787569046,0.044828999787569046,0.08660300076007843,0.08660300076007843,0.08660300076007843,0.08660300076007843,0.12247399985790253,0.12247399985790253,0.12247399985790253,0.12247399985790253,0.15000000596046448,0.15000000596046448,0.15000000596046448,0.15000000596046448,0.16730299592018127,0.16730299592018127,0.16730299592018127,0.16730299592018127,0.17320500314235687,0.17320500314235687],\"type\":\"mesh3d\"}],                        {\"scene\":{\"xaxis\":{\"visible\":true},\"yaxis\":{\"visible\":true},\"zaxis\":{\"visible\":true}},\"template\":{\"data\":{\"histogram2dcontour\":[{\"type\":\"histogram2dcontour\",\"colorbar\":{\"outlinewidth\":0,\"ticks\":\"\"},\"colorscale\":[[0.0,\"#0d0887\"],[0.1111111111111111,\"#46039f\"],[0.2222222222222222,\"#7201a8\"],[0.3333333333333333,\"#9c179e\"],[0.4444444444444444,\"#bd3786\"],[0.5555555555555556,\"#d8576b\"],[0.6666666666666666,\"#ed7953\"],[0.7777777777777778,\"#fb9f3a\"],[0.8888888888888888,\"#fdca26\"],[1.0,\"#f0f921\"]]}],\"choropleth\":[{\"type\":\"choropleth\",\"colorbar\":{\"outlinewidth\":0,\"ticks\":\"\"}}],\"histogram2d\":[{\"type\":\"histogram2d\",\"colorbar\":{\"outlinewidth\":0,\"ticks\":\"\"},\"colorscale\":[[0.0,\"#0d0887\"],[0.1111111111111111,\"#46039f\"],[0.2222222222222222,\"#7201a8\"],[0.3333333333333333,\"#9c179e\"],[0.4444444444444444,\"#bd3786\"],[0.5555555555555556,\"#d8576b\"],[0.6666666666666666,\"#ed7953\"],[0.7777777777777778,\"#fb9f3a\"],[0.8888888888888888,\"#fdca26\"],[1.0,\"#f0f921\"]]}],\"heatmap\":[{\"type\":\"heatmap\",\"colorbar\":{\"outlinewidth\":0,\"ticks\":\"\"},\"colorscale\":[[0.0,\"#0d0887\"],[0.1111111111111111,\"#46039f\"],[0.2222222222222222,\"#7201a8\"],[0.3333333333333333,\"#9c179e\"],[0.4444444444444444,\"#bd3786\"],[0.5555555555555556,\"#d8576b\"],[0.6666666666666666,\"#ed7953\"],[0.7777777777777778,\"#fb9f3a\"],[0.8888888888888888,\"#fdca26\"],[1.0,\"#f0f921\"]]}],\"heatmapgl\":[{\"type\":\"heatmapgl\",\"colorbar\":{\"outlinewidth\":0,\"ticks\":\"\"},\"colorscale\":[[0.0,\"#0d0887\"],[0.1111111111111111,\"#46039f\"],[0.2222222222222222,\"#7201a8\"],[0.3333333333333333,\"#9c179e\"],[0.4444444444444444,\"#bd3786\"],[0.5555555555555556,\"#d8576b\"],[0.6666666666666666,\"#ed7953\"],[0.7777777777777778,\"#fb9f3a\"],[0.8888888888888888,\"#fdca26\"],[1.0,\"#f0f921\"]]}],\"contourcarpet\":[{\"type\":\"contourcarpet\",\"colorbar\":{\"outlinewidth\":0,\"ticks\":\"\"}}],\"contour\":[{\"type\":\"contour\",\"colorbar\":{\"outlinewidth\":0,\"ticks\":\"\"},\"colorscale\":[[0.0,\"#0d0887\"],[0.1111111111111111,\"#46039f\"],[0.2222222222222222,\"#7201a8\"],[0.3333333333333333,\"#9c179e\"],[0.4444444444444444,\"#bd3786\"],[0.5555555555555556,\"#d8576b\"],[0.6666666666666666,\"#ed7953\"],[0.7777777777777778,\"#fb9f3a\"],[0.8888888888888888,\"#fdca26\"],[1.0,\"#f0f921\"]]}],\"surface\":[{\"type\":\"surface\",\"colorbar\":{\"outlinewidth\":0,\"ticks\":\"\"},\"colorscale\":[[0.0,\"#0d0887\"],[0.1111111111111111,\"#46039f\"],[0.2222222222222222,\"#7201a8\"],[0.3333333333333333,\"#9c179e\"],[0.4444444444444444,\"#bd3786\"],[0.5555555555555556,\"#d8576b\"],[0.6666666666666666,\"#ed7953\"],[0.7777777777777778,\"#fb9f3a\"],[0.8888888888888888,\"#fdca26\"],[1.0,\"#f0f921\"]]}],\"mesh3d\":[{\"type\":\"mesh3d\",\"colorbar\":{\"outlinewidth\":0,\"ticks\":\"\"}}],\"scatter\":[{\"fillpattern\":{\"fillmode\":\"overlay\",\"size\":10,\"solidity\":0.2},\"type\":\"scatter\"}],\"parcoords\":[{\"type\":\"parcoords\",\"line\":{\"colorbar\":{\"outlinewidth\":0,\"ticks\":\"\"}}}],\"scatterpolargl\":[{\"type\":\"scatterpolargl\",\"marker\":{\"colorbar\":{\"outlinewidth\":0,\"ticks\":\"\"}}}],\"bar\":[{\"error_x\":{\"color\":\"#2a3f5f\"},\"error_y\":{\"color\":\"#2a3f5f\"},\"marker\":{\"line\":{\"color\":\"#E5ECF6\",\"width\":0.5},\"pattern\":{\"fillmode\":\"overlay\",\"size\":10,\"solidity\":0.2}},\"type\":\"bar\"}],\"scattergeo\":[{\"type\":\"scattergeo\",\"marker\":{\"colorbar\":{\"outlinewidth\":0,\"ticks\":\"\"}}}],\"scatterpolar\":[{\"type\":\"scatterpolar\",\"marker\":{\"colorbar\":{\"outlinewidth\":0,\"ticks\":\"\"}}}],\"histogram\":[{\"marker\":{\"pattern\":{\"fillmode\":\"overlay\",\"size\":10,\"solidity\":0.2}},\"type\":\"histogram\"}],\"scattergl\":[{\"type\":\"scattergl\",\"marker\":{\"colorbar\":{\"outlinewidth\":0,\"ticks\":\"\"}}}],\"scatter3d\":[{\"type\":\"scatter3d\",\"line\":{\"colorbar\":{\"outlinewidth\":0,\"ticks\":\"\"}},\"marker\":{\"colorbar\":{\"outlinewidth\":0,\"ticks\":\"\"}}}],\"scattermapbox\":[{\"type\":\"scattermapbox\",\"marker\":{\"colorbar\":{\"outlinewidth\":0,\"ticks\":\"\"}}}],\"scatterternary\":[{\"type\":\"scatterternary\",\"marker\":{\"colorbar\":{\"outlinewidth\":0,\"ticks\":\"\"}}}],\"scattercarpet\":[{\"type\":\"scattercarpet\",\"marker\":{\"colorbar\":{\"outlinewidth\":0,\"ticks\":\"\"}}}],\"carpet\":[{\"aaxis\":{\"endlinecolor\":\"#2a3f5f\",\"gridcolor\":\"white\",\"linecolor\":\"white\",\"minorgridcolor\":\"white\",\"startlinecolor\":\"#2a3f5f\"},\"baxis\":{\"endlinecolor\":\"#2a3f5f\",\"gridcolor\":\"white\",\"linecolor\":\"white\",\"minorgridcolor\":\"white\",\"startlinecolor\":\"#2a3f5f\"},\"type\":\"carpet\"}],\"table\":[{\"cells\":{\"fill\":{\"color\":\"#EBF0F8\"},\"line\":{\"color\":\"white\"}},\"header\":{\"fill\":{\"color\":\"#C8D4E3\"},\"line\":{\"color\":\"white\"}},\"type\":\"table\"}],\"barpolar\":[{\"marker\":{\"line\":{\"color\":\"#E5ECF6\",\"width\":0.5},\"pattern\":{\"fillmode\":\"overlay\",\"size\":10,\"solidity\":0.2}},\"type\":\"barpolar\"}],\"pie\":[{\"automargin\":true,\"type\":\"pie\"}]},\"layout\":{\"autotypenumbers\":\"strict\",\"colorway\":[\"#636efa\",\"#EF553B\",\"#00cc96\",\"#ab63fa\",\"#FFA15A\",\"#19d3f3\",\"#FF6692\",\"#B6E880\",\"#FF97FF\",\"#FECB52\"],\"font\":{\"color\":\"#2a3f5f\"},\"hovermode\":\"closest\",\"hoverlabel\":{\"align\":\"left\"},\"paper_bgcolor\":\"white\",\"plot_bgcolor\":\"#E5ECF6\",\"polar\":{\"bgcolor\":\"#E5ECF6\",\"angularaxis\":{\"gridcolor\":\"white\",\"linecolor\":\"white\",\"ticks\":\"\"},\"radialaxis\":{\"gridcolor\":\"white\",\"linecolor\":\"white\",\"ticks\":\"\"}},\"ternary\":{\"bgcolor\":\"#E5ECF6\",\"aaxis\":{\"gridcolor\":\"white\",\"linecolor\":\"white\",\"ticks\":\"\"},\"baxis\":{\"gridcolor\":\"white\",\"linecolor\":\"white\",\"ticks\":\"\"},\"caxis\":{\"gridcolor\":\"white\",\"linecolor\":\"white\",\"ticks\":\"\"}},\"coloraxis\":{\"colorbar\":{\"outlinewidth\":0,\"ticks\":\"\"}},\"colorscale\":{\"sequential\":[[0.0,\"#0d0887\"],[0.1111111111111111,\"#46039f\"],[0.2222222222222222,\"#7201a8\"],[0.3333333333333333,\"#9c179e\"],[0.4444444444444444,\"#bd3786\"],[0.5555555555555556,\"#d8576b\"],[0.6666666666666666,\"#ed7953\"],[0.7777777777777778,\"#fb9f3a\"],[0.8888888888888888,\"#fdca26\"],[1.0,\"#f0f921\"]],\"sequentialminus\":[[0.0,\"#0d0887\"],[0.1111111111111111,\"#46039f\"],[0.2222222222222222,\"#7201a8\"],[0.3333333333333333,\"#9c179e\"],[0.4444444444444444,\"#bd3786\"],[0.5555555555555556,\"#d8576b\"],[0.6666666666666666,\"#ed7953\"],[0.7777777777777778,\"#fb9f3a\"],[0.8888888888888888,\"#fdca26\"],[1.0,\"#f0f921\"]],\"diverging\":[[0,\"#8e0152\"],[0.1,\"#c51b7d\"],[0.2,\"#de77ae\"],[0.3,\"#f1b6da\"],[0.4,\"#fde0ef\"],[0.5,\"#f7f7f7\"],[0.6,\"#e6f5d0\"],[0.7,\"#b8e186\"],[0.8,\"#7fbc41\"],[0.9,\"#4d9221\"],[1,\"#276419\"]]},\"xaxis\":{\"gridcolor\":\"white\",\"linecolor\":\"white\",\"ticks\":\"\",\"title\":{\"standoff\":15},\"zerolinecolor\":\"white\",\"automargin\":true,\"zerolinewidth\":2},\"yaxis\":{\"gridcolor\":\"white\",\"linecolor\":\"white\",\"ticks\":\"\",\"title\":{\"standoff\":15},\"zerolinecolor\":\"white\",\"automargin\":true,\"zerolinewidth\":2},\"scene\":{\"xaxis\":{\"backgroundcolor\":\"#E5ECF6\",\"gridcolor\":\"white\",\"linecolor\":\"white\",\"showbackground\":true,\"ticks\":\"\",\"zerolinecolor\":\"white\",\"gridwidth\":2},\"yaxis\":{\"backgroundcolor\":\"#E5ECF6\",\"gridcolor\":\"white\",\"linecolor\":\"white\",\"showbackground\":true,\"ticks\":\"\",\"zerolinecolor\":\"white\",\"gridwidth\":2},\"zaxis\":{\"backgroundcolor\":\"#E5ECF6\",\"gridcolor\":\"white\",\"linecolor\":\"white\",\"showbackground\":true,\"ticks\":\"\",\"zerolinecolor\":\"white\",\"gridwidth\":2}},\"shapedefaults\":{\"line\":{\"color\":\"#2a3f5f\"}},\"annotationdefaults\":{\"arrowcolor\":\"#2a3f5f\",\"arrowhead\":0,\"arrowwidth\":1},\"geo\":{\"bgcolor\":\"white\",\"landcolor\":\"#E5ECF6\",\"subunitcolor\":\"white\",\"showland\":true,\"showlakes\":true,\"lakecolor\":\"white\"},\"title\":{\"x\":0.05},\"mapbox\":{\"style\":\"light\"}}}},                        {\"responsive\": true}                    ).then(function(){\n",
              "                            \n",
              "var gd = document.getElementById('cf1c39bc-e29f-4bb8-a89e-d6b390ed2a34');\n",
              "var x = new MutationObserver(function (mutations, observer) {{\n",
              "        var display = window.getComputedStyle(gd).display;\n",
              "        if (!display || display === 'none') {{\n",
              "            console.log([gd, 'removed!']);\n",
              "            Plotly.purge(gd);\n",
              "            observer.disconnect();\n",
              "        }}\n",
              "}});\n",
              "\n",
              "// Listen for the removal of the full notebook cells\n",
              "var notebookContainer = gd.closest('#notebook-container');\n",
              "if (notebookContainer) {{\n",
              "    x.observe(notebookContainer, {childList: true});\n",
              "}}\n",
              "\n",
              "// Listen for the clearing of the current output cell\n",
              "var outputEl = gd.closest('.output');\n",
              "if (outputEl) {{\n",
              "    x.observe(outputEl, {childList: true});\n",
              "}}\n",
              "\n",
              "                        })                };                            </script>        </div>\n",
              "</body>\n",
              "</html>"
            ]
          },
          "metadata": {}
        }
      ]
    },
    {
      "cell_type": "code",
      "source": [
        "guid_distances, guid_elevations, guid_angles, guid_rendered_images = rendered_shape(guid_mesh,device,items=4)\n",
        "\n",
        "fig, ax = plt.subplots(2,2,figsize=(12, 8))\n",
        "\n",
        "for i, ax in enumerate(ax.flat):\n",
        "    ax.imshow(guid_rendered_images[i][0, ..., :3].detach().numpy())\n",
        "    ax.set_title(f\"Distance:{guid_distances[i]} m - Elevation:{guid_elevations[i]} deg - Inclination:{guid_angles[i]} deg\")\n",
        "\n",
        "plt.tight_layout()\n",
        "plt.show()"
      ],
      "metadata": {
        "id": "aqKpTcle2oE2"
      },
      "execution_count": null,
      "outputs": []
    },
    {
      "cell_type": "code",
      "source": [
        "input_2d_guidance = guidance\n",
        "deformed_rendered_output = rendered_images[1]\n",
        "\n",
        "fig, ax = plt.subplots(\n",
        "    1,\n",
        "    2,\n",
        "    figsize=(12, 8))\n",
        "\n",
        "ax[0].imshow(input_2d_guidance[0, ..., :3].detach().numpy())\n",
        "ax[0].set_title(f\"2D guidance\")\n",
        "\n",
        "ax[1].imshow(deformed_rendered_output[0, ..., :3].detach().numpy())\n",
        "ax[1].set_title(f\"Defromed rendered output shape\")\n",
        "\n",
        "fig.tight_layout()\n",
        "fig.show()\n",
        "\n",
        "loss = 0.0\n",
        "for rendered_image in rendered_images:\n",
        "    loss += F.binary_cross_entropy(input_2d_guidance, rendered_image)\n",
        "\n",
        "print(f\"[LOG] Loss: {loss}\")"
      ],
      "metadata": {
        "colab": {
          "base_uri": "https://localhost:8080/",
          "height": 245
        },
        "id": "QDrJyg9x3635",
        "outputId": "f3a66925-50b0-4e38-998e-24db37c91e04"
      },
      "execution_count": 87,
      "outputs": [
        {
          "output_type": "error",
          "ename": "NameError",
          "evalue": "ignored",
          "traceback": [
            "\u001b[0;31m---------------------------------------------------------------------------\u001b[0m",
            "\u001b[0;31mNameError\u001b[0m                                 Traceback (most recent call last)",
            "\u001b[0;32m<ipython-input-87-036119422f80>\u001b[0m in \u001b[0;36m<cell line: 1>\u001b[0;34m()\u001b[0m\n\u001b[0;32m----> 1\u001b[0;31m \u001b[0minput_2d_guidance\u001b[0m \u001b[0;34m=\u001b[0m \u001b[0mguidance\u001b[0m\u001b[0;34m\u001b[0m\u001b[0;34m\u001b[0m\u001b[0m\n\u001b[0m\u001b[1;32m      2\u001b[0m \u001b[0mdeformed_rendered_output\u001b[0m \u001b[0;34m=\u001b[0m \u001b[0mrendered_images\u001b[0m\u001b[0;34m[\u001b[0m\u001b[0;36m1\u001b[0m\u001b[0;34m]\u001b[0m\u001b[0;34m\u001b[0m\u001b[0;34m\u001b[0m\u001b[0m\n\u001b[1;32m      3\u001b[0m \u001b[0;34m\u001b[0m\u001b[0m\n\u001b[1;32m      4\u001b[0m fig, ax = plt.subplots(\n\u001b[1;32m      5\u001b[0m     \u001b[0;36m1\u001b[0m\u001b[0;34m,\u001b[0m\u001b[0;34m\u001b[0m\u001b[0;34m\u001b[0m\u001b[0m\n",
            "\u001b[0;31mNameError\u001b[0m: name 'guidance' is not defined"
          ]
        }
      ]
    },
    {
      "cell_type": "markdown",
      "source": [
        "# Train"
      ],
      "metadata": {
        "id": "kvuekdXs_gVg"
      }
    },
    {
      "cell_type": "code",
      "source": [
        "input_mesh = get_mesh(meshes_paths[0])\n",
        "guidance_2d = guidance\n",
        "\n",
        "model = NeuralStyleField(\n",
        "    verts_dim = global_var['verts_dim'],\n",
        "    hidden_dim = global_var['hidden_dim'],\n",
        "    depth = global_var['emb_net_depth'],\n",
        "    disp_dim = global_var['disp_dim'],\n",
        "    disp_depth = global_var['disp_net_depth'],\n",
        "    norm_ratio = global_var['norm_ratio'],\n",
        "    debug = False)\n",
        "model.to(device)\n",
        "\n",
        "criterion = nn.MSELoss()\n",
        "optimizer = torch.optim.AdamW(model.parameters(), lr=0.001, betas=(0.9, 0.999), weight_decay=0.02)\n",
        "iters = 20\n",
        "losses = []\n",
        "\n",
        "with trange(iters,desc=\"Train\", unit=\"\", position=0, leave=True) as pbar:\n",
        "    for iter in pbar:\n",
        "        nsf_model.train()\n",
        "        inputs = input_mesh.verts_list()[0].to(device)\n",
        "        # print(inputs.shape)\n",
        "        targets = guidance.to(device)\n",
        "        # print(targets.shape)\n",
        "\n",
        "        optimizer.zero_grad()\n",
        "        outputs = model(inputs)\n",
        "        # print(outputs.shape)\n",
        "\n",
        "        # print(type(outputs))\n",
        "        pred_disp = outputs.detach()\n",
        "        # print(type(pred_disp))\n",
        "\n",
        "        input_mesh.offset_verts_(input_mesh.verts_list()[0]+pred_disp)\n",
        "\n",
        "        _, _, _, rendered_image = rendered_shape(input_mesh,device,items=1,debug=False)\n",
        "        rendered_mesh = rendered_image[0].to(device)\n",
        "        # print(type(rendered_mesh))\n",
        "\n",
        "        loss = criterion(rendered_mesh, targets)\n",
        "\n",
        "        loss.backward(retain_graph=True)\n",
        "        optimizer.step()\n",
        "\n",
        "        # Log\n",
        "        pbar.set_postfix(loss=loss.item())\n",
        "        losses.append(loss.item())\n",
        "\n",
        "# iters = 1000\n",
        "# with trange(iters,desc=\"Train\", unit=\"\", position=0, leave=True) as pbar:\n",
        "#     for iter in pbar:\n",
        "#         nsf_model.train()\n",
        "\n",
        "#         # Load data\n",
        "#         inputs = input_mesh.verts_list()[0].to(device)\n",
        "#         targets = truth_mesh_verts.to(device)\n",
        "\n",
        "#         # Forward\n",
        "#         optimizer.zero_grad()\n",
        "#         outputs = nsf_model(inputs)\n",
        "\n",
        "#         input_mesh.offset_verts_(input_mesh.verts_list()[0]+outputs.detach())\n",
        "#         _, _, _, rendered_image = rendered_shape(input_mesh,device,items=1,debug=False)\n",
        "#         rendered_mesh = rendered_image[0].to(device)\n",
        "\n",
        "#         # Compute loss\n",
        "#         loss = criterion(rendered_mesh, targets)\n",
        "\n",
        "#         # Backward\n",
        "#         loss.backward()\n",
        "#         optimizer.step()\n",
        "\n",
        "#         # Log\n",
        "#         pbar.set_postfix(loss=loss.item())"
      ],
      "metadata": {
        "colab": {
          "base_uri": "https://localhost:8080/",
          "height": 529
        },
        "id": "551FkNuFzIMP",
        "outputId": "b04d0adb-f54f-4c2a-cd23-c68d21845430"
      },
      "execution_count": null,
      "outputs": [
        {
          "output_type": "stream",
          "name": "stderr",
          "text": [
            "Train:   0%|          | 0/20 [00:01<?, ?/s]\n"
          ]
        },
        {
          "output_type": "error",
          "ename": "RuntimeError",
          "evalue": "ignored",
          "traceback": [
            "\u001b[0;31m---------------------------------------------------------------------------\u001b[0m",
            "\u001b[0;31mRuntimeError\u001b[0m                              Traceback (most recent call last)",
            "\u001b[0;32m<ipython-input-137-b9aa257f9aa6>\u001b[0m in \u001b[0;36m<cell line: 19>\u001b[0;34m()\u001b[0m\n\u001b[1;32m     41\u001b[0m         \u001b[0mloss\u001b[0m \u001b[0;34m=\u001b[0m \u001b[0mcriterion\u001b[0m\u001b[0;34m(\u001b[0m\u001b[0mrendered_mesh\u001b[0m\u001b[0;34m,\u001b[0m \u001b[0mtargets\u001b[0m\u001b[0;34m)\u001b[0m\u001b[0;34m\u001b[0m\u001b[0;34m\u001b[0m\u001b[0m\n\u001b[1;32m     42\u001b[0m \u001b[0;34m\u001b[0m\u001b[0m\n\u001b[0;32m---> 43\u001b[0;31m         \u001b[0mloss\u001b[0m\u001b[0;34m.\u001b[0m\u001b[0mbackward\u001b[0m\u001b[0;34m(\u001b[0m\u001b[0mretain_graph\u001b[0m\u001b[0;34m=\u001b[0m\u001b[0;32mTrue\u001b[0m\u001b[0;34m)\u001b[0m\u001b[0;34m\u001b[0m\u001b[0;34m\u001b[0m\u001b[0m\n\u001b[0m\u001b[1;32m     44\u001b[0m         \u001b[0moptimizer\u001b[0m\u001b[0;34m.\u001b[0m\u001b[0mstep\u001b[0m\u001b[0;34m(\u001b[0m\u001b[0;34m)\u001b[0m\u001b[0;34m\u001b[0m\u001b[0;34m\u001b[0m\u001b[0m\n\u001b[1;32m     45\u001b[0m \u001b[0;34m\u001b[0m\u001b[0m\n",
            "\u001b[0;32m/usr/local/lib/python3.10/dist-packages/torch/_tensor.py\u001b[0m in \u001b[0;36mbackward\u001b[0;34m(self, gradient, retain_graph, create_graph, inputs)\u001b[0m\n\u001b[1;32m    490\u001b[0m                 \u001b[0minputs\u001b[0m\u001b[0;34m=\u001b[0m\u001b[0minputs\u001b[0m\u001b[0;34m,\u001b[0m\u001b[0;34m\u001b[0m\u001b[0;34m\u001b[0m\u001b[0m\n\u001b[1;32m    491\u001b[0m             )\n\u001b[0;32m--> 492\u001b[0;31m         torch.autograd.backward(\n\u001b[0m\u001b[1;32m    493\u001b[0m             \u001b[0mself\u001b[0m\u001b[0;34m,\u001b[0m \u001b[0mgradient\u001b[0m\u001b[0;34m,\u001b[0m \u001b[0mretain_graph\u001b[0m\u001b[0;34m,\u001b[0m \u001b[0mcreate_graph\u001b[0m\u001b[0;34m,\u001b[0m \u001b[0minputs\u001b[0m\u001b[0;34m=\u001b[0m\u001b[0minputs\u001b[0m\u001b[0;34m\u001b[0m\u001b[0;34m\u001b[0m\u001b[0m\n\u001b[1;32m    494\u001b[0m         )\n",
            "\u001b[0;32m/usr/local/lib/python3.10/dist-packages/torch/autograd/__init__.py\u001b[0m in \u001b[0;36mbackward\u001b[0;34m(tensors, grad_tensors, retain_graph, create_graph, grad_variables, inputs)\u001b[0m\n\u001b[1;32m    249\u001b[0m     \u001b[0;31m# some Python versions print out the first line of a multi-line function\u001b[0m\u001b[0;34m\u001b[0m\u001b[0;34m\u001b[0m\u001b[0m\n\u001b[1;32m    250\u001b[0m     \u001b[0;31m# calls in the traceback and some print out the last line\u001b[0m\u001b[0;34m\u001b[0m\u001b[0;34m\u001b[0m\u001b[0m\n\u001b[0;32m--> 251\u001b[0;31m     Variable._execution_engine.run_backward(  # Calls into the C++ engine to run the backward pass\n\u001b[0m\u001b[1;32m    252\u001b[0m         \u001b[0mtensors\u001b[0m\u001b[0;34m,\u001b[0m\u001b[0;34m\u001b[0m\u001b[0;34m\u001b[0m\u001b[0m\n\u001b[1;32m    253\u001b[0m         \u001b[0mgrad_tensors_\u001b[0m\u001b[0;34m,\u001b[0m\u001b[0;34m\u001b[0m\u001b[0;34m\u001b[0m\u001b[0m\n",
            "\u001b[0;31mRuntimeError\u001b[0m: element 0 of tensors does not require grad and does not have a grad_fn"
          ]
        }
      ]
    },
    {
      "cell_type": "code",
      "source": [
        "class FullNet(nn.Module):\n",
        "  def __init__(self, sample_mesh):\n",
        "    super(FullNet, self).__init__()\n",
        "\n",
        "    self.sample_mesh = sample_mesh\n",
        "\n",
        "    self.nsf = NeuralStyleField(\n",
        "      verts_dim = global_var['verts_dim'],\n",
        "      hidden_dim = global_var['hidden_dim'],\n",
        "      depth = global_var['emb_net_depth'],\n",
        "      disp_dim = global_var['disp_dim'],\n",
        "      disp_depth = global_var['disp_net_depth'],\n",
        "      norm_ratio = global_var['norm_ratio'],\n",
        "      debug = global_var['print_debug']\n",
        "    ).to(device)\n",
        "\n",
        "  def forward(self, x):\n",
        "    predicted_displacement = self.nsf(x)\n",
        "\n",
        "    self.sample_mesh.offset_verts_(self.sample_mesh.verts_list()[0]+predicted_displacement)\n",
        "    #update_mesh(sample_mesh, predicted_displacement)\n",
        "    _, _, _, mesh_rendered_images = rendered_shape(sample_mesh,device,items=4,debug=False)\n",
        "    augmented_images = augmentation2D(mesh_rendered_images)\n",
        "\n",
        "    return augmented_images"
      ],
      "metadata": {
        "id": "j_l3nzFLFDoP"
      },
      "execution_count": null,
      "outputs": []
    },
    {
      "cell_type": "code",
      "source": [
        "num_epochs = 100\n",
        "model = FullNet(sample_mesh)\n",
        "optimizer = optim.Adam(nsf.parameters(), lr=0.0001)\n",
        "criterion = nn.MSELoss()"
      ],
      "metadata": {
        "id": "RbKDMGb4_kpG",
        "colab": {
          "base_uri": "https://localhost:8080/"
        },
        "outputId": "8b31b47b-ef50-4c0a-da9d-44fb74e4aefc"
      },
      "execution_count": null,
      "outputs": [
        {
          "output_type": "stream",
          "name": "stdout",
          "text": [
            "\n",
            "[LOG] Neural Style Field network\n",
            "ModuleList(\n",
            "  (0): PositionalEncodingNet(\n",
            "    (pos_net): ModuleList(\n",
            "      (0): Linear(in_features=3, out_features=256, bias=True)\n",
            "      (1): ReLU()\n",
            "    )\n",
            "  )\n",
            "  (1): EmbeddingNet(\n",
            "    (emb_net): ModuleList(\n",
            "      (0): Linear(in_features=256, out_features=256, bias=True)\n",
            "      (1): ReLU()\n",
            "      (2): Linear(in_features=256, out_features=256, bias=True)\n",
            "      (3): ReLU()\n",
            "      (4): Linear(in_features=256, out_features=256, bias=True)\n",
            "      (5): ReLU()\n",
            "      (6): Linear(in_features=256, out_features=256, bias=True)\n",
            "      (7): ReLU()\n",
            "    )\n",
            "  )\n",
            "  (2): DisplacementNet(\n",
            "    (disp_net): ModuleList(\n",
            "      (0): Linear(in_features=256, out_features=256, bias=True)\n",
            "      (1): ReLU()\n",
            "      (2): Linear(in_features=256, out_features=256, bias=True)\n",
            "      (3): ReLU()\n",
            "      (4): Linear(in_features=256, out_features=1, bias=True)\n",
            "    )\n",
            "  )\n",
            ")\n"
          ]
        }
      ]
    },
    {
      "cell_type": "code",
      "source": [
        "guid_mesh_idx = 3\n",
        "guid_mesh_path = meshes_paths[guid_mesh_idx]\n",
        "guid_mesh = meshes[guid_mesh_idx]\n",
        "\n",
        "mesh_fig = mesh_visualization(guid_mesh_path)\n",
        "mesh_fig.show()\n",
        "guid_distances, guid_elevations, guid_angles, guid_rendered_images = rendered_shape(guid_mesh,device,items=4)"
      ],
      "metadata": {
        "colab": {
          "base_uri": "https://localhost:8080/",
          "height": 611
        },
        "id": "0b-Gimx7Qlv7",
        "outputId": "2942884e-04a1-49df-8baf-23a26057bc5e"
      },
      "execution_count": null,
      "outputs": [
        {
          "output_type": "display_data",
          "data": {
            "text/html": [
              "<html>\n",
              "<head><meta charset=\"utf-8\" /></head>\n",
              "<body>\n",
              "    <div>            <script src=\"https://cdnjs.cloudflare.com/ajax/libs/mathjax/2.7.5/MathJax.js?config=TeX-AMS-MML_SVG\"></script><script type=\"text/javascript\">if (window.MathJax && window.MathJax.Hub && window.MathJax.Hub.Config) {window.MathJax.Hub.Config({SVG: {font: \"STIX-Web\"}});}</script>                <script type=\"text/javascript\">window.PlotlyConfig = {MathJaxConfig: 'local'};</script>\n",
              "        <script charset=\"utf-8\" src=\"https://cdn.plot.ly/plotly-2.24.1.min.js\"></script>                <div id=\"62c7f5ce-3dbb-4aad-9021-1ec99a989bea\" class=\"plotly-graph-div\" style=\"height:525px; width:100%;\"></div>            <script type=\"text/javascript\">                                    window.PLOTLYENV=window.PLOTLYENV || {};                                    if (document.getElementById(\"62c7f5ce-3dbb-4aad-9021-1ec99a989bea\")) {                    Plotly.newPlot(                        \"62c7f5ce-3dbb-4aad-9021-1ec99a989bea\",                        [{\"facecolor\":[[0.03243011781587446,0.5,0.6771395079430983],[0.03243011781587446,0.5,0.6771395079430983],[0.09073236515186656,0.5,0.7872281376638002],[0.5,1.0,0.5],[0.003585828409327474,0.5,0.5597743276327416],[0.09073236515186656,0.5,0.7872281376638002],[0.5,1.0,0.5],[0.5,1.0,0.5],[0.003585828409327474,0.5,0.5597743276327416],[0.5,1.0,0.5],[0.1786401396674856,0.5,0.8830507018229661],[0.5,1.0,0.5],[0.5,1.0,0.5],[0.5,1.0,0.5],[0.5,1.0,0.5],[0.1786401396674856,0.5,0.8830507018229661],[0.5,1.0,0.5],[0.5,1.0,0.5],[0.5,1.0,0.5],[0.5,1.0,0.5],[0.5,1.0,0.5],[0.293734807972622,0.5,0.9554719207129116],[0.5,1.0,0.5],[0.5,1.0,0.5],[0.5,1.0,0.5],[0.293734807972622,0.5,0.9554719207129116],[0.5,1.0,0.5],[0.5,1.0,0.5],[0.5,1.0,0.5],[0.4287606725565965,0.5,0.9948989373856156],[0.5,1.0,0.5],[0.5,1.0,0.5],[0.5,1.0,0.5],[0.5,1.0,0.5],[0.9964141841195879,0.5,0.5597742235824431],[0.4287606725565965,0.5,0.9948989373856156],[0.5,1.0,0.5],[0.5,0.5,0.0],[0.5,1.0,0.5],[0.5,1.0,0.5],[0.9964141841195879,0.5,0.5597742235824431],[0.5,1.0,0.5],[0.5712393236403396,0.5,0.9948989379330562],[0.5,0.5,0.0],[0.5,1.0,0.5],[0.5,1.0,0.5],[0.9675698821841255,0.5,0.6771395079430983],[0.5,1.0,0.5],[0.5712393236403396,0.5,0.9948989379330562],[0.7062651920273779,0.5,0.9554719207129116],[0.5,1.0,0.5],[0.5,1.0,0.5],[0.9675698821841255,0.5,0.6771395079430983],[0.5,1.0,0.5],[0.9092641573925131,0.5,0.7872330925812627],[0.5,1.0,0.5],[0.7062651920273779,0.5,0.9554719207129116],[0.8213635866563773,0.5,0.8830475755977958],[0.5,1.0,0.5],[0.5,1.0,0.5],[0.9092641573925131,0.5,0.7872330925812627],[0.5,1.0,0.5],[0.8213635866563773,0.5,0.8830475755977958],[0.5,1.0,0.5],[0.5,1.0,0.5],[0.5,1.0,0.5],[0.9675698821841255,0.5,0.3228604920569017],[0.9675698821841255,0.5,0.3228604920569017],[0.9092676348481334,0.5,0.21277186233619988],[0.5,0.0,0.5],[0.9964141715906725,0.5,0.4402256723672584],[0.5,0.0,0.5],[0.5,1.0,0.5],[0.9092676348481334,0.5,0.21277186233619988],[0.5,0.0,0.5],[0.5,1.0,0.5],[0.5,0.0,0.5],[0.5,0.0,0.5],[0.9964141715906725,0.5,0.4402256723672584],[0.5,0.0,0.5],[0.5,0.0,0.5],[0.5,1.0,0.5],[0.5,0.0,0.5],[0.5,1.0,0.5],[0.8213598603325144,0.5,0.11694929817703398],[0.5,0.0,0.5],[0.5,0.0,0.5],[0.5,1.0,0.5],[0.5,0.0,0.5],[0.08591642338926198,0.5,0.21975940411628608],[0.5,0.0,0.5],[0.04361031217533473,0.5,0.2957735255964482],[0.5,0.5,0.0],[0.5,0.5,1.0],[0.5,0.0,0.5],[0.5,1.0,0.5],[0.5,0.0,0.5],[0.5,0.5,0.0],[0.5,0.5,1.0],[0.5,0.0,0.5],[0.5,1.0,0.5],[0.9964143130288494,0.5,0.4402268469955323],[0.9675675321471666,0.5,0.32285428912387326],[0.8213598603325144,0.5,0.11694929817703398],[0.5,0.0,0.5],[0.5,0.0,0.5],[0.5,0.0,0.5],[0.9092659335410924,0.5,0.21276943818120936],[0.5,0.0,0.5],[0.5,1.0,0.5],[0.5,0.0,0.5],[0.14256751846880394,0.5,0.15036873545626506],[0.08591642338926198,0.5,0.21975940411628608],[0.14256751846880394,0.5,0.15036873545626506],[0.01561586536755416,0.5,0.3760160892842277],[0.04361031217533473,0.5,0.2957735255964482],[0.5,0.0,0.5],[0.5,0.5,0.0],[0.5,0.5,1.0],[0.9964179729593629,0.5,0.4402572504573373],[0.9964143130288494,0.5,0.4402268469955323],[0.9675675321471666,0.5,0.32285428912387326],[0.9092659335410924,0.5,0.21276943818120936],[0.7062651920273779,0.5,0.04452807928708835],[0.5,0.0,0.5],[0.5,0.0,0.5],[0.001731898753091432,0.5,0.5415800346296217],[0.0017325068474192684,0.5,0.4584126790061811],[0.8213626619899237,0.5,0.11695164864112773],[0.5,0.0,0.5],[0.5,1.0,0.5],[0.2131066968001168,0.5,0.09049757927570207],[0.5,0.0,0.5],[0.5,0.0,0.5],[0.01561586536755416,0.5,0.3760160892842277],[0.5,0.0,0.5],[0.5,0.5,0.0],[0.5,0.0,0.5],[0.5,0.5,0.0],[0.5,0.5,1.0],[0.5,0.5,0.0],[0.5,0.5,1.0],[0.9964179729593629,0.5,0.4402572504573373],[0.5,0.0,0.5],[0.5,1.0,0.5],[0.5,0.0,0.5],[0.5,1.0,0.5],[0.5,0.0,0.5],[0.5,1.0,0.5],[0.7062651920273779,0.5,0.04452807928708835],[0.5,0.0,0.5],[0.01562671782423186,0.5,0.6240263017036053],[0.5,0.0,0.5],[0.04359547438388628,0.5,0.7041933128119777],[0.001731898753091432,0.5,0.5415800346296217],[0.0017325068474192684,0.5,0.4584126790061811],[0.8213626619899237,0.5,0.11695164864112773],[0.5,0.0,0.5],[0.5,1.0,0.5],[0.2131066968001168,0.5,0.09049757927570207],[0.5,0.0,0.5],[0.5,0.0,0.5],[0.5,0.0,0.5],[0.5,0.0,0.5],[0.5,0.0,0.5],[0.5,0.5,0.0],[0.5,0.0,0.5],[0.5,0.5,0.0],[0.5,0.5,1.0],[0.5,0.0,0.5],[0.5,1.0,0.5],[0.5,0.5,0.0],[0.5,0.5,1.0],[0.5,0.0,0.5],[0.5,1.0,0.5],[0.5,0.0,0.5],[0.5,1.0,0.5],[0.5712393274434036,0.5,0.005101062614384311],[0.5,0.0,0.5],[0.5,0.0,0.5],[0.01562671782423186,0.5,0.6240263017036053],[0.5,0.0,0.5],[0.08591637054462775,0.5,0.7802405178004528],[0.04359547438388628,0.5,0.7041933128119777],[0.5,0.0,0.5],[0.7062631521024965,0.5,0.04452715549141417],[0.5,0.0,0.5],[0.5,1.0,0.5],[0.5,0.0,0.5],[0.08591637054462775,0.5,0.7802405178004528],[0.14256747667930536,0.5,0.8496312218217947],[0.21310673320385543,0.5,0.9095024462283909],[0.5,0.0,0.5],[0.5,0.0,0.5],[0.7868939561057862,0.5,0.09049803669582829],[0.5,0.0,0.5],[0.5,0.5,0.0],[0.5,0.5,1.0],[0.0035858158804121243,0.5,0.44022577641755695],[0.003582027040637148,0.5,0.4402572504573373],[0.5,0.0,0.5],[0.5,1.0,0.5],[0.5,0.0,0.5],[0.5,1.0,0.5],[0.5,0.0,0.5],[0.5,1.0,0.5],[0.5712393274434036,0.5,0.005101062614384311],[0.5,0.0,0.5],[0.5,0.5,1.0],[0.5,0.0,0.5],[0.14256747667930536,0.5,0.8496312218217947],[0.7062631521024965,0.5,0.04452715549141417],[0.5,0.0,0.5],[0.5,1.0,0.5],[0.5,0.0,0.5],[0.21310673320385543,0.5,0.9095024462283909],[0.5,0.0,0.5],[0.7868939561057862,0.5,0.09049803669582829],[0.8574317979807342,0.5,0.1503680366553144],[0.5,0.0,0.5],[0.5,0.0,0.5],[0.5,1.0,0.5],[0.0035858158804121243,0.5,0.44022577641755695],[0.5,0.0,0.5],[0.003582027040637148,0.5,0.4402572504573373],[0.5,0.0,0.5],[0.5,1.0,0.5],[0.5712364744212489,0.5,0.005100651938163503],[0.5,0.0,0.5],[0.5,1.0,0.5],[0.42876352531410344,0.5,0.005100651976257198],[0.4287606763596604,0.5,0.005101062066943884],[0.5,0.5,1.0],[0.7868939197020461,0.5,0.9095019888083524],[0.5,0.0,0.5],[0.5712364744212489,0.5,0.005100651938163503],[0.5,0.0,0.5],[0.5,1.0,0.5],[0.5,0.0,0.5],[0.8574317979807342,0.5,0.1503680366553144],[0.914083576610738,0.5,0.21975940411628608],[0.914083576610738,0.5,0.21975940411628608],[0.5,0.0,0.5],[0.03243011781587446,0.5,0.3228604920569017],[0.5,0.0,0.5],[0.0035856869711505257,0.5,0.4402268469955323],[0.5,0.0,0.5],[0.5,1.0,0.5],[0.5,0.0,0.5],[0.5,1.0,0.5],[0.42876352531410344,0.5,0.005100651976257198],[0.5,0.0,0.5],[0.5,1.0,0.5],[0.29373387240708526,0.5,0.04452850296882083],[0.29373387240708526,0.5,0.04452850296882083],[0.4287606763596604,0.5,0.005101062066943884],[0.7868939197020461,0.5,0.9095019888083524],[0.293734807972622,0.5,0.04452807928708835],[0.5,0.0,0.5],[0.5,0.0,0.5],[0.5,1.0,0.5],[0.5,0.0,0.5],[0.5,0.0,0.5],[0.5,0.0,0.5],[0.9563901828453232,0.5,0.29577463183430774],[0.9563901828453232,0.5,0.29577463183430774],[0.5,0.0,0.5],[0.03243011781587446,0.5,0.3228604920569017],[0.5,0.0,0.5],[0.09073584260748696,0.5,0.21276690741873727],[0.0035856869711505257,0.5,0.4402268469955323],[0.5,0.0,0.5],[0.5,1.0,0.5],[0.5,0.0,0.5],[0.5,1.0,0.5],[0.5,0.0,0.5],[0.5,1.0,0.5],[0.1786450032404024,0.5,0.116945217941821],[0.1786450032404024,0.5,0.116945217941821],[0.5,0.0,0.5],[0.5,1.0,0.5],[0.5,0.0,0.5],[0.5,1.0,0.5],[0.5,0.0,0.5],[0.8574318397703199,0.5,0.8496319206228236],[0.293734807972622,0.5,0.04452807928708835],[0.17863641334362274,0.5,0.11695242440220416],[0.8574318397703199,0.5,0.8496319206228236],[0.5,0.0,0.5],[0.5,0.0,0.5],[0.5,0.0,0.5],[0.9843841346324458,0.5,0.3760160892842277],[0.9843841346324458,0.5,0.3760160892842277],[0.5,0.0,0.5],[0.5,0.0,0.5],[0.09073584260748696,0.5,0.21276690741873727],[0.032432467852833324,0.5,0.32285428912387326],[0.032432467852833324,0.5,0.32285428912387326],[0.5,0.0,0.5],[0.5,1.0,0.5],[0.0907304364904013,0.5,0.21277461048044066],[0.5,0.0,0.5],[0.5,1.0,0.5],[0.5,0.0,0.5],[0.5,1.0,0.5],[0.5,0.0,0.5],[0.17863641334362274,0.5,0.11695242440220416],[0.9140836294553722,0.5,0.7802405178004528],[0.9140836294553722,0.5,0.7802405178004528],[0.9564050204921133,0.5,0.704192206681826],[0.5,0.0,0.5],[0.5,0.0,0.5],[0.9982673847845693,0.5,0.4584113806439076],[0.9982673847845693,0.5,0.4584113806439076],[0.5,0.0,0.5],[0.9982679929167351,0.5,0.5415813327675825],[0.5,0.0,0.5],[0.5,1.0,0.5],[0.0907304364904013,0.5,0.21277461048044066],[0.5,0.0,0.5],[0.5,1.0,0.5],[0.5,0.0,0.5],[0.9564050204921133,0.5,0.704192206681826],[0.9843732821757681,0.5,0.6240263017036053],[0.9843732821757681,0.5,0.6240263017036053],[0.5,0.0,0.5],[0.9982679929167351,0.5,0.5415813327675825],[0.5,0.0,0.5],[0.5,0.0,0.5],[0.5,1.0,0.5],[0.914083576610738,0.5,0.780240595883714],[0.9563896878246653,0.5,0.7042264744035518],[0.857432481531196,0.5,0.8496312645437349],[0.914083576610738,0.5,0.780240595883714],[0.857432481531196,0.5,0.8496312645437349],[0.9843841346324458,0.5,0.6239839107157723],[0.9563896878246653,0.5,0.7042264744035518],[0.9982681012469086,0.5,0.4584199653703783],[0.9982674931525808,0.5,0.5415873209938189],[0.7868933031998833,0.5,0.9095024207242979],[0.9843841346324458,0.5,0.6239839107157723],[0.5,0.5,1.0],[0.9843732821757681,0.5,0.3759736982963947],[0.9564045256161138,0.5,0.2958066871880223],[0.9982681012469086,0.5,0.4584199653703783],[0.9982674931525808,0.5,0.5415873209938189],[0.7868933031998833,0.5,0.9095024207242979],[0.5,0.5,1.0],[0.9843732821757681,0.5,0.3759736982963947],[0.9140836294553722,0.5,0.21975948219954716],[0.9564045256161138,0.5,0.2958066871880223],[0.9140836294553722,0.5,0.21975948219954716],[0.8574325233206946,0.5,0.1503687781782052],[0.7868932667961446,0.5,0.09049755377160912],[0.21310604389421378,0.5,0.9095019633041717],[0.8574325233206946,0.5,0.1503687781782052],[0.7868932667961446,0.5,0.09049755377160912],[0.21310604389421378,0.5,0.9095019633041717],[0.1425682020192658,0.5,0.8496319633446856],[0.21310608029795391,0.5,0.09049801119164763],[0.1425682020192658,0.5,0.8496319633446856],[0.08591642338926198,0.5,0.780240595883714],[0.08591642338926198,0.5,0.780240595883714],[0.21310608029795391,0.5,0.09049801119164763],[0.04360981715467688,0.5,0.7042253681656923],[0.04360981715467688,0.5,0.7042253681656923],[0.1425681602296801,0.5,0.1503680793771765],[0.1425681602296801,0.5,0.1503680793771765],[0.01561586536755416,0.5,0.6239839107157723],[0.01561586536755416,0.5,0.6239839107157723],[0.08591637054462775,0.5,0.21975948219954716],[0.08591637054462775,0.5,0.21975948219954716],[0.043594979507886655,0.5,0.295807793318174],[0.0017326152154306662,0.5,0.5415886193560924],[0.0017326152154306662,0.5,0.5415886193560924],[0.0017320070832648748,0.5,0.45841866723241753],[0.043594979507886655,0.5,0.295807793318174],[0.01562671782423186,0.5,0.3759736982963947],[0.01562671782423186,0.5,0.3759736982963947],[0.0017320070832648748,0.5,0.45841866723241753],[0.0035856869711505257,0.5,0.5597731530044677],[0.032432467852833324,0.5,0.6771457108761267],[0.09073406645890753,0.5,0.7872305618187907],[0.003582027040637148,0.5,0.5597427495426627],[0.0035856869711505257,0.5,0.5597731530044677],[0.032432467852833324,0.5,0.6771457108761267],[0.09073406645890753,0.5,0.7872305618187907],[0.1786373380100763,0.5,0.8830483513588723],[0.5,1.0,0.5],[0.5,1.0,0.5],[0.5,1.0,0.5],[0.003582027040637148,0.5,0.5597427495426627],[0.1786373380100763,0.5,0.8830483513588723],[0.5,1.0,0.5],[0.5,1.0,0.5],[0.5,1.0,0.5],[0.5,1.0,0.5],[0.5,1.0,0.5],[0.5,1.0,0.5],[0.29373684789750354,0.5,0.9554728445085858],[0.5,1.0,0.5],[0.5,1.0,0.5],[0.5,1.0,0.5],[0.9964179729593629,0.5,0.5597427495426627],[0.29373684789750354,0.5,0.9554728445085858],[0.5,1.0,0.5],[0.5,1.0,0.5],[0.9964179729593629,0.5,0.5597427495426627],[0.4287635255787511,0.5,0.9948993480618364],[0.5712364746858966,0.5,0.9948993480237428],[0.4287635255787511,0.5,0.9948993480618364],[0.5,1.0,0.5],[0.9964143130288494,0.5,0.5597731530044677],[0.5712364746858966,0.5,0.9948993480237428],[0.7062661275929147,0.5,0.9554714970311792],[0.7062661275929147,0.5,0.9554714970311792],[0.5,1.0,0.5],[0.5,1.0,0.5],[0.5,1.0,0.5],[0.9964143130288494,0.5,0.5597731530044677],[0.8213549967595977,0.5,0.883054782058179],[0.8213549967595977,0.5,0.883054782058179],[0.5,1.0,0.5],[0.5,1.0,0.5],[0.5,1.0,0.5],[0.9675675321471666,0.5,0.6771457108761267],[0.9675675321471666,0.5,0.6771457108761267],[0.9092695635095986,0.5,0.7872253895195593],[0.5,1.0,0.5],[0.5,1.0,0.5],[0.9092695635095986,0.5,0.7872253895195593],[0.5,1.0,0.5]],\"i\":[0,1,4,5,8,2,10,5,3,6,4,16,18,11,13,15,22,17,19,20,13,21,24,22,13,26,30,27,28,29,35,30,32,28,39,34,37,43,30,28,40,28,42,44,30,28,55,28,51,57,30,28,48,28,62,30,58,64,28,65,60,63,62,68,67,69,70,73,71,75,72,79,82,85,81,88,77,91,92,93,79,83,81,89,85,75,87,101,90,103,106,105,109,112,115,117,119,120,114,79,96,122,125,127,128,130,98,131,87,134,102,135,107,104,108,137,139,140,121,124,142,123,126,97,129,145,146,138,131,133,152,135,154,157,149,156,161,164,110,166,120,141,169,170,173,172,177,176,179,180,181,148,185,184,183,147,188,133,190,191,155,158,192,160,159,195,196,197,199,171,202,167,204,205,207,178,210,144,182,213,186,214,187,215,217,150,189,221,222,223,224,224,193,227,229,232,203,200,233,236,239,208,205,242,209,240,243,212,244,247,216,248,189,250,228,251,252,253,254,256,257,260,263,264,266,257,261,269,241,272,273,211,276,277,280,219,249,282,283,253,255,285,286,235,265,238,290,292,257,268,270,271,297,298,274,300,301,275,288,249,304,305,306,307,284,310,311,312,288,287,315,316,293,318,262,296,317,320,299,322,324,249,325,326,301,328,302,329,308,330,331,309,333,313,313,335,289,337,318,295,320,340,342,322,343,344,335,327,346,347,349,350,332,352,334,354,356,319,336,340,357,358,345,348,355,359,351,353,356,339,360,363,362,361,365,367,364,369,371,365,368,374,377,379,370,372,373,375,378,383,380,384,385,386,389,386,388,390,390,396,394,399,395,397,402,400,404,397,406,403,408,405,409,412,407,413,410,415,411,414,416,418,420,423,417,419,421,421,426,428,431,424,425,426,428,430,436,431,438,434,430,436,441,444,440,441,443,445,450,452,447,443,455,451,456,453,454,454,459,449,463,457,459,461,461,467,462,468,466,466,463,470],\"j\":[1,0,2,6,3,4,6,7,8,13,15,17,6,7,6,4,16,16,7,6,20,26,16,23,25,21,23,23,25,34,23,31,23,33,40,29,23,44,36,38,39,49,51,43,46,47,48,56,42,58,53,54,55,61,60,56,57,62,59,56,62,56,64,56,56,56,71,72,70,76,73,80,83,74,86,89,76,75,78,94,95,96,80,83,97,98,86,89,76,104,75,107,110,113,79,84,76,110,113,115,118,123,126,74,99,99,75,132,100,101,76,136,105,103,137,108,119,110,113,142,124,122,125,144,99,128,147,149,150,100,101,153,155,158,138,159,162,139,140,141,167,168,143,171,174,171,174,171,174,127,128,183,128,186,148,146,132,151,152,136,159,155,158,193,193,163,139,120,121,170,175,120,121,171,174,171,174,211,128,181,184,128,215,187,194,219,151,152,192,216,225,226,218,228,230,196,120,121,234,237,171,174,206,207,171,174,180,128,245,213,223,188,220,221,192,225,228,231,255,232,258,261,235,265,238,267,268,248,206,207,269,275,246,278,247,270,220,221,252,230,254,284,256,263,288,266,206,207,294,295,274,206,207,273,299,243,279,302,280,281,282,252,305,308,285,309,286,287,313,312,289,206,207,294,295,206,207,298,321,303,304,303,304,288,278,300,314,327,305,308,330,310,332,311,288,314,315,336,338,339,321,323,324,323,324,288,328,329,345,348,330,349,333,351,288,355,338,339,337,341,342,288,346,347,354,349,352,288,341,342,361,364,365,360,362,368,363,370,372,373,367,375,378,380,369,371,365,374,377,384,379,383,386,388,390,385,386,389,394,397,390,395,399,396,400,402,397,404,403,406,405,408,410,407,412,414,409,411,415,413,417,419,421,424,416,418,420,425,427,429,432,423,421,432,427,429,437,437,436,440,435,438,442,445,434,435,442,444,447,451,450,448,449,452,453,456,448,458,460,455,457,463,458,460,465,462,467,463,465,469,468,469],\"k\":[2,3,1,7,0,9,5,11,12,14,9,7,10,19,20,21,23,24,17,18,25,15,22,27,28,29,31,32,33,26,30,36,37,38,41,42,35,45,46,47,48,50,34,52,53,54,39,49,57,51,56,59,60,56,55,63,64,58,61,61,66,67,66,65,69,68,72,71,74,77,78,81,84,70,87,82,90,77,73,76,80,84,86,82,74,99,100,88,102,105,91,108,111,114,116,118,94,109,121,95,84,124,122,97,129,98,106,125,133,88,119,103,104,136,138,107,94,120,141,143,123,126,132,127,130,129,148,146,132,151,134,136,156,154,137,160,163,94,165,113,140,121,142,172,175,176,173,178,177,144,182,184,145,187,147,149,150,189,134,153,156,154,157,194,160,162,164,198,200,201,174,203,168,206,208,209,179,180,212,182,183,185,216,186,218,188,220,190,157,215,223,225,194,222,231,164,197,204,235,238,205,240,241,208,239,210,211,214,246,182,225,219,249,190,222,226,227,230,230,164,259,262,234,164,237,258,262,270,271,242,274,243,245,279,182,248,281,250,227,255,284,254,164,287,164,289,291,293,267,262,269,296,272,299,273,275,278,300,182,303,250,283,283,306,309,285,164,263,164,314,266,290,317,257,319,316,297,321,298,323,325,322,250,182,327,302,328,278,306,307,307,332,310,164,334,312,336,315,294,319,337,341,343,340,325,326,314,345,329,346,331,331,351,333,353,352,318,357,321,356,343,344,348,354,347,350,355,358,338,357,362,360,366,364,361,363,368,371,367,366,372,376,369,377,378,370,381,382,380,379,384,385,387,387,391,383,392,393,395,398,393,394,400,401,399,403,401,405,402,407,404,409,411,406,413,415,408,410,414,412,418,420,422,416,424,417,419,422,428,430,426,433,434,427,429,435,431,432,439,425,441,437,443,446,447,442,448,449,451,453,440,454,444,450,457,452,458,459,461,462,464,456,460,465,466,455,468,464,469,470,467,471],\"opacity\":0.5,\"x\":[-0.2379390001296997,-0.21320000290870667,-0.21320000290870667,-0.2379390001296997,-0.17384600639343262,-0.17006699740886688,-0.2379390001296997,-0.21320000290870667,-0.24637700617313385,-0.17384600639343262,-0.16696399450302124,-0.17235900461673737,-0.24637700617313385,0.0012619999470189214,-0.24637700617313385,-0.12255799770355225,-0.17384600639343262,-0.17423899471759796,-0.1631540060043335,-0.17376500368118286,-0.15876199305057526,-0.12255799770355225,-0.17235900461673737,-0.12255799770355225,-0.17376500368118286,0.1559469997882843,-0.06283099949359894,-0.17006699740886688,0.24890099465847015,-0.06283099949359894,0.1559469997882843,-0.06283099949359894,-0.16696399450302124,0.16033899784088135,0.0012619999470189214,-0.15876199305057526,0.0012619999470189214,-0.1631540060043335,0.16414900124073029,0.2404630035161972,0.24890099465847015,0.24890099465847015,0.0012619999470189214,0.1559469997882843,-0.15876199305057526,0.1559469997882843,0.06535500288009644,0.16725200414657593,0.2404630035161972,0.21572400629520416,0.2404630035161972,0.06535500288009644,-0.15876199305057526,0.12508200109004974,0.16954399645328522,0.21572400629520416,0.17636899650096893,0.06535500288009644,0.12508200109004974,0.1709499955177307,0.21572400629520416,0.171424001455307,0.17636899650096893,0.16033899784088135,0.12508200109004974,0.1709499955177307,0.17636899650096893,0.16414900124073029,0.16954399645328522,0.16725200414657593,-0.21320000290870667,-0.21320000290870667,-0.2379390001296997,-0.2379390001296997,-0.17384600639343262,-0.21320000290870667,-0.2379390001296997,-0.17006699740886688,-0.24637700617313385,-0.2379390001296997,-0.22788700461387634,-0.21320000290870667,-0.21320000290870667,-0.22788700461387634,-0.2379390001296997,-0.17384600639343262,-0.20418700575828552,-0.17384600639343262,-0.17384600639343262,-0.20418700575828552,-0.16696399450302124,-0.17235900461673737,-0.24637700617313385,-0.24637700617313385,0.0012619999470189214,-0.2352910041809082,-0.2352910041809082,-0.12255799770355225,-0.17423899471759796,-0.17384600639343262,-0.166485995054245,-0.166485995054245,-0.1631540060043335,-0.16696399450302124,-0.16696399450302124,-0.17006699740886688,-0.17376500368118286,-0.17006699740886688,-0.17235900461673737,-0.24637700617313385,-0.23597000539302826,-0.24637700617313385,-0.24637700617313385,-0.23597000539302826,-0.24637700617313385,-0.23597000539302826,-0.24637700617313385,-0.24637700617313385,-0.23597000539302826,-0.15876199305057526,0.0012619999470189214,0.0012619999470189214,-0.22788700461387634,-0.22788700461387634,-0.2352910041809082,-0.20418700575828552,-0.20418700575828552,-0.12255799770355225,-0.12255799770355225,-0.17235900461673737,-0.17376500368118286,-0.166485995054245,-0.166485995054245,-0.12255799770355225,-0.12255799770355225,-0.1631540060043335,-0.1631540060043335,-0.17235900461673737,-0.17376500368118286,0.1559469997882843,0.0012619999470189214,0.0012619999470189214,-0.2352910041809082,-0.23597000539302826,-0.06283099949359894,-0.17006699740886688,-0.17423899471759796,-0.17423899471759796,-0.17376500368118286,-0.17376500368118286,-0.11735499650239944,-0.11735499650239944,-0.11735499650239944,-0.15876199305057526,-0.16696399450302124,-0.16696399450302124,-0.17006699740886688,-0.1631540060043335,-0.1631540060043335,-0.17006699740886688,-0.17235900461673737,-0.15876199305057526,0.1559469997882843,-0.15876199305057526,0.24890099465847015,-0.23597000539302826,-0.23597000539302826,0.23849399387836456,0.23849399387836456,-0.23597000539302826,-0.2352910041809082,0.0012619999470189214,-0.22788700461387634,-0.22788700461387634,0.0012619999470189214,-0.2352910041809082,-0.20418700575828552,-0.20418700575828552,-0.166485995054245,-0.166485995054245,-0.06283099949359894,-0.06283099949359894,0.1559469997882843,-0.17376500368118286,-0.17235900461673737,-0.16696399450302124,-0.17235900461673737,-0.17006699740886688,-0.11735499650239944,-0.06283099949359894,-0.06283099949359894,-0.15876199305057526,-0.15876199305057526,-0.17235900461673737,-0.17376500368118286,0.1559469997882843,0.16033899784088135,0.24890099465847015,0.24890099465847015,0.24890099465847015,0.24890099465847015,-0.23597000539302826,-0.23597000539302826,0.23849399387836456,0.23849399387836456,0.0012619999470189214,0.23849399387836456,0.23849399387836456,0.0012619999470189214,-0.11735499650239944,-0.11735499650239944,0.0012619999470189214,-0.15876199305057526,0.0012619999470189214,-0.1631540060043335,-0.17006699740886688,-0.16696399450302124,-0.17423899471759796,-0.17376500368118286,-0.060137998312711716,-0.060137998312711716,-0.060137998312711716,-0.15876199305057526,-0.16696399450302124,-0.1631540060043335,-0.1631540060043335,-0.15876199305057526,0.1559469997882843,0.1559469997882843,0.1559469997882843,0.16033899784088135,0.1559469997882843,0.16414900124073029,0.24890099465847015,0.24890099465847015,0.2404630035161972,0.23849399387836456,0.23849399387836456,0.2378149926662445,-0.060137998312711716,-0.060137998312711716,0.06266199797391891,0.06266199797391891,0.0012619999470189214,0.1559469997882843,-0.15876199305057526,0.1559469997882843,0.06535500288009644,-0.060137998312711716,0.0012619999470189214,0.0012619999470189214,-0.15876199305057526,0.16033899784088135,0.16033899784088135,0.16414900124073029,0.16414900124073029,0.16725200414657593,0.2404630035161972,0.23849399387836456,0.24890099465847015,0.24890099465847015,0.23849399387836456,0.2404630035161972,0.2404630035161972,0.2404630035161972,0.21572400629520416,0.2378149926662445,0.2378149926662445,0.2378149926662445,0.0012619999470189214,0.0012619999470189214,0.11987800151109695,0.11987800151109695,0.06266199797391891,0.06266199797391891,0.06535500288009644,-0.15876199305057526,0.1559469997882843,0.16033899784088135,0.1559469997882843,0.12508200109004974,0.0012619999470189214,0.0012619999470189214,0.16033899784088135,0.16725200414657593,0.16725200414657593,0.16954399645328522,0.21572400629520416,0.17636899650096893,0.23041099309921265,0.23041099309921265,0.2378149926662445,0.2378149926662445,0.23041099309921265,0.23041099309921265,0.23041099309921265,0.16901099681854248,0.16901099681854248,0.11987800151109695,0.11987800151109695,0.06535500288009644,0.16033899784088135,0.12508200109004974,0.06266199797391891,0.06266199797391891,0.16414900124073029,0.16414900124073029,0.16725200414657593,0.16725200414657593,0.16954399645328522,0.16954399645328522,0.1709499955177307,0.21572400629520416,0.171424001455307,0.17636899650096893,0.23041099309921265,0.20671099424362183,0.20671099424362183,0.21572400629520416,0.21572400629520416,0.16901099681854248,0.16901099681854248,0.06535500288009644,0.11987800151109695,0.11987800151109695,0.06535500288009644,0.16033899784088135,0.16414900124073029,0.12508200109004974,0.16414900124073029,0.16954399645328522,0.16954399645328522,0.1709499955177307,0.1709499955177307,0.1709499955177307,0.17636899650096893,0.20671099424362183,0.20671099424362183,0.20671099424362183,0.20671099424362183,0.12508200109004974,0.16901099681854248,0.16901099681854248,0.12508200109004974,0.16414900124073029,0.16725200414657593,0.16725200414657593,0.16954399645328522,0.16954399645328522,0.1709499955177307,0.1709499955177307,0.171424001455307,0.171424001455307,0.16954399645328522,0.1709499955177307,0.1709499955177307,0.17636899650096893,0.17636899650096893,0.16725200414657593,0.171424001455307,-0.17006699740886688,-0.16696399450302124,-0.16696399450302124,-0.17235900461673737,-0.17006699740886688,-0.1631540060043335,-0.1631540060043335,-0.17376500368118286,-0.17235900461673737,-0.17376500368118286,-0.17423899471759796,-0.17423899471759796,-0.17376500368118286,-0.15876199305057526,-0.15876199305057526,0.1559469997882843,-0.15876199305057526,-0.17235900461673737,-0.17376500368118286,-0.17006699740886688,-0.17235900461673737,-0.15876199305057526,0.1559469997882843,-0.16696399450302124,-0.17006699740886688,-0.16696399450302124,-0.1631540060043335,-0.1631540060043335,-0.15876199305057526,0.1559469997882843,0.16033899784088135,0.1559469997882843,-0.15876199305057526,0.16033899784088135,0.16414900124073029,0.16414900124073029,0.1559469997882843,0.16033899784088135,0.1559469997882843,0.16725200414657593,0.16725200414657593,0.16033899784088135,0.16954399645328522,0.16954399645328522,0.16414900124073029,0.16414900124073029,0.1709499955177307,0.1709499955177307,0.16725200414657593,0.16725200414657593,0.16954399645328522,0.16954399645328522,0.171424001455307,0.171424001455307,0.1709499955177307,0.1709499955177307,-0.2352910041809082,-0.22788700461387634,-0.22788700461387634,-0.20418700575828552,-0.20418700575828552,-0.166485995054245,-0.166485995054245,-0.23597000539302826,-0.2352910041809082,-0.11735499650239944,-0.17006699740886688,-0.16696399450302124,-0.16696399450302124,-0.1631540060043335,-0.1631540060043335,-0.17235900461673737,-0.17006699740886688,-0.23597000539302826,-0.11735499650239944,-0.15876199305057526,-0.17376500368118286,-0.17235900461673737,-0.17376500368118286,-0.17423899471759796,-0.060137998312711716,-0.15876199305057526,0.1559469997882843,0.1559469997882843,0.2378149926662445,0.23849399387836456,0.23849399387836456,-0.060137998312711716,0.16033899784088135,0.2378149926662445,0.0012619999470189214,0.0012619999470189214,0.06266199797391891,0.06266199797391891,0.16033899784088135,0.23041099309921265,0.11987800151109695,0.11987800151109695,0.16414900124073029,0.16414900124073029,0.16725200414657593,0.16725200414657593,0.23041099309921265,0.16901099681854248,0.16901099681854248,0.16954399645328522,0.16954399645328522,0.20671099424362183,0.20671099424362183,0.1709499955177307,0.1709499955177307,0.171424001455307],\"y\":[0.13907800614833832,0.09952399879693985,0.13907800614833832,0.09952399879693985,0.09952399879693985,0.13907800614833832,0.13907800614833832,0.13907800614833832,0.13907800614833832,0.13907800614833832,0.13907800614833832,0.13907800614833832,0.09952399879693985,0.13907800614833832,0.13907800614833832,0.13907800614833832,0.13907800614833832,0.13907800614833832,0.13907800614833832,0.13907800614833832,0.13907800614833832,0.09952399879693985,0.13907800614833832,0.13907800614833832,0.13907800614833832,0.13907800614833832,0.13907800614833832,0.13907800614833832,0.13907800614833832,0.09952399879693985,0.13907800614833832,0.13907800614833832,0.13907800614833832,0.13907800614833832,0.13907800614833832,0.13907800614833832,0.13907800614833832,0.13907800614833832,0.13907800614833832,0.13907800614833832,0.09952399879693985,0.13907800614833832,0.09952399879693985,0.10124500095844269,0.13907800614833832,0.13907800614833832,0.13907800614833832,0.13907800614833832,0.09952399879693985,0.13907800614833832,0.13907800614833832,0.13907800614833832,0.10124500095844269,0.13907800614833832,0.13907800614833832,0.13907800614833832,0.13907800614833832,0.09952399879693985,0.13907800614833832,0.13907800614833832,0.09952399879693985,0.13907800614833832,0.13907800614833832,0.13907800614833832,0.09952399879693985,0.13907800614833832,0.09952399879693985,0.13907800614833832,0.13907800614833832,0.13907800614833832,0.13907800614833832,0.09952399879693985,0.13907800614833832,0.09952399879693985,0.09952399879693985,0.13907800614833832,0.13907800614833832,0.13907800614833832,0.13907800614833832,0.09952399879693985,0.09952399879693985,0.09952399879693985,0.09952399879693985,0.09952399879693985,0.09952399879693985,0.13907800614833832,0.09952399879693985,0.09952399879693985,0.09952399879693985,0.09952399879693985,0.13907800614833832,0.13907800614833832,0.09952399879693985,0.13907800614833832,0.13907800614833832,0.09952399879693985,0.09952399879693985,0.13907800614833832,0.13907800614833832,0.13907800614833832,0.09952399879693985,0.09952399879693985,0.13907800614833832,0.13907800614833832,0.10124500095844269,0.13907800614833832,0.13907800614833832,0.10124500095844269,0.13907800614833832,0.13907800614833832,0.09952399879693985,0.09952399879693985,0.09952399879693985,0.09952399879693985,0.13907800614833832,0.09952399879693985,0.09952399879693985,0.09952399879693985,0.09952399879693985,0.13907800614833832,0.13907800614833832,0.13907800614833832,0.09952399879693985,-0.686385989189148,0.09952399879693985,0.09952399879693985,-0.686385989189148,0.09952399879693985,0.13907800614833832,0.13907800614833832,0.13907800614833832,0.09952399879693985,-0.686385989189148,0.09952399879693985,0.09952399879693985,0.13907800614833832,0.10124500095844269,0.10124500095844269,0.13907800614833832,0.13907800614833832,-0.686385989189148,-0.686385989189148,-0.686385989189148,0.09952399879693985,0.13907800614833832,0.13907800614833832,0.13907800614833832,0.10124500095844269,0.13907800614833832,0.10124500095844269,0.09952399879693985,0.09952399879693985,0.09952399879693985,0.13907800614833832,0.10124500095844269,0.10124500095844269,0.10124500095844269,0.10124500095844269,0.10124500095844269,0.10124500095844269,0.10124500095844269,0.13907800614833832,0.13907800614833832,0.10124500095844269,0.13907800614833832,-0.686385989189148,-0.686385989189148,-0.686385989189148,-0.686385989189148,-0.686385989189148,-0.686385989189148,-0.686385989189148,-0.686385989189148,-0.686385989189148,-0.686385989189148,-0.686385989189148,-0.686385989189148,-0.686385989189148,-0.686385989189148,-0.686385989189148,0.09952399879693985,0.13907800614833832,0.13907800614833832,0.10124500095844269,0.13907800614833832,0.13907800614833832,0.10124500095844269,0.13907800614833832,-0.686385989189148,0.09952399879693985,0.09952399879693985,0.10124500095844269,0.10124500095844269,0.10124500095844269,0.10124500095844269,0.10124500095844269,0.13907800614833832,0.09952399879693985,0.13907800614833832,0.13907800614833832,0.09952399879693985,-0.686385989189148,-0.686385989189148,0.09952399879693985,0.09952399879693985,-0.686385989189148,-0.686385989189148,-0.686385989189148,-0.686385989189148,-0.686385989189148,-0.686385989189148,0.13907800614833832,0.13907800614833832,0.13907800614833832,0.13907800614833832,0.10124500095844269,0.13907800614833832,0.10124500095844269,0.10124500095844269,0.09952399879693985,0.09952399879693985,0.09952399879693985,0.10124500095844269,0.10124500095844269,0.10124500095844269,0.13907800614833832,0.10124500095844269,0.10124500095844269,0.10124500095844269,0.13907800614833832,0.13907800614833832,0.10124500095844269,0.13907800614833832,0.13907800614833832,0.09952399879693985,0.13907800614833832,0.09952399879693985,-0.686385989189148,0.09952399879693985,-0.686385989189148,-0.686385989189148,-0.686385989189148,-0.686385989189148,0.09952399879693985,0.13907800614833832,0.13907800614833832,0.10124500095844269,0.13907800614833832,-0.686385989189148,0.09952399879693985,0.09952399879693985,0.13907800614833832,0.10124500095844269,0.10124500095844269,0.13907800614833832,0.10124500095844269,0.13907800614833832,0.09952399879693985,0.09952399879693985,0.09952399879693985,0.09952399879693985,0.09952399879693985,0.09952399879693985,0.09952399879693985,0.13907800614833832,0.13907800614833832,-0.686385989189148,0.09952399879693985,0.09952399879693985,-0.686385989189148,0.09952399879693985,-0.686385989189148,-0.686385989189148,-0.686385989189148,0.09952399879693985,0.13907800614833832,0.10124500095844269,0.10124500095844269,0.10124500095844269,0.13907800614833832,0.13907800614833832,0.09952399879693985,0.09952399879693985,0.10124500095844269,0.10124500095844269,0.13907800614833832,0.13907800614833832,0.13907800614833832,0.13907800614833832,0.09952399879693985,-0.686385989189148,-0.686385989189148,-0.686385989189148,-0.686385989189148,0.09952399879693985,0.09952399879693985,-0.686385989189148,-0.686385989189148,-0.686385989189148,0.09952399879693985,0.09952399879693985,0.13907800614833832,0.13907800614833832,0.09952399879693985,0.09952399879693985,0.10124500095844269,0.10124500095844269,0.10124500095844269,0.10124500095844269,0.10124500095844269,0.13907800614833832,0.13907800614833832,0.09952399879693985,0.13907800614833832,0.13907800614833832,-0.686385989189148,-0.686385989189148,-0.686385989189148,0.09952399879693985,0.09952399879693985,-0.686385989189148,0.09952399879693985,0.09952399879693985,0.09952399879693985,0.09952399879693985,0.09952399879693985,0.13907800614833832,0.13907800614833832,0.09952399879693985,0.10124500095844269,0.10124500095844269,0.10124500095844269,0.10124500095844269,0.13907800614833832,0.13907800614833832,0.09952399879693985,0.09952399879693985,-0.686385989189148,0.09952399879693985,0.09952399879693985,0.09952399879693985,0.09952399879693985,0.09952399879693985,0.09952399879693985,0.13907800614833832,0.13907800614833832,0.10124500095844269,0.10124500095844269,0.13907800614833832,0.10124500095844269,0.10124500095844269,0.10124500095844269,0.13907800614833832,0.13907800614833832,0.13907800614833832,0.10124500095844269,0.09952399879693985,0.09952399879693985,0.13907800614833832,0.10124500095844269,0.13907800614833832,0.10124500095844269,0.13907800614833832,0.13907800614833832,0.10124500095844269,0.10124500095844269,0.13907800614833832,0.13907800614833832,0.10124500095844269,0.13907800614833832,0.10124500095844269,0.13907800614833832,0.10124500095844269,0.13907800614833832,0.10124500095844269,0.13907800614833832,0.13907800614833832,0.13907800614833832,0.10124500095844269,0.13907800614833832,0.10124500095844269,0.10124500095844269,0.10124500095844269,0.13907800614833832,0.10124500095844269,0.10124500095844269,0.13907800614833832,0.10124500095844269,0.10124500095844269,0.10124500095844269,0.13907800614833832,0.13907800614833832,0.13907800614833832,0.10124500095844269,0.10124500095844269,0.13907800614833832,0.13907800614833832,0.10124500095844269,0.10124500095844269,0.10124500095844269,0.13907800614833832,0.13907800614833832,0.10124500095844269,0.13907800614833832,0.13907800614833832,0.10124500095844269,0.10124500095844269,0.13907800614833832,0.13907800614833832,0.10124500095844269,0.13907800614833832,0.10124500095844269,0.10124500095844269,0.13907800614833832,0.10124500095844269,0.13907800614833832,0.09952399879693985,-0.686385989189148,0.09952399879693985,-0.686385989189148,0.09952399879693985,-0.686385989189148,0.09952399879693985,0.09952399879693985,-0.686385989189148,0.09952399879693985,0.10124500095844269,0.10124500095844269,0.10124500095844269,0.10124500095844269,0.10124500095844269,0.10124500095844269,0.10124500095844269,-0.686385989189148,-0.686385989189148,0.10124500095844269,0.10124500095844269,0.10124500095844269,0.10124500095844269,0.10124500095844269,0.09952399879693985,0.10124500095844269,0.10124500095844269,0.10124500095844269,0.09952399879693985,-0.686385989189148,0.09952399879693985,-0.686385989189148,0.10124500095844269,-0.686385989189148,0.09952399879693985,-0.686385989189148,0.09952399879693985,-0.686385989189148,0.10124500095844269,0.09952399879693985,0.09952399879693985,-0.686385989189148,0.10124500095844269,0.10124500095844269,0.10124500095844269,0.10124500095844269,-0.686385989189148,0.09952399879693985,-0.686385989189148,0.10124500095844269,0.10124500095844269,0.09952399879693985,-0.686385989189148,0.10124500095844269,0.10124500095844269,0.10124500095844269],\"z\":[-0.04284000024199486,0.022460000589489937,0.022460000589489937,-0.04284000024199486,0.07853499799966812,-0.04565700143575668,-0.04284000024199486,0.022460000589489937,-0.112916000187397,0.07853499799966812,-0.050241999328136444,-0.04053499922156334,-0.112916000187397,-0.112916000187397,-0.112916000187397,0.12156300246715546,0.07853499799966812,-0.029363000765442848,-0.05413699895143509,-0.03504199907183647,-0.05721399933099747,0.12156300246715546,-0.018192000687122345,0.12156300246715546,-0.02368300035595894,-0.05721399933099747,0.14861099421977997,-0.013069000095129013,-0.112916000187397,0.14861099421977997,-0.0015119999879971147,0.14861099421977997,-0.008484000340104103,-0.05413699895143509,0.15783700346946716,-0.0015119999879971147,0.15783700346946716,-0.0045889997854828835,-0.050241999328136444,-0.04284000024199486,-0.112916000187397,-0.112916000187397,0.15783700346946716,-0.0015119999879971147,-0.0015119999879971147,-0.0015119999879971147,0.14861099421977997,-0.04565700143575668,-0.04284000024199486,0.022460000589489937,-0.04284000024199486,0.14861099421977997,-0.0015119999879971147,0.12156300246715546,-0.04053499922156334,0.022460000589489937,0.07853499799966812,0.14861099421977997,0.12156300246715546,-0.03504199907183647,0.022460000589489937,-0.029363000765442848,0.07853499799966812,-0.0045889997854828835,0.12156300246715546,-0.02368300035595894,0.07853499799966812,-0.008484000340104103,-0.018192000687122345,-0.013069000095129013,0.022460000589489937,0.022460000589489937,-0.04284000024199486,-0.04284000024199486,0.07853499799966812,0.022460000589489937,-0.04284000024199486,-0.04565700143575668,-0.112916000187397,-0.04284000024199486,-0.04578400030732155,0.022460000589489937,0.022460000589489937,-0.04578400030732155,-0.04284000024199486,0.07853499799966812,0.016770999878644943,0.07853499799966812,0.07853499799966812,0.016770999878644943,-0.050241999328136444,-0.04053499922156334,-0.112916000187397,-0.112916000187397,-0.112916000187397,-0.10727400332689285,-0.10727400332689285,0.12156300246715546,-0.029363000765442848,0.07853499799966812,0.07049000263214111,0.07049000263214111,-0.05413699895143509,-0.050241999328136444,-0.050241999328136444,-0.04565700143575668,-0.03504199907183647,-0.04565700143575668,-0.04053499922156334,-0.112916000187397,-0.112916000187397,-0.112916000187397,-0.112916000187397,-0.112916000187397,-0.112916000187397,-0.112916000187397,-0.112916000187397,-0.112916000187397,-0.112916000187397,-0.05721399933099747,-0.112916000187397,-0.112916000187397,-0.04578400030732155,-0.04578400030732155,-0.10727400332689285,0.016770999878644943,0.016770999878644943,0.12156300246715546,0.12156300246715546,-0.018192000687122345,-0.02368300035595894,0.07049000263214111,0.07049000263214111,0.12156300246715546,0.12156300246715546,-0.05413699895143509,-0.05413699895143509,-0.04053499922156334,-0.03504199907183647,-0.05721399933099747,-0.112916000187397,-0.112916000187397,-0.10727400332689285,-0.112916000187397,0.14861099421977997,-0.013069000095129013,-0.029363000765442848,-0.029363000765442848,-0.02368300035595894,-0.03504199907183647,0.11170899868011475,0.11170899868011475,0.11170899868011475,-0.05721399933099747,-0.050241999328136444,-0.008484000340104103,-0.04565700143575668,-0.05413699895143509,-0.0045889997854828835,-0.013069000095129013,-0.04053499922156334,-0.05721399933099747,-0.05721399933099747,-0.05721399933099747,-0.112916000187397,-0.112916000187397,-0.112916000187397,-0.112916000187397,-0.112916000187397,-0.112916000187397,-0.10727400332689285,-0.112916000187397,-0.04578400030732155,-0.04578400030732155,-0.112916000187397,-0.10727400332689285,0.016770999878644943,0.016770999878644943,0.07049000263214111,0.07049000263214111,0.14861099421977997,0.14861099421977997,-0.0015119999879971147,-0.02368300035595894,-0.018192000687122345,-0.008484000340104103,-0.018192000687122345,-0.013069000095129013,0.11170899868011475,0.14861099421977997,0.14861099421977997,-0.05721399933099747,-0.0015119999879971147,-0.018192000687122345,-0.03504199907183647,-0.05721399933099747,-0.05413699895143509,-0.112916000187397,-0.112916000187397,-0.112916000187397,-0.112916000187397,-0.112916000187397,-0.112916000187397,-0.112916000187397,-0.112916000187397,0.1464579999446869,-0.112916000187397,-0.112916000187397,0.1464579999446869,0.11170899868011475,0.11170899868011475,0.15783700346946716,-0.0015119999879971147,0.15783700346946716,-0.0045889997854828835,-0.013069000095129013,-0.008484000340104103,-0.029363000765442848,-0.02368300035595894,0.1376200020313263,0.1376200020313263,0.1376200020313263,-0.05721399933099747,-0.008484000340104103,-0.0045889997854828835,-0.0045889997854828835,-0.0015119999879971147,-0.05721399933099747,-0.0015119999879971147,-0.05721399933099747,-0.05413699895143509,-0.05721399933099747,-0.050241999328136444,-0.112916000187397,-0.112916000187397,-0.04284000024199486,-0.112916000187397,-0.112916000187397,-0.10727400332689285,0.1376200020313263,0.1376200020313263,0.1376200020313263,0.1376200020313263,0.15783700346946716,-0.0015119999879971147,-0.0015119999879971147,-0.0015119999879971147,0.14861099421977997,0.1376200020313263,0.15783700346946716,0.15783700346946716,-0.0015119999879971147,-0.0045889997854828835,-0.05413699895143509,-0.050241999328136444,-0.050241999328136444,-0.04565700143575668,-0.04284000024199486,-0.112916000187397,-0.112916000187397,-0.112916000187397,-0.112916000187397,-0.04284000024199486,-0.04284000024199486,-0.04284000024199486,0.022460000589489937,-0.10727400332689285,-0.10727400332689285,-0.10727400332689285,0.1464579999446869,0.1464579999446869,0.11170899868011475,0.11170899868011475,0.1376200020313263,0.1376200020313263,0.14861099421977997,-0.0015119999879971147,-0.0015119999879971147,-0.0045889997854828835,-0.0015119999879971147,0.12156300246715546,0.1464579999446869,0.1464579999446869,-0.05413699895143509,-0.04565700143575668,-0.04565700143575668,-0.04053499922156334,0.022460000589489937,0.07853499799966812,-0.04578400030732155,-0.04578400030732155,-0.10727400332689285,-0.10727400332689285,-0.04578400030732155,-0.04578400030732155,-0.04578400030732155,0.07049000263214111,0.07049000263214111,0.11170899868011475,0.11170899868011475,0.14861099421977997,-0.0045889997854828835,0.12156300246715546,0.1376200020313263,0.1376200020313263,-0.008484000340104103,-0.050241999328136444,-0.04565700143575668,-0.013069000095129013,-0.04053499922156334,-0.04053499922156334,-0.03504199907183647,0.022460000589489937,-0.029363000765442848,0.07853499799966812,-0.04578400030732155,0.016770999878644943,0.016770999878644943,0.022460000589489937,0.022460000589489937,0.07049000263214111,0.07049000263214111,0.14861099421977997,0.11170899868011475,0.11170899868011475,0.14861099421977997,-0.0045889997854828835,-0.008484000340104103,0.12156300246715546,-0.008484000340104103,-0.018192000687122345,-0.04053499922156334,-0.03504199907183647,-0.03504199907183647,-0.02368300035595894,0.07853499799966812,0.016770999878644943,0.016770999878644943,0.016770999878644943,0.016770999878644943,0.12156300246715546,0.07049000263214111,0.07049000263214111,0.12156300246715546,-0.008484000340104103,-0.013069000095129013,-0.013069000095129013,-0.018192000687122345,-0.018192000687122345,-0.02368300035595894,-0.03504199907183647,-0.029363000765442848,-0.029363000765442848,-0.018192000687122345,-0.02368300035595894,-0.02368300035595894,0.07853499799966812,0.07853499799966812,-0.013069000095129013,-0.029363000765442848,-0.04565700143575668,-0.050241999328136444,-0.050241999328136444,-0.04053499922156334,-0.04565700143575668,-0.05413699895143509,-0.05413699895143509,-0.03504199907183647,-0.04053499922156334,-0.02368300035595894,-0.029363000765442848,-0.029363000765442848,-0.03504199907183647,-0.05721399933099747,-0.05721399933099747,-0.05721399933099747,-0.05721399933099747,-0.018192000687122345,-0.02368300035595894,-0.013069000095129013,-0.018192000687122345,-0.05721399933099747,-0.05721399933099747,-0.008484000340104103,-0.013069000095129013,-0.008484000340104103,-0.0045889997854828835,-0.0045889997854828835,-0.0015119999879971147,-0.05721399933099747,-0.05413699895143509,-0.05721399933099747,-0.0015119999879971147,-0.05413699895143509,-0.050241999328136444,-0.050241999328136444,-0.0015119999879971147,-0.0045889997854828835,-0.0015119999879971147,-0.04565700143575668,-0.04565700143575668,-0.0045889997854828835,-0.04053499922156334,-0.04053499922156334,-0.008484000340104103,-0.008484000340104103,-0.03504199907183647,-0.03504199907183647,-0.013069000095129013,-0.013069000095129013,-0.018192000687122345,-0.018192000687122345,-0.029363000765442848,-0.029363000765442848,-0.02368300035595894,-0.02368300035595894,-0.10727400332689285,-0.04578400030732155,-0.04578400030732155,0.016770999878644943,0.016770999878644943,0.07049000263214111,0.07049000263214111,-0.112916000187397,-0.10727400332689285,0.11170899868011475,-0.04565700143575668,-0.008484000340104103,-0.050241999328136444,-0.0045889997854828835,-0.05413699895143509,-0.04053499922156334,-0.013069000095129013,-0.112916000187397,0.11170899868011475,-0.0015119999879971147,-0.03504199907183647,-0.018192000687122345,-0.02368300035595894,-0.029363000765442848,0.1376200020313263,-0.05721399933099747,-0.0015119999879971147,-0.05721399933099747,-0.10727400332689285,-0.112916000187397,-0.112916000187397,0.1376200020313263,-0.0045889997854828835,-0.10727400332689285,0.1464579999446869,0.1464579999446869,0.1376200020313263,0.1376200020313263,-0.05413699895143509,-0.04578400030732155,0.11170899868011475,0.11170899868011475,-0.008484000340104103,-0.050241999328136444,-0.013069000095129013,-0.04565700143575668,-0.04578400030732155,0.07049000263214111,0.07049000263214111,-0.018192000687122345,-0.04053499922156334,0.016770999878644943,0.016770999878644943,-0.02368300035595894,-0.03504199907183647,-0.029363000765442848],\"type\":\"mesh3d\"}],                        {\"scene\":{\"xaxis\":{\"visible\":true},\"yaxis\":{\"visible\":true},\"zaxis\":{\"visible\":true}},\"template\":{\"data\":{\"histogram2dcontour\":[{\"type\":\"histogram2dcontour\",\"colorbar\":{\"outlinewidth\":0,\"ticks\":\"\"},\"colorscale\":[[0.0,\"#0d0887\"],[0.1111111111111111,\"#46039f\"],[0.2222222222222222,\"#7201a8\"],[0.3333333333333333,\"#9c179e\"],[0.4444444444444444,\"#bd3786\"],[0.5555555555555556,\"#d8576b\"],[0.6666666666666666,\"#ed7953\"],[0.7777777777777778,\"#fb9f3a\"],[0.8888888888888888,\"#fdca26\"],[1.0,\"#f0f921\"]]}],\"choropleth\":[{\"type\":\"choropleth\",\"colorbar\":{\"outlinewidth\":0,\"ticks\":\"\"}}],\"histogram2d\":[{\"type\":\"histogram2d\",\"colorbar\":{\"outlinewidth\":0,\"ticks\":\"\"},\"colorscale\":[[0.0,\"#0d0887\"],[0.1111111111111111,\"#46039f\"],[0.2222222222222222,\"#7201a8\"],[0.3333333333333333,\"#9c179e\"],[0.4444444444444444,\"#bd3786\"],[0.5555555555555556,\"#d8576b\"],[0.6666666666666666,\"#ed7953\"],[0.7777777777777778,\"#fb9f3a\"],[0.8888888888888888,\"#fdca26\"],[1.0,\"#f0f921\"]]}],\"heatmap\":[{\"type\":\"heatmap\",\"colorbar\":{\"outlinewidth\":0,\"ticks\":\"\"},\"colorscale\":[[0.0,\"#0d0887\"],[0.1111111111111111,\"#46039f\"],[0.2222222222222222,\"#7201a8\"],[0.3333333333333333,\"#9c179e\"],[0.4444444444444444,\"#bd3786\"],[0.5555555555555556,\"#d8576b\"],[0.6666666666666666,\"#ed7953\"],[0.7777777777777778,\"#fb9f3a\"],[0.8888888888888888,\"#fdca26\"],[1.0,\"#f0f921\"]]}],\"heatmapgl\":[{\"type\":\"heatmapgl\",\"colorbar\":{\"outlinewidth\":0,\"ticks\":\"\"},\"colorscale\":[[0.0,\"#0d0887\"],[0.1111111111111111,\"#46039f\"],[0.2222222222222222,\"#7201a8\"],[0.3333333333333333,\"#9c179e\"],[0.4444444444444444,\"#bd3786\"],[0.5555555555555556,\"#d8576b\"],[0.6666666666666666,\"#ed7953\"],[0.7777777777777778,\"#fb9f3a\"],[0.8888888888888888,\"#fdca26\"],[1.0,\"#f0f921\"]]}],\"contourcarpet\":[{\"type\":\"contourcarpet\",\"colorbar\":{\"outlinewidth\":0,\"ticks\":\"\"}}],\"contour\":[{\"type\":\"contour\",\"colorbar\":{\"outlinewidth\":0,\"ticks\":\"\"},\"colorscale\":[[0.0,\"#0d0887\"],[0.1111111111111111,\"#46039f\"],[0.2222222222222222,\"#7201a8\"],[0.3333333333333333,\"#9c179e\"],[0.4444444444444444,\"#bd3786\"],[0.5555555555555556,\"#d8576b\"],[0.6666666666666666,\"#ed7953\"],[0.7777777777777778,\"#fb9f3a\"],[0.8888888888888888,\"#fdca26\"],[1.0,\"#f0f921\"]]}],\"surface\":[{\"type\":\"surface\",\"colorbar\":{\"outlinewidth\":0,\"ticks\":\"\"},\"colorscale\":[[0.0,\"#0d0887\"],[0.1111111111111111,\"#46039f\"],[0.2222222222222222,\"#7201a8\"],[0.3333333333333333,\"#9c179e\"],[0.4444444444444444,\"#bd3786\"],[0.5555555555555556,\"#d8576b\"],[0.6666666666666666,\"#ed7953\"],[0.7777777777777778,\"#fb9f3a\"],[0.8888888888888888,\"#fdca26\"],[1.0,\"#f0f921\"]]}],\"mesh3d\":[{\"type\":\"mesh3d\",\"colorbar\":{\"outlinewidth\":0,\"ticks\":\"\"}}],\"scatter\":[{\"fillpattern\":{\"fillmode\":\"overlay\",\"size\":10,\"solidity\":0.2},\"type\":\"scatter\"}],\"parcoords\":[{\"type\":\"parcoords\",\"line\":{\"colorbar\":{\"outlinewidth\":0,\"ticks\":\"\"}}}],\"scatterpolargl\":[{\"type\":\"scatterpolargl\",\"marker\":{\"colorbar\":{\"outlinewidth\":0,\"ticks\":\"\"}}}],\"bar\":[{\"error_x\":{\"color\":\"#2a3f5f\"},\"error_y\":{\"color\":\"#2a3f5f\"},\"marker\":{\"line\":{\"color\":\"#E5ECF6\",\"width\":0.5},\"pattern\":{\"fillmode\":\"overlay\",\"size\":10,\"solidity\":0.2}},\"type\":\"bar\"}],\"scattergeo\":[{\"type\":\"scattergeo\",\"marker\":{\"colorbar\":{\"outlinewidth\":0,\"ticks\":\"\"}}}],\"scatterpolar\":[{\"type\":\"scatterpolar\",\"marker\":{\"colorbar\":{\"outlinewidth\":0,\"ticks\":\"\"}}}],\"histogram\":[{\"marker\":{\"pattern\":{\"fillmode\":\"overlay\",\"size\":10,\"solidity\":0.2}},\"type\":\"histogram\"}],\"scattergl\":[{\"type\":\"scattergl\",\"marker\":{\"colorbar\":{\"outlinewidth\":0,\"ticks\":\"\"}}}],\"scatter3d\":[{\"type\":\"scatter3d\",\"line\":{\"colorbar\":{\"outlinewidth\":0,\"ticks\":\"\"}},\"marker\":{\"colorbar\":{\"outlinewidth\":0,\"ticks\":\"\"}}}],\"scattermapbox\":[{\"type\":\"scattermapbox\",\"marker\":{\"colorbar\":{\"outlinewidth\":0,\"ticks\":\"\"}}}],\"scatterternary\":[{\"type\":\"scatterternary\",\"marker\":{\"colorbar\":{\"outlinewidth\":0,\"ticks\":\"\"}}}],\"scattercarpet\":[{\"type\":\"scattercarpet\",\"marker\":{\"colorbar\":{\"outlinewidth\":0,\"ticks\":\"\"}}}],\"carpet\":[{\"aaxis\":{\"endlinecolor\":\"#2a3f5f\",\"gridcolor\":\"white\",\"linecolor\":\"white\",\"minorgridcolor\":\"white\",\"startlinecolor\":\"#2a3f5f\"},\"baxis\":{\"endlinecolor\":\"#2a3f5f\",\"gridcolor\":\"white\",\"linecolor\":\"white\",\"minorgridcolor\":\"white\",\"startlinecolor\":\"#2a3f5f\"},\"type\":\"carpet\"}],\"table\":[{\"cells\":{\"fill\":{\"color\":\"#EBF0F8\"},\"line\":{\"color\":\"white\"}},\"header\":{\"fill\":{\"color\":\"#C8D4E3\"},\"line\":{\"color\":\"white\"}},\"type\":\"table\"}],\"barpolar\":[{\"marker\":{\"line\":{\"color\":\"#E5ECF6\",\"width\":0.5},\"pattern\":{\"fillmode\":\"overlay\",\"size\":10,\"solidity\":0.2}},\"type\":\"barpolar\"}],\"pie\":[{\"automargin\":true,\"type\":\"pie\"}]},\"layout\":{\"autotypenumbers\":\"strict\",\"colorway\":[\"#636efa\",\"#EF553B\",\"#00cc96\",\"#ab63fa\",\"#FFA15A\",\"#19d3f3\",\"#FF6692\",\"#B6E880\",\"#FF97FF\",\"#FECB52\"],\"font\":{\"color\":\"#2a3f5f\"},\"hovermode\":\"closest\",\"hoverlabel\":{\"align\":\"left\"},\"paper_bgcolor\":\"white\",\"plot_bgcolor\":\"#E5ECF6\",\"polar\":{\"bgcolor\":\"#E5ECF6\",\"angularaxis\":{\"gridcolor\":\"white\",\"linecolor\":\"white\",\"ticks\":\"\"},\"radialaxis\":{\"gridcolor\":\"white\",\"linecolor\":\"white\",\"ticks\":\"\"}},\"ternary\":{\"bgcolor\":\"#E5ECF6\",\"aaxis\":{\"gridcolor\":\"white\",\"linecolor\":\"white\",\"ticks\":\"\"},\"baxis\":{\"gridcolor\":\"white\",\"linecolor\":\"white\",\"ticks\":\"\"},\"caxis\":{\"gridcolor\":\"white\",\"linecolor\":\"white\",\"ticks\":\"\"}},\"coloraxis\":{\"colorbar\":{\"outlinewidth\":0,\"ticks\":\"\"}},\"colorscale\":{\"sequential\":[[0.0,\"#0d0887\"],[0.1111111111111111,\"#46039f\"],[0.2222222222222222,\"#7201a8\"],[0.3333333333333333,\"#9c179e\"],[0.4444444444444444,\"#bd3786\"],[0.5555555555555556,\"#d8576b\"],[0.6666666666666666,\"#ed7953\"],[0.7777777777777778,\"#fb9f3a\"],[0.8888888888888888,\"#fdca26\"],[1.0,\"#f0f921\"]],\"sequentialminus\":[[0.0,\"#0d0887\"],[0.1111111111111111,\"#46039f\"],[0.2222222222222222,\"#7201a8\"],[0.3333333333333333,\"#9c179e\"],[0.4444444444444444,\"#bd3786\"],[0.5555555555555556,\"#d8576b\"],[0.6666666666666666,\"#ed7953\"],[0.7777777777777778,\"#fb9f3a\"],[0.8888888888888888,\"#fdca26\"],[1.0,\"#f0f921\"]],\"diverging\":[[0,\"#8e0152\"],[0.1,\"#c51b7d\"],[0.2,\"#de77ae\"],[0.3,\"#f1b6da\"],[0.4,\"#fde0ef\"],[0.5,\"#f7f7f7\"],[0.6,\"#e6f5d0\"],[0.7,\"#b8e186\"],[0.8,\"#7fbc41\"],[0.9,\"#4d9221\"],[1,\"#276419\"]]},\"xaxis\":{\"gridcolor\":\"white\",\"linecolor\":\"white\",\"ticks\":\"\",\"title\":{\"standoff\":15},\"zerolinecolor\":\"white\",\"automargin\":true,\"zerolinewidth\":2},\"yaxis\":{\"gridcolor\":\"white\",\"linecolor\":\"white\",\"ticks\":\"\",\"title\":{\"standoff\":15},\"zerolinecolor\":\"white\",\"automargin\":true,\"zerolinewidth\":2},\"scene\":{\"xaxis\":{\"backgroundcolor\":\"#E5ECF6\",\"gridcolor\":\"white\",\"linecolor\":\"white\",\"showbackground\":true,\"ticks\":\"\",\"zerolinecolor\":\"white\",\"gridwidth\":2},\"yaxis\":{\"backgroundcolor\":\"#E5ECF6\",\"gridcolor\":\"white\",\"linecolor\":\"white\",\"showbackground\":true,\"ticks\":\"\",\"zerolinecolor\":\"white\",\"gridwidth\":2},\"zaxis\":{\"backgroundcolor\":\"#E5ECF6\",\"gridcolor\":\"white\",\"linecolor\":\"white\",\"showbackground\":true,\"ticks\":\"\",\"zerolinecolor\":\"white\",\"gridwidth\":2}},\"shapedefaults\":{\"line\":{\"color\":\"#2a3f5f\"}},\"annotationdefaults\":{\"arrowcolor\":\"#2a3f5f\",\"arrowhead\":0,\"arrowwidth\":1},\"geo\":{\"bgcolor\":\"white\",\"landcolor\":\"#E5ECF6\",\"subunitcolor\":\"white\",\"showland\":true,\"showlakes\":true,\"lakecolor\":\"white\"},\"title\":{\"x\":0.05},\"mapbox\":{\"style\":\"light\"}}}},                        {\"responsive\": true}                    ).then(function(){\n",
              "                            \n",
              "var gd = document.getElementById('62c7f5ce-3dbb-4aad-9021-1ec99a989bea');\n",
              "var x = new MutationObserver(function (mutations, observer) {{\n",
              "        var display = window.getComputedStyle(gd).display;\n",
              "        if (!display || display === 'none') {{\n",
              "            console.log([gd, 'removed!']);\n",
              "            Plotly.purge(gd);\n",
              "            observer.disconnect();\n",
              "        }}\n",
              "}});\n",
              "\n",
              "// Listen for the removal of the full notebook cells\n",
              "var notebookContainer = gd.closest('#notebook-container');\n",
              "if (notebookContainer) {{\n",
              "    x.observe(notebookContainer, {childList: true});\n",
              "}}\n",
              "\n",
              "// Listen for the clearing of the current output cell\n",
              "var outputEl = gd.closest('.output');\n",
              "if (outputEl) {{\n",
              "    x.observe(outputEl, {childList: true});\n",
              "}}\n",
              "\n",
              "                        })                };                            </script>        </div>\n",
              "</body>\n",
              "</html>"
            ]
          },
          "metadata": {}
        },
        {
          "output_type": "stream",
          "name": "stdout",
          "text": [
            "[LOG] Computing render for distance 2.22, elevation 315, angle 154\n",
            "[LOG] Computing render for distance 1.98, elevation 47, angle 205\n",
            "[LOG] Computing render for distance 1.16, elevation 6, angle 357\n",
            "[LOG] Computing render for distance 1.12, elevation 289, angle 109\n"
          ]
        }
      ]
    },
    {
      "cell_type": "code",
      "source": [
        "torch.autograd.set_detect_anomaly(True)\n",
        "\n",
        "for epoch in range(num_epochs):\n",
        "  vertss = sample_mesh_verts\n",
        "  mesh_augmented_images = model(vertss)\n",
        "\n",
        "  total_loss = 0\n",
        "\n",
        "  for mesh_augmented_image in mesh_augmented_images:\n",
        "    mesh_augmented_image.requires_grad_(True)\n",
        "    for guid_rendered_image in guid_rendered_images:\n",
        "      guid_rendered_image = guid_rendered_image.squeeze(0)\n",
        "      guid_rendered_image = guid_rendered_image.permute(2, 0, 1)\n",
        "      guid_rendered_image.requires_grad_(True)\n",
        "      loss = criterion(mesh_augmented_image, guid_rendered_image)\n",
        "      optimizer.zero_grad()\n",
        "      loss.backward(retain_graph=True)\n",
        "      optimizer.step()\n",
        "      total_loss += loss.item()\n",
        "\n",
        "  print(f'Epoch {epoch+1}/{num_epochs}, Loss: {total_loss}')"
      ],
      "metadata": {
        "colab": {
          "base_uri": "https://localhost:8080/",
          "height": 1000
        },
        "id": "LXZRV12tP6Z-",
        "outputId": "d5a5e299-3668-4cab-9e22-916d57441d76"
      },
      "execution_count": null,
      "outputs": [
        {
          "output_type": "stream",
          "name": "stdout",
          "text": [
            "\n",
            "[LOG] ************* NeuralStyleField forward: START *************\n",
            "\n",
            "[LOG] Input shape: torch.Size([48, 3])\n",
            "----------\n",
            "[LOG] \tPositionalEncodingNet input shape: torch.Size([48, 3])\n",
            "[LOG] \tPositionalEncodingNet output shape: torch.Size([48, 256])\n",
            "----------\n",
            "----------\n",
            "[LOG] \tEmbeddingNet input shape: torch.Size([48, 256])\n",
            "[LOG] \tEmbeddingNet output shape: torch.Size([48, 256])\n",
            "----------\n",
            "----------\n",
            "[LOG] \tDisplacementNet input shape: torch.Size([48, 256])\n",
            "[LOG] \tDisplacementNet output shape: torch.Size([48, 1])\n",
            "----------\n",
            "[LOG] Output shape: torch.Size([48, 1])\n",
            "\n",
            "[LOG] ************* NeuralStyleField forward: END *************\n"
          ]
        },
        {
          "output_type": "stream",
          "name": "stderr",
          "text": [
            "/usr/local/lib/python3.10/dist-packages/torch/autograd/__init__.py:251: UserWarning:\n",
            "\n",
            "Error detected in torch::autograd::CopySlices. Traceback of forward call that caused the error:\n",
            "  File \"/usr/lib/python3.10/runpy.py\", line 196, in _run_module_as_main\n",
            "    return _run_code(code, main_globals, None,\n",
            "  File \"/usr/lib/python3.10/runpy.py\", line 86, in _run_code\n",
            "    exec(code, run_globals)\n",
            "  File \"/usr/local/lib/python3.10/dist-packages/colab_kernel_launcher.py\", line 37, in <module>\n",
            "    ColabKernelApp.launch_instance()\n",
            "  File \"/usr/local/lib/python3.10/dist-packages/traitlets/config/application.py\", line 992, in launch_instance\n",
            "    app.start()\n",
            "  File \"/usr/local/lib/python3.10/dist-packages/ipykernel/kernelapp.py\", line 619, in start\n",
            "    self.io_loop.start()\n",
            "  File \"/usr/local/lib/python3.10/dist-packages/tornado/platform/asyncio.py\", line 195, in start\n",
            "    self.asyncio_loop.run_forever()\n",
            "  File \"/usr/lib/python3.10/asyncio/base_events.py\", line 603, in run_forever\n",
            "    self._run_once()\n",
            "  File \"/usr/lib/python3.10/asyncio/base_events.py\", line 1909, in _run_once\n",
            "    handle._run()\n",
            "  File \"/usr/lib/python3.10/asyncio/events.py\", line 80, in _run\n",
            "    self._context.run(self._callback, *self._args)\n",
            "  File \"/usr/local/lib/python3.10/dist-packages/tornado/ioloop.py\", line 685, in <lambda>\n",
            "    lambda f: self._run_callback(functools.partial(callback, future))\n",
            "  File \"/usr/local/lib/python3.10/dist-packages/tornado/ioloop.py\", line 738, in _run_callback\n",
            "    ret = callback()\n",
            "  File \"/usr/local/lib/python3.10/dist-packages/tornado/gen.py\", line 825, in inner\n",
            "    self.ctx_run(self.run)\n",
            "  File \"/usr/local/lib/python3.10/dist-packages/tornado/gen.py\", line 786, in run\n",
            "    yielded = self.gen.send(value)\n",
            "  File \"/usr/local/lib/python3.10/dist-packages/ipykernel/kernelbase.py\", line 361, in process_one\n",
            "    yield gen.maybe_future(dispatch(*args))\n",
            "  File \"/usr/local/lib/python3.10/dist-packages/tornado/gen.py\", line 234, in wrapper\n",
            "    yielded = ctx_run(next, result)\n",
            "  File \"/usr/local/lib/python3.10/dist-packages/ipykernel/kernelbase.py\", line 261, in dispatch_shell\n",
            "    yield gen.maybe_future(handler(stream, idents, msg))\n",
            "  File \"/usr/local/lib/python3.10/dist-packages/tornado/gen.py\", line 234, in wrapper\n",
            "    yielded = ctx_run(next, result)\n",
            "  File \"/usr/local/lib/python3.10/dist-packages/ipykernel/kernelbase.py\", line 539, in execute_request\n",
            "    self.do_execute(\n",
            "  File \"/usr/local/lib/python3.10/dist-packages/tornado/gen.py\", line 234, in wrapper\n",
            "    yielded = ctx_run(next, result)\n",
            "  File \"/usr/local/lib/python3.10/dist-packages/ipykernel/ipkernel.py\", line 302, in do_execute\n",
            "    res = shell.run_cell(code, store_history=store_history, silent=silent)\n",
            "  File \"/usr/local/lib/python3.10/dist-packages/ipykernel/zmqshell.py\", line 539, in run_cell\n",
            "    return super(ZMQInteractiveShell, self).run_cell(*args, **kwargs)\n",
            "  File \"/usr/local/lib/python3.10/dist-packages/IPython/core/interactiveshell.py\", line 2975, in run_cell\n",
            "    result = self._run_cell(\n",
            "  File \"/usr/local/lib/python3.10/dist-packages/IPython/core/interactiveshell.py\", line 3030, in _run_cell\n",
            "    return runner(coro)\n",
            "  File \"/usr/local/lib/python3.10/dist-packages/IPython/core/async_helpers.py\", line 78, in _pseudo_sync_runner\n",
            "    coro.send(None)\n",
            "  File \"/usr/local/lib/python3.10/dist-packages/IPython/core/interactiveshell.py\", line 3257, in run_cell_async\n",
            "    has_raised = await self.run_ast_nodes(code_ast.body, cell_name,\n",
            "  File \"/usr/local/lib/python3.10/dist-packages/IPython/core/interactiveshell.py\", line 3473, in run_ast_nodes\n",
            "    if (await self.run_code(code, result,  async_=asy)):\n",
            "  File \"/usr/local/lib/python3.10/dist-packages/IPython/core/interactiveshell.py\", line 3553, in run_code\n",
            "    exec(code_obj, self.user_global_ns, self.user_ns)\n",
            "  File \"<ipython-input-93-5e911673c6a2>\", line 31, in <cell line: 31>\n",
            "    input_mesh.offset_verts_(input_mesh.verts_list()[0]+pred_disp)\n",
            "  File \"/usr/local/lib/python3.10/dist-packages/pytorch3d/structures/meshes.py\", line 1313, in offset_verts_\n",
            "    self._verts_padded[i, : verts.shape[0], :] = verts\n",
            " (Triggered internally at ../torch/csrc/autograd/python_anomaly_mode.cpp:114.)\n",
            "\n"
          ]
        },
        {
          "output_type": "error",
          "ename": "RuntimeError",
          "evalue": "ignored",
          "traceback": [
            "\u001b[0;31m---------------------------------------------------------------------------\u001b[0m",
            "\u001b[0;31mRuntimeError\u001b[0m                              Traceback (most recent call last)",
            "\u001b[0;32m<ipython-input-103-8d50d9030a63>\u001b[0m in \u001b[0;36m<cell line: 3>\u001b[0;34m()\u001b[0m\n\u001b[1;32m     15\u001b[0m       \u001b[0mloss\u001b[0m \u001b[0;34m=\u001b[0m \u001b[0mcriterion\u001b[0m\u001b[0;34m(\u001b[0m\u001b[0mmesh_augmented_image\u001b[0m\u001b[0;34m,\u001b[0m \u001b[0mguid_rendered_image\u001b[0m\u001b[0;34m)\u001b[0m\u001b[0;34m\u001b[0m\u001b[0;34m\u001b[0m\u001b[0m\n\u001b[1;32m     16\u001b[0m       \u001b[0moptimizer\u001b[0m\u001b[0;34m.\u001b[0m\u001b[0mzero_grad\u001b[0m\u001b[0;34m(\u001b[0m\u001b[0;34m)\u001b[0m\u001b[0;34m\u001b[0m\u001b[0;34m\u001b[0m\u001b[0m\n\u001b[0;32m---> 17\u001b[0;31m       \u001b[0mloss\u001b[0m\u001b[0;34m.\u001b[0m\u001b[0mbackward\u001b[0m\u001b[0;34m(\u001b[0m\u001b[0mretain_graph\u001b[0m\u001b[0;34m=\u001b[0m\u001b[0;32mTrue\u001b[0m\u001b[0;34m)\u001b[0m\u001b[0;34m\u001b[0m\u001b[0;34m\u001b[0m\u001b[0m\n\u001b[0m\u001b[1;32m     18\u001b[0m       \u001b[0moptimizer\u001b[0m\u001b[0;34m.\u001b[0m\u001b[0mstep\u001b[0m\u001b[0;34m(\u001b[0m\u001b[0;34m)\u001b[0m\u001b[0;34m\u001b[0m\u001b[0;34m\u001b[0m\u001b[0m\n\u001b[1;32m     19\u001b[0m       \u001b[0mtotal_loss\u001b[0m \u001b[0;34m+=\u001b[0m \u001b[0mloss\u001b[0m\u001b[0;34m.\u001b[0m\u001b[0mitem\u001b[0m\u001b[0;34m(\u001b[0m\u001b[0;34m)\u001b[0m\u001b[0;34m\u001b[0m\u001b[0;34m\u001b[0m\u001b[0m\n",
            "\u001b[0;32m/usr/local/lib/python3.10/dist-packages/torch/_tensor.py\u001b[0m in \u001b[0;36mbackward\u001b[0;34m(self, gradient, retain_graph, create_graph, inputs)\u001b[0m\n\u001b[1;32m    490\u001b[0m                 \u001b[0minputs\u001b[0m\u001b[0;34m=\u001b[0m\u001b[0minputs\u001b[0m\u001b[0;34m,\u001b[0m\u001b[0;34m\u001b[0m\u001b[0;34m\u001b[0m\u001b[0m\n\u001b[1;32m    491\u001b[0m             )\n\u001b[0;32m--> 492\u001b[0;31m         torch.autograd.backward(\n\u001b[0m\u001b[1;32m    493\u001b[0m             \u001b[0mself\u001b[0m\u001b[0;34m,\u001b[0m \u001b[0mgradient\u001b[0m\u001b[0;34m,\u001b[0m \u001b[0mretain_graph\u001b[0m\u001b[0;34m,\u001b[0m \u001b[0mcreate_graph\u001b[0m\u001b[0;34m,\u001b[0m \u001b[0minputs\u001b[0m\u001b[0;34m=\u001b[0m\u001b[0minputs\u001b[0m\u001b[0;34m\u001b[0m\u001b[0;34m\u001b[0m\u001b[0m\n\u001b[1;32m    494\u001b[0m         )\n",
            "\u001b[0;32m/usr/local/lib/python3.10/dist-packages/torch/autograd/__init__.py\u001b[0m in \u001b[0;36mbackward\u001b[0;34m(tensors, grad_tensors, retain_graph, create_graph, grad_variables, inputs)\u001b[0m\n\u001b[1;32m    249\u001b[0m     \u001b[0;31m# some Python versions print out the first line of a multi-line function\u001b[0m\u001b[0;34m\u001b[0m\u001b[0;34m\u001b[0m\u001b[0m\n\u001b[1;32m    250\u001b[0m     \u001b[0;31m# calls in the traceback and some print out the last line\u001b[0m\u001b[0;34m\u001b[0m\u001b[0;34m\u001b[0m\u001b[0m\n\u001b[0;32m--> 251\u001b[0;31m     Variable._execution_engine.run_backward(  # Calls into the C++ engine to run the backward pass\n\u001b[0m\u001b[1;32m    252\u001b[0m         \u001b[0mtensors\u001b[0m\u001b[0;34m,\u001b[0m\u001b[0;34m\u001b[0m\u001b[0;34m\u001b[0m\u001b[0m\n\u001b[1;32m    253\u001b[0m         \u001b[0mgrad_tensors_\u001b[0m\u001b[0;34m,\u001b[0m\u001b[0;34m\u001b[0m\u001b[0;34m\u001b[0m\u001b[0m\n",
            "\u001b[0;31mRuntimeError\u001b[0m: Trying to backward through the graph a second time (or directly access saved tensors after they have already been freed). Saved intermediate values of the graph are freed when you call .backward() or autograd.grad(). Specify retain_graph=True if you need to backward through the graph a second time or if you need to access saved tensors after calling backward."
          ]
        }
      ]
    }
  ]
}